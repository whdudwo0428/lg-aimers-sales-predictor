{
 "cells": [
  {
   "cell_type": "code",
   "execution_count": 15,
   "id": "e17aee53",
   "metadata": {},
   "outputs": [],
   "source": [
    "#!pip install gluonts==0.14.4\n",
    "#!pip install 'gluonts[torch]'\n",
    "#!pip install --upgrade gluonts\n",
    "#!pip install --upgrade transformers"
   ]
  },
  {
   "cell_type": "code",
   "execution_count": 1,
   "id": "79387a7b",
   "metadata": {},
   "outputs": [
    {
     "name": "stderr",
     "output_type": "stream",
     "text": [
      "/workspace/myenv/lib/python3.11/site-packages/tqdm/auto.py:21: TqdmWarning: IProgress not found. Please update jupyter and ipywidgets. See https://ipywidgets.readthedocs.io/en/stable/user_install.html\n",
      "  from .autonotebook import tqdm as notebook_tqdm\n"
     ]
    },
    {
     "name": "stdout",
     "output_type": "stream",
     "text": [
      "cuda\n"
     ]
    }
   ],
   "source": [
    "import pandas as pd\n",
    "import numpy as np\n",
    "import torch\n",
    "from sklearn.preprocessing import LabelEncoder\n",
    "import holidays\n",
    "from transformers import PatchTSTConfig, PatchTSTForPrediction, TrainingArguments, Trainer\n",
    "\n",
    "# 💡 라이브러리 변경: tsfm_public의 도구들을 가져옵니다.\n",
    "from tsfm_public.toolkit.time_series_preprocessor import TimeSeriesPreprocessor\n",
    "from tsfm_public.toolkit.dataset import ForecastDFDataset\n",
    "\n",
    "DEVICE = \"cuda\" if torch.cuda.is_available() else \"cpu\"\n",
    "print(DEVICE)"
   ]
  },
  {
   "cell_type": "code",
   "execution_count": 2,
   "id": "f2a178ae",
   "metadata": {},
   "outputs": [],
   "source": [
    "import torch\n",
    "import torch.nn.functional as F\n",
    "from transformers.models.patchtst.modeling_patchtst import PatchTSTForPrediction\n",
    "\n",
    "TARGET_CH = 0  # sales_log 채널 인덱스(보통 0)\n",
    "\n",
    "class PatchTSTSalesOnly(torch.nn.Module):\n",
    "    def __init__(self, base: PatchTSTForPrediction, target_ch: int = TARGET_CH):\n",
    "        super().__init__()\n",
    "        self.base = base\n",
    "        self.target_ch = target_ch\n",
    "        self.config = base.config  # HF가 참조\n",
    "\n",
    "    # ★ Trainer가 state_dict 저장할 때 base만 저장되도록\n",
    "    def state_dict(self, *args, **kwargs):\n",
    "        return self.base.state_dict(*args, **kwargs)\n",
    "\n",
    "    # ★ 로드 시에도 base로 로드되도록\n",
    "    def load_state_dict(self, state_dict, strict=True):\n",
    "        return self.base.load_state_dict(state_dict, strict)\n",
    "\n",
    "    # ★ 명시적으로 HuggingFace 형식으로 저장하고 싶을 때\n",
    "    def save_pretrained(self, save_directory):\n",
    "        self.base.save_pretrained(save_directory)\n",
    "\n",
    "    @staticmethod\n",
    "    def _extract_preds_from_output(out, pred_len: int, num_in_ch: int):\n",
    "        # dict-like\n",
    "        if hasattr(out, \"keys\"):\n",
    "            for k in [\"logits\", \"predictions\", \"prediction_outputs\", \"y_hat\", \"yhat\", \"forecast\"]:\n",
    "                v = out.get(k, None)\n",
    "                if isinstance(v, torch.Tensor):\n",
    "                    return v\n",
    "        # attribute\n",
    "        for k in [\"logits\", \"predictions\", \"prediction_outputs\", \"y_hat\", \"yhat\", \"forecast\"]:\n",
    "            v = getattr(out, k, None)\n",
    "            if isinstance(v, torch.Tensor):\n",
    "                return v\n",
    "        # tuple/list\n",
    "        if isinstance(out, (tuple, list)):\n",
    "            cand = [t for t in out if isinstance(t, torch.Tensor)]\n",
    "            for t in cand:\n",
    "                if t.ndim == 3 and t.shape[-2] == pred_len and (t.shape[-1] in (1, num_in_ch)):\n",
    "                    return t\n",
    "            for t in cand:\n",
    "                if t.ndim == 2 and t.shape[-1] == pred_len:\n",
    "                    return t\n",
    "            if cand:\n",
    "                return max(cand, key=lambda x: x.numel())\n",
    "        # fallback to tuple conversion\n",
    "        try:\n",
    "            tup = out.to_tuple()\n",
    "            for t in tup:\n",
    "                if isinstance(t, torch.Tensor) and t.ndim >= 2:\n",
    "                    return t\n",
    "        except Exception:\n",
    "            pass\n",
    "        raise AttributeError(\"예측 텐서를 출력에서 찾지 못했습니다.\")\n",
    "\n",
    "    def forward(self, past_values, past_observed_mask=None, future_values=None, **kwargs):\n",
    "        # 내부 기본 loss는 피하고 예측만 얻기 위해 future_values=None으로 호출\n",
    "        base_out = self.base(\n",
    "            past_values=past_values,\n",
    "            past_observed_mask=past_observed_mask,\n",
    "            future_values=None,\n",
    "            **kwargs\n",
    "        )\n",
    "\n",
    "        # 예측 텐서 추출\n",
    "        preds_all = self._extract_preds_from_output(\n",
    "            base_out,\n",
    "            pred_len=self.config.prediction_length,\n",
    "            num_in_ch=self.config.num_input_channels,\n",
    "        )  # (B, pred_len, C) or (B, pred_len)\n",
    "\n",
    "        # 타깃 채널만 선택\n",
    "        if preds_all.ndim == 3:\n",
    "            preds_target = preds_all[..., self.target_ch]  # (B, pred_len)\n",
    "        else:\n",
    "            preds_target = preds_all  # 이미 (B, pred_len)\n",
    "\n",
    "        # 라벨도 타깃 채널만으로 맞춰서 손실 계산\n",
    "        loss = None\n",
    "        if future_values is not None:\n",
    "            fv = future_values\n",
    "            if fv.ndim == 3 and fv.shape[-1] == self.config.num_input_channels:\n",
    "                target = fv[..., self.target_ch].float()      # (B, pred_len)\n",
    "            elif fv.ndim == 3 and fv.shape[-1] == 1:\n",
    "                target = fv.squeeze(-1).float()               # (B, pred_len)\n",
    "            elif fv.ndim == 2:\n",
    "                target = fv.float()\n",
    "            else:\n",
    "                raise RuntimeError(f\"future_values shape 예상 밖: {fv.shape}\")\n",
    "            loss = F.mse_loss(preds_target.float(), target)\n",
    "\n",
    "        # HF Trainer가 인식하는 dict 반환 (loss/logits 필수)\n",
    "        ret = {\n",
    "            \"logits\": preds_target,           # predict/eval에서 사용\n",
    "            \"predictions\": preds_target,      # predict() 시 편의\n",
    "        }\n",
    "        if loss is not None:\n",
    "            ret[\"loss\"] = loss\n",
    "        # 필요하면 loc/scale도 패스스루\n",
    "        for k in [\"loc\", \"scale\"]:\n",
    "            v = getattr(base_out, k, None) if not isinstance(base_out, dict) else base_out.get(k, None)\n",
    "            if isinstance(v, torch.Tensor):\n",
    "                ret[k] = v\n",
    "        return ret\n"
   ]
  },
  {
   "cell_type": "markdown",
   "id": "a37fdbd2",
   "metadata": {},
   "source": [
    "## 학습 데이터 준비"
   ]
  },
  {
   "cell_type": "code",
   "execution_count": 3,
   "id": "a1b84831",
   "metadata": {},
   "outputs": [
    {
     "name": "stdout",
     "output_type": "stream",
     "text": [
      "데이터 전처리 완료. DataFrame 샘플:\n",
      "        date          store_menu  sales  sales_log  store_menu_id  is_holiday  \\\n",
      "0 2023-01-01  느티나무 셀프BBQ_1인 수저세트    0.0        0.0              0           1   \n",
      "1 2023-01-02  느티나무 셀프BBQ_1인 수저세트    0.0        0.0              0           0   \n",
      "2 2023-01-03  느티나무 셀프BBQ_1인 수저세트    0.0        0.0              0           0   \n",
      "3 2023-01-04  느티나무 셀프BBQ_1인 수저세트    0.0        0.0              0           0   \n",
      "4 2023-01-05  느티나무 셀프BBQ_1인 수저세트    0.0        0.0              0           0   \n",
      "\n",
      "   is_weekend  is_ski_season  \n",
      "0           1              1  \n",
      "1           0              1  \n",
      "2           0              1  \n",
      "3           0              1  \n",
      "4           0              1  \n"
     ]
    },
    {
     "name": "stderr",
     "output_type": "stream",
     "text": [
      "/tmp/ipykernel_7215/2784944674.py:20: FutureWarning: The behavior of 'isin' with dtype=datetime64[ns] and castable values (e.g. strings) is deprecated. In a future version, these will not be considered matching by isin. Explicitly cast to the appropriate dtype before calling isin instead.\n",
      "  df[\"is_holiday\"] = df[\"date\"].isin(kr_holidays).astype(int)\n"
     ]
    }
   ],
   "source": [
    "# ==============================================\n",
    "# 1. 데이터 로드 및 전처리 (사용자 코드 유지)\n",
    "# ==============================================\n",
    "df = pd.read_csv(\"./dataset/train/train.csv\")\n",
    "df.columns = [\"date\", \"store_menu\", \"sales\"]\n",
    "df[\"date\"] = pd.to_datetime(df[\"date\"])\n",
    "\n",
    "df.loc[df['sales'] < 0, 'sales'] = 0\n",
    "df[\"sales\"] = df[\"sales\"].astype(float)\n",
    "df[\"sales_log\"] = np.log1p(df[\"sales\"])     # target은 이제 sales_log\n",
    "\n",
    "# entity embedding용 ID 인코딩\n",
    "# LabelEncoder 객체를 저장해두면 나중에 원래 이름으로 복원할 때 유용합니다.\n",
    "encoder = LabelEncoder()\n",
    "df[\"store_menu_id\"] = encoder.fit_transform(df[\"store_menu\"])\n",
    "num_entities = df[\"store_menu_id\"].nunique() # 고유 ID 개수 저장\n",
    "\n",
    "# feature 추가\n",
    "kr_holidays = holidays.KR(years=df['date'].dt.year.unique())\n",
    "df[\"is_holiday\"] = df[\"date\"].isin(kr_holidays).astype(int)\n",
    "df[\"is_weekend\"] = df[\"date\"].dt.day_of_week.isin([5, 6]).astype(int)\n",
    "df[\"is_ski_season\"] = df[\"date\"].dt.month.isin([12, 1, 2]).astype(int)\n",
    "\n",
    "print(\"데이터 전처리 완료. DataFrame 샘플:\")\n",
    "print(df.head())"
   ]
  },
  {
   "cell_type": "code",
   "execution_count": 4,
   "id": "aba0ec9f",
   "metadata": {},
   "outputs": [
    {
     "name": "stdout",
     "output_type": "stream",
     "text": [
      "데이터셋 변환 완료 ✅\n",
      "train_dataset 길이: 93219\n",
      "valid_dataset 길이: 96114\n"
     ]
    }
   ],
   "source": [
    "# ==============================================\n",
    "# 2. ForecastDFDataset으로 변환\n",
    "# ==============================================\n",
    "forecast_horizon = 7\n",
    "context_length = 28\n",
    "\n",
    "# 학습/검증 데이터 분리\n",
    "split_date = df['date'].max() - pd.Timedelta(days=forecast_horizon * 2)\n",
    "train_data = df[df['date'] < split_date]\n",
    "valid_data = df  # 검증 데이터는 전체 사용\n",
    "\n",
    "# ForecastDFDataset 생성\n",
    "train_dataset = ForecastDFDataset(\n",
    "    train_data,\n",
    "    id_columns=[\"store_menu_id\"],\n",
    "    timestamp_column=\"date\",\n",
    "    target_columns=[\"sales_log\"],\n",
    "    control_columns=[\"is_holiday\", \"is_weekend\", \"is_ski_season\"],\n",
    "    context_length=context_length,\n",
    "    prediction_length=forecast_horizon,\n",
    ")\n",
    "\n",
    "valid_dataset = ForecastDFDataset(\n",
    "    valid_data,\n",
    "    id_columns=[\"store_menu_id\"],\n",
    "    timestamp_column=\"date\",\n",
    "    target_columns=[\"sales_log\"],\n",
    "    control_columns=[\"is_holiday\", \"is_weekend\", \"is_ski_season\"],\n",
    "    context_length=context_length,\n",
    "    prediction_length=forecast_horizon,\n",
    ")\n",
    "\n",
    "print(\"데이터셋 변환 완료 ✅\")\n",
    "print(\"train_dataset 길이:\", len(train_dataset))\n",
    "print(\"valid_dataset 길이:\", len(valid_dataset))"
   ]
  },
  {
   "cell_type": "markdown",
   "id": "49f05579",
   "metadata": {},
   "source": [
    "## 모델 및 학습 설정"
   ]
  },
  {
   "cell_type": "code",
   "execution_count": 5,
   "id": "df7cfdbb",
   "metadata": {},
   "outputs": [],
   "source": [
    "# ==============================================\n",
    "# 3. PatchTST 모델 및 학습 설정 (Hugging Face 코드)\n",
    "# ==============================================\n",
    "config = PatchTSTConfig(\n",
    "    # --- 데이터 관련 설정 ---\n",
    "    num_input_channels=4, # sales + 3 known covariates\n",
    "    context_length=context_length,\n",
    "    prediction_length=forecast_horizon,\n",
    "    # 💡 시간에 따라 변하는 외부 변수의 개수\n",
    "    num_time_varying_known_reals=3, # is_holiday, is_weekend, is_ski_season\n",
    "\n",
    "    # --- Entity Embedding 관련 설정 ---\n",
    "    # 💡 고유 ID를 embedding 하기 위한 설정\n",
    "    num_static_categorical_features=1, # store_menu_id 1개\n",
    "    cardinality=[num_entities],      # store_menu_id의 고유값 개수\n",
    "    embedding_dimension=[32],        # store_menu_id를 32차원으로 임베딩\n",
    "\n",
    "    # --- 모델 구조 설정 ---\n",
    "    patch_length=8,\n",
    "    patch_stride=8,\n",
    "    d_model=128,\n",
    "    num_attention_heads=16,\n",
    "    num_hidden_layers=3,\n",
    "    ffn_dim=256,\n",
    "    dropout=0.2,\n",
    "    head_dropout=0.2,\n",
    "    scaling=\"std\",\n",
    "    loss=\"mse\",\n",
    ")\n",
    "\n",
    "#model = PatchTSTForPrediction(config)\n",
    "# 기존 구성\n",
    "base_model = PatchTSTForPrediction(config)\n",
    "\n",
    "# 래핑\n",
    "model = PatchTSTSalesOnly(base_model, target_ch=0)\n",
    "\n",
    "training_args = TrainingArguments(\n",
    "    output_dir=\"./patchtst_sales_forecast\",\n",
    "    overwrite_output_dir=True,\n",
    "    num_train_epochs=50, # 예시로 에폭 수 줄임\n",
    "    do_eval=True,\n",
    "    eval_strategy=\"epoch\",\n",
    "    per_device_train_batch_size=64,\n",
    "    per_device_eval_batch_size=64,\n",
    "    save_strategy=\"epoch\",\n",
    "    save_total_limit=3,\n",
    "    load_best_model_at_end=True,\n",
    "    metric_for_best_model=\"eval_loss\",\n",
    "    greater_is_better=False,\n",
    "    label_names=[\"future_values\"],\n",
    "    dataloader_pin_memory=True,\n",
    "    use_mps_device=False,\n",
    ")\n",
    "\n",
    "# 그대로 Hugging Face Trainer 사용\n",
    "trainer = Trainer(\n",
    "    model=model,\n",
    "    args=training_args,\n",
    "    train_dataset=train_dataset,\n",
    "    eval_dataset=valid_dataset,\n",
    ")"
   ]
  },
  {
   "cell_type": "markdown",
   "id": "6a716c1b",
   "metadata": {},
   "source": [
    "### Optuna"
   ]
  },
  {
   "cell_type": "code",
   "execution_count": 8,
   "id": "7c15d427",
   "metadata": {},
   "outputs": [
    {
     "name": "stdout",
     "output_type": "stream",
     "text": [
      "--- Optuna Trial: Creating model with context=28, horizon=7 ---\n"
     ]
    },
    {
     "name": "stderr",
     "output_type": "stream",
     "text": [
      "[I 2025-08-22 04:34:36,906] A new study created in RDB with name: patchtst_sales_forecast\n"
     ]
    },
    {
     "name": "stdout",
     "output_type": "stream",
     "text": [
      "--- Optuna Trial: Creating model with context=28, horizon=7 ---\n"
     ]
    },
    {
     "data": {
      "text/html": [
       "\n",
       "    <div>\n",
       "      \n",
       "      <progress value='72850' max='72850' style='width:300px; height:20px; vertical-align: middle;'></progress>\n",
       "      [72850/72850 24:20, Epoch 25/25]\n",
       "    </div>\n",
       "    <table border=\"1\" class=\"dataframe\">\n",
       "  <thead>\n",
       " <tr style=\"text-align: left;\">\n",
       "      <th>Epoch</th>\n",
       "      <th>Training Loss</th>\n",
       "      <th>Validation Loss</th>\n",
       "    </tr>\n",
       "  </thead>\n",
       "  <tbody>\n",
       "    <tr>\n",
       "      <td>1</td>\n",
       "      <td>0.697100</td>\n",
       "      <td>0.700241</td>\n",
       "    </tr>\n",
       "    <tr>\n",
       "      <td>2</td>\n",
       "      <td>0.680400</td>\n",
       "      <td>0.671609</td>\n",
       "    </tr>\n",
       "    <tr>\n",
       "      <td>3</td>\n",
       "      <td>0.647800</td>\n",
       "      <td>0.651422</td>\n",
       "    </tr>\n",
       "    <tr>\n",
       "      <td>4</td>\n",
       "      <td>0.622500</td>\n",
       "      <td>0.643771</td>\n",
       "    </tr>\n",
       "    <tr>\n",
       "      <td>5</td>\n",
       "      <td>0.624500</td>\n",
       "      <td>0.626930</td>\n",
       "    </tr>\n",
       "    <tr>\n",
       "      <td>6</td>\n",
       "      <td>0.618900</td>\n",
       "      <td>0.617874</td>\n",
       "    </tr>\n",
       "    <tr>\n",
       "      <td>7</td>\n",
       "      <td>0.615500</td>\n",
       "      <td>0.612385</td>\n",
       "    </tr>\n",
       "    <tr>\n",
       "      <td>8</td>\n",
       "      <td>0.595700</td>\n",
       "      <td>0.605289</td>\n",
       "    </tr>\n",
       "    <tr>\n",
       "      <td>9</td>\n",
       "      <td>0.614500</td>\n",
       "      <td>0.599652</td>\n",
       "    </tr>\n",
       "    <tr>\n",
       "      <td>10</td>\n",
       "      <td>0.605100</td>\n",
       "      <td>0.593043</td>\n",
       "    </tr>\n",
       "    <tr>\n",
       "      <td>11</td>\n",
       "      <td>0.599200</td>\n",
       "      <td>0.589325</td>\n",
       "    </tr>\n",
       "    <tr>\n",
       "      <td>12</td>\n",
       "      <td>0.592500</td>\n",
       "      <td>0.579533</td>\n",
       "    </tr>\n",
       "    <tr>\n",
       "      <td>13</td>\n",
       "      <td>0.584200</td>\n",
       "      <td>0.574930</td>\n",
       "    </tr>\n",
       "    <tr>\n",
       "      <td>14</td>\n",
       "      <td>0.574600</td>\n",
       "      <td>0.570210</td>\n",
       "    </tr>\n",
       "    <tr>\n",
       "      <td>15</td>\n",
       "      <td>0.572600</td>\n",
       "      <td>0.566834</td>\n",
       "    </tr>\n",
       "    <tr>\n",
       "      <td>16</td>\n",
       "      <td>0.569600</td>\n",
       "      <td>0.559949</td>\n",
       "    </tr>\n",
       "    <tr>\n",
       "      <td>17</td>\n",
       "      <td>0.547800</td>\n",
       "      <td>0.554051</td>\n",
       "    </tr>\n",
       "    <tr>\n",
       "      <td>18</td>\n",
       "      <td>0.558300</td>\n",
       "      <td>0.553321</td>\n",
       "    </tr>\n",
       "    <tr>\n",
       "      <td>19</td>\n",
       "      <td>0.557300</td>\n",
       "      <td>0.547655</td>\n",
       "    </tr>\n",
       "    <tr>\n",
       "      <td>20</td>\n",
       "      <td>0.563300</td>\n",
       "      <td>0.543040</td>\n",
       "    </tr>\n",
       "    <tr>\n",
       "      <td>21</td>\n",
       "      <td>0.541300</td>\n",
       "      <td>0.539664</td>\n",
       "    </tr>\n",
       "    <tr>\n",
       "      <td>22</td>\n",
       "      <td>0.542000</td>\n",
       "      <td>0.535614</td>\n",
       "    </tr>\n",
       "    <tr>\n",
       "      <td>23</td>\n",
       "      <td>0.523900</td>\n",
       "      <td>0.532490</td>\n",
       "    </tr>\n",
       "    <tr>\n",
       "      <td>24</td>\n",
       "      <td>0.545900</td>\n",
       "      <td>0.530234</td>\n",
       "    </tr>\n",
       "    <tr>\n",
       "      <td>25</td>\n",
       "      <td>0.520800</td>\n",
       "      <td>0.528571</td>\n",
       "    </tr>\n",
       "  </tbody>\n",
       "</table><p>"
      ],
      "text/plain": [
       "<IPython.core.display.HTML object>"
      ]
     },
     "metadata": {},
     "output_type": "display_data"
    },
    {
     "name": "stderr",
     "output_type": "stream",
     "text": [
      "[I 2025-08-22 04:59:00,551] Trial 0 finished with value: 0.5285714864730835 and parameters: {'learning_rate': 0.00010793239216264518, 'weight_decay': 0.03292088060709223, 'warmup_ratio': 0.04209295418061774, 'lr_scheduler_type': 'polynomial', 'per_device_train_batch_size': 32, 'per_device_eval_batch_size': 64, 'num_train_epochs': 25, 'd_model': 256, 'num_attention_heads': 8, 'num_hidden_layers': 2, 'ffn_dim': 128, 'dropout': 0.28414348884929624, 'head_dropout': 0.07745562098589157, 'patch_length': 1}. Best is trial 0 with value: 0.5285714864730835.\n"
     ]
    },
    {
     "name": "stdout",
     "output_type": "stream",
     "text": [
      "--- Optuna Trial: Creating model with context=28, horizon=7 ---\n"
     ]
    },
    {
     "data": {
      "text/html": [
       "\n",
       "    <div>\n",
       "      \n",
       "      <progress value='7776' max='32076' style='width:300px; height:20px; vertical-align: middle;'></progress>\n",
       "      [ 7776/32076 05:21 < 16:43, 24.21 it/s, Epoch 8/33]\n",
       "    </div>\n",
       "    <table border=\"1\" class=\"dataframe\">\n",
       "  <thead>\n",
       " <tr style=\"text-align: left;\">\n",
       "      <th>Epoch</th>\n",
       "      <th>Training Loss</th>\n",
       "      <th>Validation Loss</th>\n",
       "    </tr>\n",
       "  </thead>\n",
       "  <tbody>\n",
       "    <tr>\n",
       "      <td>1</td>\n",
       "      <td>0.854100</td>\n",
       "      <td>0.802091</td>\n",
       "    </tr>\n",
       "    <tr>\n",
       "      <td>2</td>\n",
       "      <td>0.797300</td>\n",
       "      <td>0.802132</td>\n",
       "    </tr>\n",
       "    <tr>\n",
       "      <td>3</td>\n",
       "      <td>0.803000</td>\n",
       "      <td>0.795645</td>\n",
       "    </tr>\n",
       "    <tr>\n",
       "      <td>4</td>\n",
       "      <td>0.789300</td>\n",
       "      <td>0.759923</td>\n",
       "    </tr>\n",
       "    <tr>\n",
       "      <td>5</td>\n",
       "      <td>0.737600</td>\n",
       "      <td>0.698147</td>\n",
       "    </tr>\n",
       "    <tr>\n",
       "      <td>6</td>\n",
       "      <td>0.698000</td>\n",
       "      <td>0.691560</td>\n",
       "    </tr>\n",
       "    <tr>\n",
       "      <td>7</td>\n",
       "      <td>0.691900</td>\n",
       "      <td>0.692828</td>\n",
       "    </tr>\n",
       "    <tr>\n",
       "      <td>8</td>\n",
       "      <td>0.695900</td>\n",
       "      <td>0.694297</td>\n",
       "    </tr>\n",
       "  </tbody>\n",
       "</table><p>"
      ],
      "text/plain": [
       "<IPython.core.display.HTML object>"
      ]
     },
     "metadata": {},
     "output_type": "display_data"
    },
    {
     "name": "stderr",
     "output_type": "stream",
     "text": [
      "[I 2025-08-22 05:04:23,243] Trial 1 finished with value: 0.6942970156669617 and parameters: {'learning_rate': 4.3996753134659594e-05, 'weight_decay': 0.04991938585704693, 'warmup_ratio': 0.0005219290583927228, 'lr_scheduler_type': 'polynomial', 'per_device_train_batch_size': 96, 'per_device_eval_batch_size': 96, 'num_train_epochs': 33, 'd_model': 64, 'num_attention_heads': 4, 'num_hidden_layers': 2, 'ffn_dim': 256, 'dropout': 0.16749997123468874, 'head_dropout': 0.28141954238719524, 'patch_length': 1}. Best is trial 0 with value: 0.5285714864730835.\n"
     ]
    },
    {
     "name": "stdout",
     "output_type": "stream",
     "text": [
      "--- Optuna Trial: Creating model with context=28, horizon=7 ---\n"
     ]
    },
    {
     "data": {
      "text/html": [
       "\n",
       "    <div>\n",
       "      \n",
       "      <progress value='72850' max='72850' style='width:300px; height:20px; vertical-align: middle;'></progress>\n",
       "      [72850/72850 34:40, Epoch 25/25]\n",
       "    </div>\n",
       "    <table border=\"1\" class=\"dataframe\">\n",
       "  <thead>\n",
       " <tr style=\"text-align: left;\">\n",
       "      <th>Epoch</th>\n",
       "      <th>Training Loss</th>\n",
       "      <th>Validation Loss</th>\n",
       "    </tr>\n",
       "  </thead>\n",
       "  <tbody>\n",
       "    <tr>\n",
       "      <td>1</td>\n",
       "      <td>0.673100</td>\n",
       "      <td>0.667829</td>\n",
       "    </tr>\n",
       "    <tr>\n",
       "      <td>2</td>\n",
       "      <td>0.673200</td>\n",
       "      <td>0.654978</td>\n",
       "    </tr>\n",
       "    <tr>\n",
       "      <td>3</td>\n",
       "      <td>0.650700</td>\n",
       "      <td>0.648486</td>\n",
       "    </tr>\n",
       "    <tr>\n",
       "      <td>4</td>\n",
       "      <td>0.635600</td>\n",
       "      <td>0.642790</td>\n",
       "    </tr>\n",
       "    <tr>\n",
       "      <td>5</td>\n",
       "      <td>0.638900</td>\n",
       "      <td>0.638531</td>\n",
       "    </tr>\n",
       "    <tr>\n",
       "      <td>6</td>\n",
       "      <td>0.636200</td>\n",
       "      <td>0.637543</td>\n",
       "    </tr>\n",
       "    <tr>\n",
       "      <td>7</td>\n",
       "      <td>0.639300</td>\n",
       "      <td>0.634810</td>\n",
       "    </tr>\n",
       "    <tr>\n",
       "      <td>8</td>\n",
       "      <td>0.618000</td>\n",
       "      <td>0.628272</td>\n",
       "    </tr>\n",
       "    <tr>\n",
       "      <td>9</td>\n",
       "      <td>0.643100</td>\n",
       "      <td>0.625247</td>\n",
       "    </tr>\n",
       "    <tr>\n",
       "      <td>10</td>\n",
       "      <td>0.637900</td>\n",
       "      <td>0.622430</td>\n",
       "    </tr>\n",
       "    <tr>\n",
       "      <td>11</td>\n",
       "      <td>0.630200</td>\n",
       "      <td>0.617239</td>\n",
       "    </tr>\n",
       "    <tr>\n",
       "      <td>12</td>\n",
       "      <td>0.627100</td>\n",
       "      <td>0.615549</td>\n",
       "    </tr>\n",
       "    <tr>\n",
       "      <td>13</td>\n",
       "      <td>0.618300</td>\n",
       "      <td>0.612478</td>\n",
       "    </tr>\n",
       "    <tr>\n",
       "      <td>14</td>\n",
       "      <td>0.616900</td>\n",
       "      <td>0.609877</td>\n",
       "    </tr>\n",
       "    <tr>\n",
       "      <td>15</td>\n",
       "      <td>0.614700</td>\n",
       "      <td>0.606396</td>\n",
       "    </tr>\n",
       "    <tr>\n",
       "      <td>16</td>\n",
       "      <td>0.613600</td>\n",
       "      <td>0.603271</td>\n",
       "    </tr>\n",
       "    <tr>\n",
       "      <td>17</td>\n",
       "      <td>0.590500</td>\n",
       "      <td>0.602011</td>\n",
       "    </tr>\n",
       "    <tr>\n",
       "      <td>18</td>\n",
       "      <td>0.610800</td>\n",
       "      <td>0.598522</td>\n",
       "    </tr>\n",
       "    <tr>\n",
       "      <td>19</td>\n",
       "      <td>0.607800</td>\n",
       "      <td>0.597292</td>\n",
       "    </tr>\n",
       "    <tr>\n",
       "      <td>20</td>\n",
       "      <td>0.610100</td>\n",
       "      <td>0.595251</td>\n",
       "    </tr>\n",
       "    <tr>\n",
       "      <td>21</td>\n",
       "      <td>0.594400</td>\n",
       "      <td>0.593151</td>\n",
       "    </tr>\n",
       "    <tr>\n",
       "      <td>22</td>\n",
       "      <td>0.600100</td>\n",
       "      <td>0.591337</td>\n",
       "    </tr>\n",
       "    <tr>\n",
       "      <td>23</td>\n",
       "      <td>0.583300</td>\n",
       "      <td>0.590814</td>\n",
       "    </tr>\n",
       "    <tr>\n",
       "      <td>24</td>\n",
       "      <td>0.605500</td>\n",
       "      <td>0.588699</td>\n",
       "    </tr>\n",
       "    <tr>\n",
       "      <td>25</td>\n",
       "      <td>0.577800</td>\n",
       "      <td>0.588203</td>\n",
       "    </tr>\n",
       "  </tbody>\n",
       "</table><p>"
      ],
      "text/plain": [
       "<IPython.core.display.HTML object>"
      ]
     },
     "metadata": {},
     "output_type": "display_data"
    },
    {
     "name": "stderr",
     "output_type": "stream",
     "text": [
      "[I 2025-08-22 05:39:05,143] Trial 2 finished with value: 0.5882025957107544 and parameters: {'learning_rate': 0.00016786953982498686, 'weight_decay': 0.06676438444844562, 'warmup_ratio': 0.0008439437765151103, 'lr_scheduler_type': 'polynomial', 'per_device_train_batch_size': 32, 'per_device_eval_batch_size': 32, 'num_train_epochs': 25, 'd_model': 64, 'num_attention_heads': 4, 'num_hidden_layers': 4, 'ffn_dim': 512, 'dropout': 0.19787695048229345, 'head_dropout': 0.04941986357298593, 'patch_length': 7}. Best is trial 0 with value: 0.5285714864730835.\n"
     ]
    },
    {
     "name": "stdout",
     "output_type": "stream",
     "text": [
      "--- Optuna Trial: Creating model with context=28, horizon=7 ---\n"
     ]
    },
    {
     "data": {
      "text/html": [
       "\n",
       "    <div>\n",
       "      \n",
       "      <progress value='87420' max='87420' style='width:300px; height:20px; vertical-align: middle;'></progress>\n",
       "      [87420/87420 28:55, Epoch 30/30]\n",
       "    </div>\n",
       "    <table border=\"1\" class=\"dataframe\">\n",
       "  <thead>\n",
       " <tr style=\"text-align: left;\">\n",
       "      <th>Epoch</th>\n",
       "      <th>Training Loss</th>\n",
       "      <th>Validation Loss</th>\n",
       "    </tr>\n",
       "  </thead>\n",
       "  <tbody>\n",
       "    <tr>\n",
       "      <td>1</td>\n",
       "      <td>0.803300</td>\n",
       "      <td>0.803380</td>\n",
       "    </tr>\n",
       "    <tr>\n",
       "      <td>2</td>\n",
       "      <td>0.734300</td>\n",
       "      <td>0.704949</td>\n",
       "    </tr>\n",
       "    <tr>\n",
       "      <td>3</td>\n",
       "      <td>0.691100</td>\n",
       "      <td>0.697798</td>\n",
       "    </tr>\n",
       "    <tr>\n",
       "      <td>4</td>\n",
       "      <td>0.674100</td>\n",
       "      <td>0.684363</td>\n",
       "    </tr>\n",
       "    <tr>\n",
       "      <td>5</td>\n",
       "      <td>0.678400</td>\n",
       "      <td>0.674262</td>\n",
       "    </tr>\n",
       "    <tr>\n",
       "      <td>6</td>\n",
       "      <td>0.669800</td>\n",
       "      <td>0.673136</td>\n",
       "    </tr>\n",
       "    <tr>\n",
       "      <td>7</td>\n",
       "      <td>0.667700</td>\n",
       "      <td>0.669068</td>\n",
       "    </tr>\n",
       "    <tr>\n",
       "      <td>8</td>\n",
       "      <td>0.646300</td>\n",
       "      <td>0.660094</td>\n",
       "    </tr>\n",
       "    <tr>\n",
       "      <td>9</td>\n",
       "      <td>0.670700</td>\n",
       "      <td>0.650964</td>\n",
       "    </tr>\n",
       "    <tr>\n",
       "      <td>10</td>\n",
       "      <td>0.657600</td>\n",
       "      <td>0.649759</td>\n",
       "    </tr>\n",
       "    <tr>\n",
       "      <td>11</td>\n",
       "      <td>0.647300</td>\n",
       "      <td>0.641781</td>\n",
       "    </tr>\n",
       "    <tr>\n",
       "      <td>12</td>\n",
       "      <td>0.643700</td>\n",
       "      <td>0.634235</td>\n",
       "    </tr>\n",
       "    <tr>\n",
       "      <td>13</td>\n",
       "      <td>0.634100</td>\n",
       "      <td>0.633060</td>\n",
       "    </tr>\n",
       "    <tr>\n",
       "      <td>14</td>\n",
       "      <td>0.632700</td>\n",
       "      <td>0.627297</td>\n",
       "    </tr>\n",
       "    <tr>\n",
       "      <td>15</td>\n",
       "      <td>0.630000</td>\n",
       "      <td>0.625107</td>\n",
       "    </tr>\n",
       "    <tr>\n",
       "      <td>16</td>\n",
       "      <td>0.631000</td>\n",
       "      <td>0.621445</td>\n",
       "    </tr>\n",
       "    <tr>\n",
       "      <td>17</td>\n",
       "      <td>0.607700</td>\n",
       "      <td>0.616287</td>\n",
       "    </tr>\n",
       "    <tr>\n",
       "      <td>18</td>\n",
       "      <td>0.621700</td>\n",
       "      <td>0.617199</td>\n",
       "    </tr>\n",
       "    <tr>\n",
       "      <td>19</td>\n",
       "      <td>0.621900</td>\n",
       "      <td>0.612868</td>\n",
       "    </tr>\n",
       "    <tr>\n",
       "      <td>20</td>\n",
       "      <td>0.626800</td>\n",
       "      <td>0.611660</td>\n",
       "    </tr>\n",
       "    <tr>\n",
       "      <td>21</td>\n",
       "      <td>0.610300</td>\n",
       "      <td>0.608717</td>\n",
       "    </tr>\n",
       "    <tr>\n",
       "      <td>22</td>\n",
       "      <td>0.614700</td>\n",
       "      <td>0.605166</td>\n",
       "    </tr>\n",
       "    <tr>\n",
       "      <td>23</td>\n",
       "      <td>0.594200</td>\n",
       "      <td>0.604250</td>\n",
       "    </tr>\n",
       "    <tr>\n",
       "      <td>24</td>\n",
       "      <td>0.616100</td>\n",
       "      <td>0.601340</td>\n",
       "    </tr>\n",
       "    <tr>\n",
       "      <td>25</td>\n",
       "      <td>0.594500</td>\n",
       "      <td>0.600148</td>\n",
       "    </tr>\n",
       "    <tr>\n",
       "      <td>26</td>\n",
       "      <td>0.622000</td>\n",
       "      <td>0.599421</td>\n",
       "    </tr>\n",
       "    <tr>\n",
       "      <td>27</td>\n",
       "      <td>0.601500</td>\n",
       "      <td>0.599139</td>\n",
       "    </tr>\n",
       "    <tr>\n",
       "      <td>28</td>\n",
       "      <td>0.599100</td>\n",
       "      <td>0.598377</td>\n",
       "    </tr>\n",
       "    <tr>\n",
       "      <td>29</td>\n",
       "      <td>0.598700</td>\n",
       "      <td>0.598571</td>\n",
       "    </tr>\n",
       "    <tr>\n",
       "      <td>30</td>\n",
       "      <td>0.586800</td>\n",
       "      <td>0.598394</td>\n",
       "    </tr>\n",
       "  </tbody>\n",
       "</table><p>"
      ],
      "text/plain": [
       "<IPython.core.display.HTML object>"
      ]
     },
     "metadata": {},
     "output_type": "display_data"
    },
    {
     "name": "stderr",
     "output_type": "stream",
     "text": [
      "[I 2025-08-22 06:08:02,518] Trial 3 finished with value: 0.598393976688385 and parameters: {'learning_rate': 3.416390967184238e-05, 'weight_decay': 0.07941039674171749, 'warmup_ratio': 0.1467171600093583, 'lr_scheduler_type': 'cosine', 'per_device_train_batch_size': 32, 'per_device_eval_batch_size': 96, 'num_train_epochs': 30, 'd_model': 128, 'num_attention_heads': 8, 'num_hidden_layers': 2, 'ffn_dim': 256, 'dropout': 0.23949996716017746, 'head_dropout': 0.10244688278209647, 'patch_length': 1}. Best is trial 0 with value: 0.5285714864730835.\n"
     ]
    },
    {
     "name": "stdout",
     "output_type": "stream",
     "text": [
      "--- Optuna Trial: Creating model with context=28, horizon=7 ---\n"
     ]
    },
    {
     "data": {
      "text/html": [
       "\n",
       "    <div>\n",
       "      \n",
       "      <progress value='14570' max='14570' style='width:300px; height:20px; vertical-align: middle;'></progress>\n",
       "      [14570/14570 08:44, Epoch 10/10]\n",
       "    </div>\n",
       "    <table border=\"1\" class=\"dataframe\">\n",
       "  <thead>\n",
       " <tr style=\"text-align: left;\">\n",
       "      <th>Epoch</th>\n",
       "      <th>Training Loss</th>\n",
       "      <th>Validation Loss</th>\n",
       "    </tr>\n",
       "  </thead>\n",
       "  <tbody>\n",
       "    <tr>\n",
       "      <td>1</td>\n",
       "      <td>0.679300</td>\n",
       "      <td>0.669005</td>\n",
       "    </tr>\n",
       "    <tr>\n",
       "      <td>2</td>\n",
       "      <td>0.657900</td>\n",
       "      <td>0.650250</td>\n",
       "    </tr>\n",
       "    <tr>\n",
       "      <td>3</td>\n",
       "      <td>0.629500</td>\n",
       "      <td>0.633815</td>\n",
       "    </tr>\n",
       "    <tr>\n",
       "      <td>4</td>\n",
       "      <td>0.635700</td>\n",
       "      <td>0.625567</td>\n",
       "    </tr>\n",
       "    <tr>\n",
       "      <td>5</td>\n",
       "      <td>0.628800</td>\n",
       "      <td>0.609897</td>\n",
       "    </tr>\n",
       "    <tr>\n",
       "      <td>6</td>\n",
       "      <td>0.599000</td>\n",
       "      <td>0.597087</td>\n",
       "    </tr>\n",
       "    <tr>\n",
       "      <td>7</td>\n",
       "      <td>0.605700</td>\n",
       "      <td>0.587092</td>\n",
       "    </tr>\n",
       "    <tr>\n",
       "      <td>8</td>\n",
       "      <td>0.582800</td>\n",
       "      <td>0.575296</td>\n",
       "    </tr>\n",
       "    <tr>\n",
       "      <td>9</td>\n",
       "      <td>0.582300</td>\n",
       "      <td>0.565579</td>\n",
       "    </tr>\n",
       "    <tr>\n",
       "      <td>10</td>\n",
       "      <td>0.566100</td>\n",
       "      <td>0.560395</td>\n",
       "    </tr>\n",
       "  </tbody>\n",
       "</table><p>"
      ],
      "text/plain": [
       "<IPython.core.display.HTML object>"
      ]
     },
     "metadata": {},
     "output_type": "display_data"
    },
    {
     "name": "stderr",
     "output_type": "stream",
     "text": [
      "[I 2025-08-22 06:16:48,854] Trial 4 finished with value: 0.5603946447372437 and parameters: {'learning_rate': 9.807525908257408e-05, 'weight_decay': 0.01953736085700001, 'warmup_ratio': 0.08017548092920589, 'lr_scheduler_type': 'polynomial', 'per_device_train_batch_size': 64, 'per_device_eval_batch_size': 64, 'num_train_epochs': 10, 'd_model': 256, 'num_attention_heads': 4, 'num_hidden_layers': 3, 'ffn_dim': 512, 'dropout': 0.2267275045821478, 'head_dropout': 0.029226778263806284, 'patch_length': 7}. Best is trial 0 with value: 0.5285714864730835.\n"
     ]
    },
    {
     "name": "stdout",
     "output_type": "stream",
     "text": [
      "--- Optuna Trial: Creating model with context=28, horizon=7 ---\n"
     ]
    },
    {
     "data": {
      "text/html": [
       "\n",
       "    <div>\n",
       "      \n",
       "      <progress value='5828' max='101990' style='width:300px; height:20px; vertical-align: middle;'></progress>\n",
       "      [  5828/101990 01:55 < 31:51, 50.30 it/s, Epoch 2/35]\n",
       "    </div>\n",
       "    <table border=\"1\" class=\"dataframe\">\n",
       "  <thead>\n",
       " <tr style=\"text-align: left;\">\n",
       "      <th>Epoch</th>\n",
       "      <th>Training Loss</th>\n",
       "      <th>Validation Loss</th>\n",
       "    </tr>\n",
       "  </thead>\n",
       "  <tbody>\n",
       "    <tr>\n",
       "      <td>1</td>\n",
       "      <td>0.694500</td>\n",
       "      <td>0.681628</td>\n",
       "    </tr>\n",
       "    <tr>\n",
       "      <td>2</td>\n",
       "      <td>0.687500</td>\n",
       "      <td>0.664072</td>\n",
       "    </tr>\n",
       "  </tbody>\n",
       "</table><p>"
      ],
      "text/plain": [
       "<IPython.core.display.HTML object>"
      ]
     },
     "metadata": {},
     "output_type": "display_data"
    },
    {
     "name": "stderr",
     "output_type": "stream",
     "text": [
      "[I 2025-08-22 06:18:45,471] Trial 5 pruned. \n"
     ]
    },
    {
     "name": "stdout",
     "output_type": "stream",
     "text": [
      "--- Optuna Trial: Creating model with context=28, horizon=7 ---\n"
     ]
    },
    {
     "data": {
      "text/html": [
       "\n",
       "    <div>\n",
       "      \n",
       "      <progress value='1457' max='39339' style='width:300px; height:20px; vertical-align: middle;'></progress>\n",
       "      [ 1457/39339 00:50 < 21:42, 29.08 it/s, Epoch 1/27]\n",
       "    </div>\n",
       "    <table border=\"1\" class=\"dataframe\">\n",
       "  <thead>\n",
       " <tr style=\"text-align: left;\">\n",
       "      <th>Epoch</th>\n",
       "      <th>Training Loss</th>\n",
       "      <th>Validation Loss</th>\n",
       "    </tr>\n",
       "  </thead>\n",
       "  <tbody>\n",
       "    <tr>\n",
       "      <td>1</td>\n",
       "      <td>0.904100</td>\n",
       "      <td>0.771190</td>\n",
       "    </tr>\n",
       "  </tbody>\n",
       "</table><p>"
      ],
      "text/plain": [
       "<IPython.core.display.HTML object>"
      ]
     },
     "metadata": {},
     "output_type": "display_data"
    },
    {
     "name": "stderr",
     "output_type": "stream",
     "text": [
      "[I 2025-08-22 06:19:36,348] Trial 6 pruned. \n"
     ]
    },
    {
     "name": "stdout",
     "output_type": "stream",
     "text": [
      "--- Optuna Trial: Creating model with context=28, horizon=7 ---\n"
     ]
    },
    {
     "data": {
      "text/html": [
       "\n",
       "    <div>\n",
       "      \n",
       "      <progress value='2914' max='84506' style='width:300px; height:20px; vertical-align: middle;'></progress>\n",
       "      [ 2914/84506 00:57 < 26:59, 50.38 it/s, Epoch 1/29]\n",
       "    </div>\n",
       "    <table border=\"1\" class=\"dataframe\">\n",
       "  <thead>\n",
       " <tr style=\"text-align: left;\">\n",
       "      <th>Epoch</th>\n",
       "      <th>Training Loss</th>\n",
       "      <th>Validation Loss</th>\n",
       "    </tr>\n",
       "  </thead>\n",
       "  <tbody>\n",
       "    <tr>\n",
       "      <td>1</td>\n",
       "      <td>0.706500</td>\n",
       "      <td>0.705405</td>\n",
       "    </tr>\n",
       "  </tbody>\n",
       "</table><p>"
      ],
      "text/plain": [
       "<IPython.core.display.HTML object>"
      ]
     },
     "metadata": {},
     "output_type": "display_data"
    },
    {
     "name": "stderr",
     "output_type": "stream",
     "text": [
      "[I 2025-08-22 06:20:35,021] Trial 7 pruned. \n"
     ]
    },
    {
     "name": "stdout",
     "output_type": "stream",
     "text": [
      "--- Optuna Trial: Creating model with context=28, horizon=7 ---\n"
     ]
    },
    {
     "data": {
      "text/html": [
       "\n",
       "    <div>\n",
       "      \n",
       "      <progress value='1457' max='27683' style='width:300px; height:20px; vertical-align: middle;'></progress>\n",
       "      [ 1457/27683 00:49 < 14:57, 29.21 it/s, Epoch 1/19]\n",
       "    </div>\n",
       "    <table border=\"1\" class=\"dataframe\">\n",
       "  <thead>\n",
       " <tr style=\"text-align: left;\">\n",
       "      <th>Epoch</th>\n",
       "      <th>Training Loss</th>\n",
       "      <th>Validation Loss</th>\n",
       "    </tr>\n",
       "  </thead>\n",
       "  <tbody>\n",
       "    <tr>\n",
       "      <td>1</td>\n",
       "      <td>0.716700</td>\n",
       "      <td>0.701302</td>\n",
       "    </tr>\n",
       "  </tbody>\n",
       "</table><p>"
      ],
      "text/plain": [
       "<IPython.core.display.HTML object>"
      ]
     },
     "metadata": {},
     "output_type": "display_data"
    },
    {
     "name": "stderr",
     "output_type": "stream",
     "text": [
      "[I 2025-08-22 06:21:25,648] Trial 8 pruned. \n"
     ]
    },
    {
     "name": "stdout",
     "output_type": "stream",
     "text": [
      "--- Optuna Trial: Creating model with context=28, horizon=7 ---\n"
     ]
    },
    {
     "data": {
      "text/html": [
       "\n",
       "    <div>\n",
       "      \n",
       "      <progress value='1457' max='34968' style='width:300px; height:20px; vertical-align: middle;'></progress>\n",
       "      [ 1457/34968 00:56 < 21:32, 25.92 it/s, Epoch 1/24]\n",
       "    </div>\n",
       "    <table border=\"1\" class=\"dataframe\">\n",
       "  <thead>\n",
       " <tr style=\"text-align: left;\">\n",
       "      <th>Epoch</th>\n",
       "      <th>Training Loss</th>\n",
       "      <th>Validation Loss</th>\n",
       "    </tr>\n",
       "  </thead>\n",
       "  <tbody>\n",
       "    <tr>\n",
       "      <td>1</td>\n",
       "      <td>0.686000</td>\n",
       "      <td>0.672234</td>\n",
       "    </tr>\n",
       "  </tbody>\n",
       "</table><p>"
      ],
      "text/plain": [
       "<IPython.core.display.HTML object>"
      ]
     },
     "metadata": {},
     "output_type": "display_data"
    },
    {
     "name": "stderr",
     "output_type": "stream",
     "text": [
      "[I 2025-08-22 06:22:22,550] Trial 9 pruned. \n"
     ]
    },
    {
     "name": "stdout",
     "output_type": "stream",
     "text": [
      "--- Optuna Trial: Creating model with context=28, horizon=7 ---\n"
     ]
    },
    {
     "data": {
      "text/html": [
       "\n",
       "    <div>\n",
       "      \n",
       "      <progress value='38880' max='38880' style='width:300px; height:20px; vertical-align: middle;'></progress>\n",
       "      [38880/38880 30:33, Epoch 40/40]\n",
       "    </div>\n",
       "    <table border=\"1\" class=\"dataframe\">\n",
       "  <thead>\n",
       " <tr style=\"text-align: left;\">\n",
       "      <th>Epoch</th>\n",
       "      <th>Training Loss</th>\n",
       "      <th>Validation Loss</th>\n",
       "    </tr>\n",
       "  </thead>\n",
       "  <tbody>\n",
       "    <tr>\n",
       "      <td>1</td>\n",
       "      <td>0.860600</td>\n",
       "      <td>0.717744</td>\n",
       "    </tr>\n",
       "    <tr>\n",
       "      <td>2</td>\n",
       "      <td>0.690300</td>\n",
       "      <td>0.697824</td>\n",
       "    </tr>\n",
       "    <tr>\n",
       "      <td>3</td>\n",
       "      <td>0.679600</td>\n",
       "      <td>0.690459</td>\n",
       "    </tr>\n",
       "    <tr>\n",
       "      <td>4</td>\n",
       "      <td>0.659400</td>\n",
       "      <td>0.648446</td>\n",
       "    </tr>\n",
       "    <tr>\n",
       "      <td>5</td>\n",
       "      <td>0.647800</td>\n",
       "      <td>0.636571</td>\n",
       "    </tr>\n",
       "    <tr>\n",
       "      <td>6</td>\n",
       "      <td>0.634700</td>\n",
       "      <td>0.627982</td>\n",
       "    </tr>\n",
       "    <tr>\n",
       "      <td>7</td>\n",
       "      <td>0.623000</td>\n",
       "      <td>0.618790</td>\n",
       "    </tr>\n",
       "    <tr>\n",
       "      <td>8</td>\n",
       "      <td>0.623200</td>\n",
       "      <td>0.613101</td>\n",
       "    </tr>\n",
       "    <tr>\n",
       "      <td>9</td>\n",
       "      <td>0.615900</td>\n",
       "      <td>0.610492</td>\n",
       "    </tr>\n",
       "    <tr>\n",
       "      <td>10</td>\n",
       "      <td>0.594000</td>\n",
       "      <td>0.606807</td>\n",
       "    </tr>\n",
       "    <tr>\n",
       "      <td>11</td>\n",
       "      <td>0.597100</td>\n",
       "      <td>0.592685</td>\n",
       "    </tr>\n",
       "    <tr>\n",
       "      <td>12</td>\n",
       "      <td>0.595300</td>\n",
       "      <td>0.591337</td>\n",
       "    </tr>\n",
       "    <tr>\n",
       "      <td>13</td>\n",
       "      <td>0.590000</td>\n",
       "      <td>0.580139</td>\n",
       "    </tr>\n",
       "    <tr>\n",
       "      <td>14</td>\n",
       "      <td>0.583700</td>\n",
       "      <td>0.577932</td>\n",
       "    </tr>\n",
       "    <tr>\n",
       "      <td>15</td>\n",
       "      <td>0.580400</td>\n",
       "      <td>0.576473</td>\n",
       "    </tr>\n",
       "    <tr>\n",
       "      <td>16</td>\n",
       "      <td>0.570000</td>\n",
       "      <td>0.568528</td>\n",
       "    </tr>\n",
       "    <tr>\n",
       "      <td>17</td>\n",
       "      <td>0.568200</td>\n",
       "      <td>0.559898</td>\n",
       "    </tr>\n",
       "    <tr>\n",
       "      <td>18</td>\n",
       "      <td>0.557200</td>\n",
       "      <td>0.555956</td>\n",
       "    </tr>\n",
       "    <tr>\n",
       "      <td>19</td>\n",
       "      <td>0.554300</td>\n",
       "      <td>0.550186</td>\n",
       "    </tr>\n",
       "    <tr>\n",
       "      <td>20</td>\n",
       "      <td>0.549100</td>\n",
       "      <td>0.551483</td>\n",
       "    </tr>\n",
       "    <tr>\n",
       "      <td>21</td>\n",
       "      <td>0.544800</td>\n",
       "      <td>0.544849</td>\n",
       "    </tr>\n",
       "    <tr>\n",
       "      <td>22</td>\n",
       "      <td>0.543400</td>\n",
       "      <td>0.541171</td>\n",
       "    </tr>\n",
       "    <tr>\n",
       "      <td>23</td>\n",
       "      <td>0.543300</td>\n",
       "      <td>0.534577</td>\n",
       "    </tr>\n",
       "    <tr>\n",
       "      <td>24</td>\n",
       "      <td>0.532900</td>\n",
       "      <td>0.529067</td>\n",
       "    </tr>\n",
       "    <tr>\n",
       "      <td>25</td>\n",
       "      <td>0.535400</td>\n",
       "      <td>0.526592</td>\n",
       "    </tr>\n",
       "    <tr>\n",
       "      <td>26</td>\n",
       "      <td>0.523500</td>\n",
       "      <td>0.523561</td>\n",
       "    </tr>\n",
       "    <tr>\n",
       "      <td>27</td>\n",
       "      <td>0.515600</td>\n",
       "      <td>0.521865</td>\n",
       "    </tr>\n",
       "    <tr>\n",
       "      <td>28</td>\n",
       "      <td>0.519600</td>\n",
       "      <td>0.513315</td>\n",
       "    </tr>\n",
       "    <tr>\n",
       "      <td>29</td>\n",
       "      <td>0.509500</td>\n",
       "      <td>0.507198</td>\n",
       "    </tr>\n",
       "    <tr>\n",
       "      <td>30</td>\n",
       "      <td>0.510900</td>\n",
       "      <td>0.501426</td>\n",
       "    </tr>\n",
       "    <tr>\n",
       "      <td>31</td>\n",
       "      <td>0.504300</td>\n",
       "      <td>0.499655</td>\n",
       "    </tr>\n",
       "    <tr>\n",
       "      <td>32</td>\n",
       "      <td>0.503500</td>\n",
       "      <td>0.496273</td>\n",
       "    </tr>\n",
       "    <tr>\n",
       "      <td>33</td>\n",
       "      <td>0.498000</td>\n",
       "      <td>0.494650</td>\n",
       "    </tr>\n",
       "    <tr>\n",
       "      <td>34</td>\n",
       "      <td>0.489900</td>\n",
       "      <td>0.489916</td>\n",
       "    </tr>\n",
       "    <tr>\n",
       "      <td>35</td>\n",
       "      <td>0.493800</td>\n",
       "      <td>0.487829</td>\n",
       "    </tr>\n",
       "    <tr>\n",
       "      <td>36</td>\n",
       "      <td>0.479600</td>\n",
       "      <td>0.483831</td>\n",
       "    </tr>\n",
       "    <tr>\n",
       "      <td>37</td>\n",
       "      <td>0.483600</td>\n",
       "      <td>0.482285</td>\n",
       "    </tr>\n",
       "    <tr>\n",
       "      <td>38</td>\n",
       "      <td>0.483000</td>\n",
       "      <td>0.479877</td>\n",
       "    </tr>\n",
       "    <tr>\n",
       "      <td>39</td>\n",
       "      <td>0.474200</td>\n",
       "      <td>0.478923</td>\n",
       "    </tr>\n",
       "    <tr>\n",
       "      <td>40</td>\n",
       "      <td>0.471200</td>\n",
       "      <td>0.477383</td>\n",
       "    </tr>\n",
       "  </tbody>\n",
       "</table><p>"
      ],
      "text/plain": [
       "<IPython.core.display.HTML object>"
      ]
     },
     "metadata": {},
     "output_type": "display_data"
    },
    {
     "name": "stderr",
     "output_type": "stream",
     "text": [
      "[I 2025-08-22 06:52:57,580] Trial 10 finished with value: 0.47738322615623474 and parameters: {'learning_rate': 0.00017345720094921798, 'weight_decay': 0.005301742879223668, 'warmup_ratio': 0.06832212087096515, 'lr_scheduler_type': 'polynomial', 'per_device_train_batch_size': 96, 'per_device_eval_batch_size': 32, 'num_train_epochs': 40, 'd_model': 256, 'num_attention_heads': 8, 'num_hidden_layers': 2, 'ffn_dim': 128, 'dropout': 0.2772002338612267, 'head_dropout': 0.10466284091613975, 'patch_length': 1}. Best is trial 10 with value: 0.47738322615623474.\n"
     ]
    },
    {
     "name": "stdout",
     "output_type": "stream",
     "text": [
      "--- Optuna Trial: Creating model with context=28, horizon=7 ---\n"
     ]
    },
    {
     "data": {
      "text/html": [
       "\n",
       "    <div>\n",
       "      \n",
       "      <progress value='17496' max='17496' style='width:300px; height:20px; vertical-align: middle;'></progress>\n",
       "      [17496/17496 13:42, Epoch 18/18]\n",
       "    </div>\n",
       "    <table border=\"1\" class=\"dataframe\">\n",
       "  <thead>\n",
       " <tr style=\"text-align: left;\">\n",
       "      <th>Epoch</th>\n",
       "      <th>Training Loss</th>\n",
       "      <th>Validation Loss</th>\n",
       "    </tr>\n",
       "  </thead>\n",
       "  <tbody>\n",
       "    <tr>\n",
       "      <td>1</td>\n",
       "      <td>0.829700</td>\n",
       "      <td>0.724937</td>\n",
       "    </tr>\n",
       "    <tr>\n",
       "      <td>2</td>\n",
       "      <td>0.688000</td>\n",
       "      <td>0.683605</td>\n",
       "    </tr>\n",
       "    <tr>\n",
       "      <td>3</td>\n",
       "      <td>0.667100</td>\n",
       "      <td>0.676372</td>\n",
       "    </tr>\n",
       "    <tr>\n",
       "      <td>4</td>\n",
       "      <td>0.644300</td>\n",
       "      <td>0.635629</td>\n",
       "    </tr>\n",
       "    <tr>\n",
       "      <td>5</td>\n",
       "      <td>0.636900</td>\n",
       "      <td>0.626288</td>\n",
       "    </tr>\n",
       "    <tr>\n",
       "      <td>6</td>\n",
       "      <td>0.624700</td>\n",
       "      <td>0.615874</td>\n",
       "    </tr>\n",
       "    <tr>\n",
       "      <td>7</td>\n",
       "      <td>0.612800</td>\n",
       "      <td>0.611035</td>\n",
       "    </tr>\n",
       "    <tr>\n",
       "      <td>8</td>\n",
       "      <td>0.613500</td>\n",
       "      <td>0.605328</td>\n",
       "    </tr>\n",
       "    <tr>\n",
       "      <td>9</td>\n",
       "      <td>0.606700</td>\n",
       "      <td>0.600608</td>\n",
       "    </tr>\n",
       "    <tr>\n",
       "      <td>10</td>\n",
       "      <td>0.583800</td>\n",
       "      <td>0.586400</td>\n",
       "    </tr>\n",
       "    <tr>\n",
       "      <td>11</td>\n",
       "      <td>0.586300</td>\n",
       "      <td>0.580750</td>\n",
       "    </tr>\n",
       "    <tr>\n",
       "      <td>12</td>\n",
       "      <td>0.582100</td>\n",
       "      <td>0.576600</td>\n",
       "    </tr>\n",
       "    <tr>\n",
       "      <td>13</td>\n",
       "      <td>0.575000</td>\n",
       "      <td>0.569789</td>\n",
       "    </tr>\n",
       "    <tr>\n",
       "      <td>14</td>\n",
       "      <td>0.569200</td>\n",
       "      <td>0.563231</td>\n",
       "    </tr>\n",
       "    <tr>\n",
       "      <td>15</td>\n",
       "      <td>0.565800</td>\n",
       "      <td>0.560387</td>\n",
       "    </tr>\n",
       "    <tr>\n",
       "      <td>16</td>\n",
       "      <td>0.555500</td>\n",
       "      <td>0.556098</td>\n",
       "    </tr>\n",
       "    <tr>\n",
       "      <td>17</td>\n",
       "      <td>0.553900</td>\n",
       "      <td>0.551640</td>\n",
       "    </tr>\n",
       "    <tr>\n",
       "      <td>18</td>\n",
       "      <td>0.545700</td>\n",
       "      <td>0.549908</td>\n",
       "    </tr>\n",
       "  </tbody>\n",
       "</table><p>"
      ],
      "text/plain": [
       "<IPython.core.display.HTML object>"
      ]
     },
     "metadata": {},
     "output_type": "display_data"
    },
    {
     "name": "stderr",
     "output_type": "stream",
     "text": [
      "[I 2025-08-22 07:06:41,309] Trial 11 finished with value: 0.5499080419540405 and parameters: {'learning_rate': 0.00014071518301440942, 'weight_decay': 0.001046185997828207, 'warmup_ratio': 0.06916905989382355, 'lr_scheduler_type': 'polynomial', 'per_device_train_batch_size': 96, 'per_device_eval_batch_size': 32, 'num_train_epochs': 18, 'd_model': 256, 'num_attention_heads': 8, 'num_hidden_layers': 2, 'ffn_dim': 128, 'dropout': 0.2975755701467377, 'head_dropout': 0.09595622656965941, 'patch_length': 1}. Best is trial 10 with value: 0.47738322615623474.\n"
     ]
    },
    {
     "name": "stdout",
     "output_type": "stream",
     "text": [
      "--- Optuna Trial: Creating model with context=28, horizon=7 ---\n"
     ]
    },
    {
     "data": {
      "text/html": [
       "\n",
       "    <div>\n",
       "      \n",
       "      <progress value='1944' max='38880' style='width:300px; height:20px; vertical-align: middle;'></progress>\n",
       "      [ 1944/38880 01:32 < 29:15, 21.04 it/s, Epoch 2/40]\n",
       "    </div>\n",
       "    <table border=\"1\" class=\"dataframe\">\n",
       "  <thead>\n",
       " <tr style=\"text-align: left;\">\n",
       "      <th>Epoch</th>\n",
       "      <th>Training Loss</th>\n",
       "      <th>Validation Loss</th>\n",
       "    </tr>\n",
       "  </thead>\n",
       "  <tbody>\n",
       "    <tr>\n",
       "      <td>1</td>\n",
       "      <td>0.872600</td>\n",
       "      <td>0.710243</td>\n",
       "    </tr>\n",
       "    <tr>\n",
       "      <td>2</td>\n",
       "      <td>0.691300</td>\n",
       "      <td>0.699942</td>\n",
       "    </tr>\n",
       "  </tbody>\n",
       "</table><p>"
      ],
      "text/plain": [
       "<IPython.core.display.HTML object>"
      ]
     },
     "metadata": {},
     "output_type": "display_data"
    },
    {
     "name": "stderr",
     "output_type": "stream",
     "text": [
      "[I 2025-08-22 07:08:14,478] Trial 12 pruned. \n"
     ]
    },
    {
     "name": "stdout",
     "output_type": "stream",
     "text": [
      "--- Optuna Trial: Creating model with context=28, horizon=7 ---\n"
     ]
    },
    {
     "data": {
      "text/html": [
       "\n",
       "    <div>\n",
       "      \n",
       "      <progress value='36936' max='36936' style='width:300px; height:20px; vertical-align: middle;'></progress>\n",
       "      [36936/36936 32:14, Epoch 38/38]\n",
       "    </div>\n",
       "    <table border=\"1\" class=\"dataframe\">\n",
       "  <thead>\n",
       " <tr style=\"text-align: left;\">\n",
       "      <th>Epoch</th>\n",
       "      <th>Training Loss</th>\n",
       "      <th>Validation Loss</th>\n",
       "    </tr>\n",
       "  </thead>\n",
       "  <tbody>\n",
       "    <tr>\n",
       "      <td>1</td>\n",
       "      <td>0.792600</td>\n",
       "      <td>0.706969</td>\n",
       "    </tr>\n",
       "    <tr>\n",
       "      <td>2</td>\n",
       "      <td>0.693600</td>\n",
       "      <td>0.690428</td>\n",
       "    </tr>\n",
       "    <tr>\n",
       "      <td>3</td>\n",
       "      <td>0.679300</td>\n",
       "      <td>0.677782</td>\n",
       "    </tr>\n",
       "    <tr>\n",
       "      <td>4</td>\n",
       "      <td>0.647400</td>\n",
       "      <td>0.635964</td>\n",
       "    </tr>\n",
       "    <tr>\n",
       "      <td>5</td>\n",
       "      <td>0.639000</td>\n",
       "      <td>0.633105</td>\n",
       "    </tr>\n",
       "    <tr>\n",
       "      <td>6</td>\n",
       "      <td>0.625400</td>\n",
       "      <td>0.622331</td>\n",
       "    </tr>\n",
       "    <tr>\n",
       "      <td>7</td>\n",
       "      <td>0.613600</td>\n",
       "      <td>0.607284</td>\n",
       "    </tr>\n",
       "    <tr>\n",
       "      <td>8</td>\n",
       "      <td>0.612000</td>\n",
       "      <td>0.607183</td>\n",
       "    </tr>\n",
       "    <tr>\n",
       "      <td>9</td>\n",
       "      <td>0.606200</td>\n",
       "      <td>0.599517</td>\n",
       "    </tr>\n",
       "    <tr>\n",
       "      <td>10</td>\n",
       "      <td>0.583600</td>\n",
       "      <td>0.586377</td>\n",
       "    </tr>\n",
       "    <tr>\n",
       "      <td>11</td>\n",
       "      <td>0.583500</td>\n",
       "      <td>0.578180</td>\n",
       "    </tr>\n",
       "    <tr>\n",
       "      <td>12</td>\n",
       "      <td>0.580900</td>\n",
       "      <td>0.575502</td>\n",
       "    </tr>\n",
       "    <tr>\n",
       "      <td>13</td>\n",
       "      <td>0.574300</td>\n",
       "      <td>0.567369</td>\n",
       "    </tr>\n",
       "    <tr>\n",
       "      <td>14</td>\n",
       "      <td>0.566300</td>\n",
       "      <td>0.556026</td>\n",
       "    </tr>\n",
       "    <tr>\n",
       "      <td>15</td>\n",
       "      <td>0.562400</td>\n",
       "      <td>0.552159</td>\n",
       "    </tr>\n",
       "    <tr>\n",
       "      <td>16</td>\n",
       "      <td>0.548100</td>\n",
       "      <td>0.543181</td>\n",
       "    </tr>\n",
       "    <tr>\n",
       "      <td>17</td>\n",
       "      <td>0.547300</td>\n",
       "      <td>0.539130</td>\n",
       "    </tr>\n",
       "    <tr>\n",
       "      <td>18</td>\n",
       "      <td>0.533200</td>\n",
       "      <td>0.537857</td>\n",
       "    </tr>\n",
       "    <tr>\n",
       "      <td>19</td>\n",
       "      <td>0.526300</td>\n",
       "      <td>0.524661</td>\n",
       "    </tr>\n",
       "    <tr>\n",
       "      <td>20</td>\n",
       "      <td>0.519400</td>\n",
       "      <td>0.516651</td>\n",
       "    </tr>\n",
       "    <tr>\n",
       "      <td>21</td>\n",
       "      <td>0.511800</td>\n",
       "      <td>0.509599</td>\n",
       "    </tr>\n",
       "    <tr>\n",
       "      <td>22</td>\n",
       "      <td>0.507700</td>\n",
       "      <td>0.501891</td>\n",
       "    </tr>\n",
       "    <tr>\n",
       "      <td>23</td>\n",
       "      <td>0.504200</td>\n",
       "      <td>0.496861</td>\n",
       "    </tr>\n",
       "    <tr>\n",
       "      <td>24</td>\n",
       "      <td>0.492500</td>\n",
       "      <td>0.487427</td>\n",
       "    </tr>\n",
       "    <tr>\n",
       "      <td>25</td>\n",
       "      <td>0.490800</td>\n",
       "      <td>0.481256</td>\n",
       "    </tr>\n",
       "    <tr>\n",
       "      <td>26</td>\n",
       "      <td>0.477400</td>\n",
       "      <td>0.474226</td>\n",
       "    </tr>\n",
       "    <tr>\n",
       "      <td>27</td>\n",
       "      <td>0.468100</td>\n",
       "      <td>0.467813</td>\n",
       "    </tr>\n",
       "    <tr>\n",
       "      <td>28</td>\n",
       "      <td>0.468600</td>\n",
       "      <td>0.459745</td>\n",
       "    </tr>\n",
       "    <tr>\n",
       "      <td>29</td>\n",
       "      <td>0.455400</td>\n",
       "      <td>0.453555</td>\n",
       "    </tr>\n",
       "    <tr>\n",
       "      <td>30</td>\n",
       "      <td>0.454800</td>\n",
       "      <td>0.446779</td>\n",
       "    </tr>\n",
       "    <tr>\n",
       "      <td>31</td>\n",
       "      <td>0.445800</td>\n",
       "      <td>0.441314</td>\n",
       "    </tr>\n",
       "    <tr>\n",
       "      <td>32</td>\n",
       "      <td>0.441800</td>\n",
       "      <td>0.435861</td>\n",
       "    </tr>\n",
       "    <tr>\n",
       "      <td>33</td>\n",
       "      <td>0.434800</td>\n",
       "      <td>0.431536</td>\n",
       "    </tr>\n",
       "    <tr>\n",
       "      <td>34</td>\n",
       "      <td>0.425000</td>\n",
       "      <td>0.426773</td>\n",
       "    </tr>\n",
       "    <tr>\n",
       "      <td>35</td>\n",
       "      <td>0.426000</td>\n",
       "      <td>0.423158</td>\n",
       "    </tr>\n",
       "    <tr>\n",
       "      <td>36</td>\n",
       "      <td>0.411300</td>\n",
       "      <td>0.420449</td>\n",
       "    </tr>\n",
       "    <tr>\n",
       "      <td>37</td>\n",
       "      <td>0.413600</td>\n",
       "      <td>0.418660</td>\n",
       "    </tr>\n",
       "    <tr>\n",
       "      <td>38</td>\n",
       "      <td>0.412000</td>\n",
       "      <td>0.416594</td>\n",
       "    </tr>\n",
       "  </tbody>\n",
       "</table><p>"
      ],
      "text/plain": [
       "<IPython.core.display.HTML object>"
      ]
     },
     "metadata": {},
     "output_type": "display_data"
    },
    {
     "name": "stderr",
     "output_type": "stream",
     "text": [
      "[I 2025-08-22 07:40:30,448] Trial 13 finished with value: 0.4165944457054138 and parameters: {'learning_rate': 0.00023695284163224964, 'weight_decay': 0.02514135162873802, 'warmup_ratio': 0.05613506650397164, 'lr_scheduler_type': 'polynomial', 'per_device_train_batch_size': 96, 'per_device_eval_batch_size': 32, 'num_train_epochs': 38, 'd_model': 256, 'num_attention_heads': 8, 'num_hidden_layers': 3, 'ffn_dim': 128, 'dropout': 0.26321548724481086, 'head_dropout': 0.001565806978548051, 'patch_length': 1}. Best is trial 13 with value: 0.4165944457054138.\n"
     ]
    },
    {
     "name": "stdout",
     "output_type": "stream",
     "text": [
      "--- Optuna Trial: Creating model with context=28, horizon=7 ---\n"
     ]
    },
    {
     "data": {
      "text/html": [
       "\n",
       "    <div>\n",
       "      \n",
       "      <progress value='1944' max='37908' style='width:300px; height:20px; vertical-align: middle;'></progress>\n",
       "      [ 1944/37908 01:39 < 30:51, 19.43 it/s, Epoch 2/39]\n",
       "    </div>\n",
       "    <table border=\"1\" class=\"dataframe\">\n",
       "  <thead>\n",
       " <tr style=\"text-align: left;\">\n",
       "      <th>Epoch</th>\n",
       "      <th>Training Loss</th>\n",
       "      <th>Validation Loss</th>\n",
       "    </tr>\n",
       "  </thead>\n",
       "  <tbody>\n",
       "    <tr>\n",
       "      <td>1</td>\n",
       "      <td>0.820300</td>\n",
       "      <td>0.714568</td>\n",
       "    </tr>\n",
       "    <tr>\n",
       "      <td>2</td>\n",
       "      <td>0.689800</td>\n",
       "      <td>0.694639</td>\n",
       "    </tr>\n",
       "  </tbody>\n",
       "</table><p>"
      ],
      "text/plain": [
       "<IPython.core.display.HTML object>"
      ]
     },
     "metadata": {},
     "output_type": "display_data"
    },
    {
     "name": "stderr",
     "output_type": "stream",
     "text": [
      "[I 2025-08-22 07:42:11,105] Trial 14 pruned. \n"
     ]
    },
    {
     "name": "stdout",
     "output_type": "stream",
     "text": [
      "--- Optuna Trial: Creating model with context=28, horizon=7 ---\n"
     ]
    },
    {
     "data": {
      "text/html": [
       "\n",
       "    <div>\n",
       "      \n",
       "      <progress value='1944' max='34020' style='width:300px; height:20px; vertical-align: middle;'></progress>\n",
       "      [ 1944/34020 01:43 < 28:25, 18.81 it/s, Epoch 2/35]\n",
       "    </div>\n",
       "    <table border=\"1\" class=\"dataframe\">\n",
       "  <thead>\n",
       " <tr style=\"text-align: left;\">\n",
       "      <th>Epoch</th>\n",
       "      <th>Training Loss</th>\n",
       "      <th>Validation Loss</th>\n",
       "    </tr>\n",
       "  </thead>\n",
       "  <tbody>\n",
       "    <tr>\n",
       "      <td>1</td>\n",
       "      <td>0.794300</td>\n",
       "      <td>0.719646</td>\n",
       "    </tr>\n",
       "    <tr>\n",
       "      <td>2</td>\n",
       "      <td>0.694700</td>\n",
       "      <td>0.701884</td>\n",
       "    </tr>\n",
       "  </tbody>\n",
       "</table><p>"
      ],
      "text/plain": [
       "<IPython.core.display.HTML object>"
      ]
     },
     "metadata": {},
     "output_type": "display_data"
    },
    {
     "name": "stderr",
     "output_type": "stream",
     "text": [
      "[I 2025-08-22 07:43:55,146] Trial 15 pruned. \n"
     ]
    },
    {
     "name": "stdout",
     "output_type": "stream",
     "text": [
      "--- Optuna Trial: Creating model with context=28, horizon=7 ---\n"
     ]
    },
    {
     "data": {
      "text/html": [
       "\n",
       "    <div>\n",
       "      \n",
       "      <progress value='2916' max='36936' style='width:300px; height:20px; vertical-align: middle;'></progress>\n",
       "      [ 2916/36936 02:44 < 32:05, 17.67 it/s, Epoch 3/38]\n",
       "    </div>\n",
       "    <table border=\"1\" class=\"dataframe\">\n",
       "  <thead>\n",
       " <tr style=\"text-align: left;\">\n",
       "      <th>Epoch</th>\n",
       "      <th>Training Loss</th>\n",
       "      <th>Validation Loss</th>\n",
       "    </tr>\n",
       "  </thead>\n",
       "  <tbody>\n",
       "    <tr>\n",
       "      <td>1</td>\n",
       "      <td>0.898600</td>\n",
       "      <td>0.713865</td>\n",
       "    </tr>\n",
       "    <tr>\n",
       "      <td>2</td>\n",
       "      <td>0.699000</td>\n",
       "      <td>0.692030</td>\n",
       "    </tr>\n",
       "    <tr>\n",
       "      <td>3</td>\n",
       "      <td>0.692300</td>\n",
       "      <td>0.685917</td>\n",
       "    </tr>\n",
       "  </tbody>\n",
       "</table><p>"
      ],
      "text/plain": [
       "<IPython.core.display.HTML object>"
      ]
     },
     "metadata": {},
     "output_type": "display_data"
    },
    {
     "name": "stderr",
     "output_type": "stream",
     "text": [
      "[I 2025-08-22 07:46:40,944] Trial 16 pruned. \n"
     ]
    },
    {
     "name": "stdout",
     "output_type": "stream",
     "text": [
      "--- Optuna Trial: Creating model with context=28, horizon=7 ---\n"
     ]
    },
    {
     "data": {
      "text/html": [
       "\n",
       "    <div>\n",
       "      \n",
       "      <progress value='4860' max='31104' style='width:300px; height:20px; vertical-align: middle;'></progress>\n",
       "      [ 4860/31104 04:21 < 23:33, 18.57 it/s, Epoch 5/32]\n",
       "    </div>\n",
       "    <table border=\"1\" class=\"dataframe\">\n",
       "  <thead>\n",
       " <tr style=\"text-align: left;\">\n",
       "      <th>Epoch</th>\n",
       "      <th>Training Loss</th>\n",
       "      <th>Validation Loss</th>\n",
       "    </tr>\n",
       "  </thead>\n",
       "  <tbody>\n",
       "    <tr>\n",
       "      <td>1</td>\n",
       "      <td>0.861300</td>\n",
       "      <td>0.699288</td>\n",
       "    </tr>\n",
       "    <tr>\n",
       "      <td>2</td>\n",
       "      <td>0.688200</td>\n",
       "      <td>0.690864</td>\n",
       "    </tr>\n",
       "    <tr>\n",
       "      <td>3</td>\n",
       "      <td>0.680400</td>\n",
       "      <td>0.678848</td>\n",
       "    </tr>\n",
       "    <tr>\n",
       "      <td>4</td>\n",
       "      <td>0.653100</td>\n",
       "      <td>0.640322</td>\n",
       "    </tr>\n",
       "    <tr>\n",
       "      <td>5</td>\n",
       "      <td>0.643900</td>\n",
       "      <td>0.639923</td>\n",
       "    </tr>\n",
       "  </tbody>\n",
       "</table><p>"
      ],
      "text/plain": [
       "<IPython.core.display.HTML object>"
      ]
     },
     "metadata": {},
     "output_type": "display_data"
    },
    {
     "name": "stderr",
     "output_type": "stream",
     "text": [
      "[I 2025-08-22 07:51:03,308] Trial 17 pruned. \n"
     ]
    },
    {
     "name": "stdout",
     "output_type": "stream",
     "text": [
      "--- Optuna Trial: Creating model with context=28, horizon=7 ---\n"
     ]
    },
    {
     "data": {
      "text/html": [
       "\n",
       "    <div>\n",
       "      \n",
       "      <progress value='972' max='34992' style='width:300px; height:20px; vertical-align: middle;'></progress>\n",
       "      [  972/34992 00:55 < 32:37, 17.38 it/s, Epoch 1/36]\n",
       "    </div>\n",
       "    <table border=\"1\" class=\"dataframe\">\n",
       "  <thead>\n",
       " <tr style=\"text-align: left;\">\n",
       "      <th>Epoch</th>\n",
       "      <th>Training Loss</th>\n",
       "      <th>Validation Loss</th>\n",
       "    </tr>\n",
       "  </thead>\n",
       "  <tbody>\n",
       "    <tr>\n",
       "      <td>1</td>\n",
       "      <td>0.946000</td>\n",
       "      <td>0.768812</td>\n",
       "    </tr>\n",
       "  </tbody>\n",
       "</table><p>"
      ],
      "text/plain": [
       "<IPython.core.display.HTML object>"
      ]
     },
     "metadata": {},
     "output_type": "display_data"
    },
    {
     "name": "stderr",
     "output_type": "stream",
     "text": [
      "[I 2025-08-22 07:52:00,223] Trial 18 pruned. \n"
     ]
    },
    {
     "name": "stdout",
     "output_type": "stream",
     "text": [
      "--- Optuna Trial: Creating model with context=28, horizon=7 ---\n"
     ]
    },
    {
     "data": {
      "text/html": [
       "\n",
       "    <div>\n",
       "      \n",
       "      <progress value='972' max='38880' style='width:300px; height:20px; vertical-align: middle;'></progress>\n",
       "      [  972/38880 00:50 < 32:43, 19.31 it/s, Epoch 1/40]\n",
       "    </div>\n",
       "    <table border=\"1\" class=\"dataframe\">\n",
       "  <thead>\n",
       " <tr style=\"text-align: left;\">\n",
       "      <th>Epoch</th>\n",
       "      <th>Training Loss</th>\n",
       "      <th>Validation Loss</th>\n",
       "    </tr>\n",
       "  </thead>\n",
       "  <tbody>\n",
       "    <tr>\n",
       "      <td>1</td>\n",
       "      <td>0.857300</td>\n",
       "      <td>0.729964</td>\n",
       "    </tr>\n",
       "  </tbody>\n",
       "</table><p>"
      ],
      "text/plain": [
       "<IPython.core.display.HTML object>"
      ]
     },
     "metadata": {},
     "output_type": "display_data"
    },
    {
     "name": "stderr",
     "output_type": "stream",
     "text": [
      "[I 2025-08-22 07:52:51,298] Trial 19 pruned. \n"
     ]
    },
    {
     "name": "stdout",
     "output_type": "stream",
     "text": [
      "--- Optuna Trial: Creating model with context=28, horizon=7 ---\n"
     ]
    },
    {
     "data": {
      "text/html": [
       "\n",
       "    <div>\n",
       "      \n",
       "      <progress value='972' max='20412' style='width:300px; height:20px; vertical-align: middle;'></progress>\n",
       "      [  972/20412 00:57 < 19:09, 16.91 it/s, Epoch 1/21]\n",
       "    </div>\n",
       "    <table border=\"1\" class=\"dataframe\">\n",
       "  <thead>\n",
       " <tr style=\"text-align: left;\">\n",
       "      <th>Epoch</th>\n",
       "      <th>Training Loss</th>\n",
       "      <th>Validation Loss</th>\n",
       "    </tr>\n",
       "  </thead>\n",
       "  <tbody>\n",
       "    <tr>\n",
       "      <td>1</td>\n",
       "      <td>0.762500</td>\n",
       "      <td>0.734432</td>\n",
       "    </tr>\n",
       "  </tbody>\n",
       "</table><p>"
      ],
      "text/plain": [
       "<IPython.core.display.HTML object>"
      ]
     },
     "metadata": {},
     "output_type": "display_data"
    },
    {
     "name": "stderr",
     "output_type": "stream",
     "text": [
      "[I 2025-08-22 07:53:49,513] Trial 20 pruned. \n"
     ]
    },
    {
     "name": "stdout",
     "output_type": "stream",
     "text": [
      "--- Optuna Trial: Creating model with context=28, horizon=7 ---\n"
     ]
    },
    {
     "data": {
      "text/html": [
       "\n",
       "    <div>\n",
       "      \n",
       "      <progress value='2914' max='40796' style='width:300px; height:20px; vertical-align: middle;'></progress>\n",
       "      [ 2914/40796 00:59 < 12:51, 49.08 it/s, Epoch 1/14]\n",
       "    </div>\n",
       "    <table border=\"1\" class=\"dataframe\">\n",
       "  <thead>\n",
       " <tr style=\"text-align: left;\">\n",
       "      <th>Epoch</th>\n",
       "      <th>Training Loss</th>\n",
       "      <th>Validation Loss</th>\n",
       "    </tr>\n",
       "  </thead>\n",
       "  <tbody>\n",
       "    <tr>\n",
       "      <td>1</td>\n",
       "      <td>0.696100</td>\n",
       "      <td>0.687578</td>\n",
       "    </tr>\n",
       "  </tbody>\n",
       "</table><p>"
      ],
      "text/plain": [
       "<IPython.core.display.HTML object>"
      ]
     },
     "metadata": {},
     "output_type": "display_data"
    },
    {
     "name": "stderr",
     "output_type": "stream",
     "text": [
      "[I 2025-08-22 07:54:49,766] Trial 21 pruned. \n"
     ]
    },
    {
     "name": "stdout",
     "output_type": "stream",
     "text": [
      "--- Optuna Trial: Creating model with context=28, horizon=7 ---\n"
     ]
    },
    {
     "data": {
      "text/html": [
       "\n",
       "    <div>\n",
       "      \n",
       "      <progress value='2914' max='81592' style='width:300px; height:20px; vertical-align: middle;'></progress>\n",
       "      [ 2914/81592 00:57 < 25:42, 51.01 it/s, Epoch 1/28]\n",
       "    </div>\n",
       "    <table border=\"1\" class=\"dataframe\">\n",
       "  <thead>\n",
       " <tr style=\"text-align: left;\">\n",
       "      <th>Epoch</th>\n",
       "      <th>Training Loss</th>\n",
       "      <th>Validation Loss</th>\n",
       "    </tr>\n",
       "  </thead>\n",
       "  <tbody>\n",
       "    <tr>\n",
       "      <td>1</td>\n",
       "      <td>0.703300</td>\n",
       "      <td>0.722637</td>\n",
       "    </tr>\n",
       "  </tbody>\n",
       "</table><p>"
      ],
      "text/plain": [
       "<IPython.core.display.HTML object>"
      ]
     },
     "metadata": {},
     "output_type": "display_data"
    },
    {
     "name": "stderr",
     "output_type": "stream",
     "text": [
      "[I 2025-08-22 07:55:47,641] Trial 22 pruned. \n"
     ]
    },
    {
     "name": "stdout",
     "output_type": "stream",
     "text": [
      "--- Optuna Trial: Creating model with context=28, horizon=7 ---\n"
     ]
    },
    {
     "data": {
      "text/html": [
       "\n",
       "    <div>\n",
       "      \n",
       "      <progress value='2914' max='67022' style='width:300px; height:20px; vertical-align: middle;'></progress>\n",
       "      [ 2914/67022 00:57 < 20:57, 51.00 it/s, Epoch 1/23]\n",
       "    </div>\n",
       "    <table border=\"1\" class=\"dataframe\">\n",
       "  <thead>\n",
       " <tr style=\"text-align: left;\">\n",
       "      <th>Epoch</th>\n",
       "      <th>Training Loss</th>\n",
       "      <th>Validation Loss</th>\n",
       "    </tr>\n",
       "  </thead>\n",
       "  <tbody>\n",
       "    <tr>\n",
       "      <td>1</td>\n",
       "      <td>0.697700</td>\n",
       "      <td>0.692528</td>\n",
       "    </tr>\n",
       "  </tbody>\n",
       "</table><p>"
      ],
      "text/plain": [
       "<IPython.core.display.HTML object>"
      ]
     },
     "metadata": {},
     "output_type": "display_data"
    },
    {
     "name": "stderr",
     "output_type": "stream",
     "text": [
      "[I 2025-08-22 07:56:45,527] Trial 23 pruned. \n"
     ]
    },
    {
     "name": "stdout",
     "output_type": "stream",
     "text": [
      "--- Optuna Trial: Creating model with context=28, horizon=7 ---\n"
     ]
    },
    {
     "data": {
      "text/html": [
       "\n",
       "    <div>\n",
       "      \n",
       "      <progress value='1944' max='31104' style='width:300px; height:20px; vertical-align: middle;'></progress>\n",
       "      [ 1944/31104 01:32 < 23:12, 20.95 it/s, Epoch 2/32]\n",
       "    </div>\n",
       "    <table border=\"1\" class=\"dataframe\">\n",
       "  <thead>\n",
       " <tr style=\"text-align: left;\">\n",
       "      <th>Epoch</th>\n",
       "      <th>Training Loss</th>\n",
       "      <th>Validation Loss</th>\n",
       "    </tr>\n",
       "  </thead>\n",
       "  <tbody>\n",
       "    <tr>\n",
       "      <td>1</td>\n",
       "      <td>0.888000</td>\n",
       "      <td>0.707333</td>\n",
       "    </tr>\n",
       "    <tr>\n",
       "      <td>2</td>\n",
       "      <td>0.695100</td>\n",
       "      <td>0.701137</td>\n",
       "    </tr>\n",
       "  </tbody>\n",
       "</table><p>"
      ],
      "text/plain": [
       "<IPython.core.display.HTML object>"
      ]
     },
     "metadata": {},
     "output_type": "display_data"
    },
    {
     "name": "stderr",
     "output_type": "stream",
     "text": [
      "[I 2025-08-22 07:58:19,070] Trial 24 pruned. \n"
     ]
    },
    {
     "name": "stdout",
     "output_type": "stream",
     "text": [
      "--- Optuna Trial: Creating model with context=28, horizon=7 ---\n"
     ]
    },
    {
     "data": {
      "text/html": [
       "\n",
       "    <div>\n",
       "      \n",
       "      <progress value='2914' max='107818' style='width:300px; height:20px; vertical-align: middle;'></progress>\n",
       "      [  2914/107818 01:07 < 40:14, 43.44 it/s, Epoch 1/37]\n",
       "    </div>\n",
       "    <table border=\"1\" class=\"dataframe\">\n",
       "  <thead>\n",
       " <tr style=\"text-align: left;\">\n",
       "      <th>Epoch</th>\n",
       "      <th>Training Loss</th>\n",
       "      <th>Validation Loss</th>\n",
       "    </tr>\n",
       "  </thead>\n",
       "  <tbody>\n",
       "    <tr>\n",
       "      <td>1</td>\n",
       "      <td>0.707100</td>\n",
       "      <td>0.748900</td>\n",
       "    </tr>\n",
       "  </tbody>\n",
       "</table><p>"
      ],
      "text/plain": [
       "<IPython.core.display.HTML object>"
      ]
     },
     "metadata": {},
     "output_type": "display_data"
    },
    {
     "name": "stderr",
     "output_type": "stream",
     "text": [
      "[I 2025-08-22 07:59:26,966] Trial 25 pruned. \n"
     ]
    },
    {
     "name": "stdout",
     "output_type": "stream",
     "text": [
      "--- Optuna Trial: Creating model with context=28, horizon=7 ---\n"
     ]
    },
    {
     "data": {
      "text/html": [
       "\n",
       "    <div>\n",
       "      \n",
       "      <progress value='26244' max='26244' style='width:300px; height:20px; vertical-align: middle;'></progress>\n",
       "      [26244/26244 20:34, Epoch 27/27]\n",
       "    </div>\n",
       "    <table border=\"1\" class=\"dataframe\">\n",
       "  <thead>\n",
       " <tr style=\"text-align: left;\">\n",
       "      <th>Epoch</th>\n",
       "      <th>Training Loss</th>\n",
       "      <th>Validation Loss</th>\n",
       "    </tr>\n",
       "  </thead>\n",
       "  <tbody>\n",
       "    <tr>\n",
       "      <td>1</td>\n",
       "      <td>0.805300</td>\n",
       "      <td>0.672881</td>\n",
       "    </tr>\n",
       "    <tr>\n",
       "      <td>2</td>\n",
       "      <td>0.663100</td>\n",
       "      <td>0.655926</td>\n",
       "    </tr>\n",
       "    <tr>\n",
       "      <td>3</td>\n",
       "      <td>0.656200</td>\n",
       "      <td>0.637411</td>\n",
       "    </tr>\n",
       "    <tr>\n",
       "      <td>4</td>\n",
       "      <td>0.637400</td>\n",
       "      <td>0.638001</td>\n",
       "    </tr>\n",
       "    <tr>\n",
       "      <td>5</td>\n",
       "      <td>0.636100</td>\n",
       "      <td>0.620330</td>\n",
       "    </tr>\n",
       "    <tr>\n",
       "      <td>6</td>\n",
       "      <td>0.624700</td>\n",
       "      <td>0.617106</td>\n",
       "    </tr>\n",
       "    <tr>\n",
       "      <td>7</td>\n",
       "      <td>0.612600</td>\n",
       "      <td>0.609648</td>\n",
       "    </tr>\n",
       "    <tr>\n",
       "      <td>8</td>\n",
       "      <td>0.612700</td>\n",
       "      <td>0.599591</td>\n",
       "    </tr>\n",
       "    <tr>\n",
       "      <td>9</td>\n",
       "      <td>0.606400</td>\n",
       "      <td>0.592296</td>\n",
       "    </tr>\n",
       "    <tr>\n",
       "      <td>10</td>\n",
       "      <td>0.582100</td>\n",
       "      <td>0.583395</td>\n",
       "    </tr>\n",
       "    <tr>\n",
       "      <td>11</td>\n",
       "      <td>0.581700</td>\n",
       "      <td>0.574497</td>\n",
       "    </tr>\n",
       "    <tr>\n",
       "      <td>12</td>\n",
       "      <td>0.577100</td>\n",
       "      <td>0.566884</td>\n",
       "    </tr>\n",
       "    <tr>\n",
       "      <td>13</td>\n",
       "      <td>0.568700</td>\n",
       "      <td>0.556217</td>\n",
       "    </tr>\n",
       "    <tr>\n",
       "      <td>14</td>\n",
       "      <td>0.559500</td>\n",
       "      <td>0.547704</td>\n",
       "    </tr>\n",
       "    <tr>\n",
       "      <td>15</td>\n",
       "      <td>0.553800</td>\n",
       "      <td>0.539864</td>\n",
       "    </tr>\n",
       "    <tr>\n",
       "      <td>16</td>\n",
       "      <td>0.538000</td>\n",
       "      <td>0.530290</td>\n",
       "    </tr>\n",
       "    <tr>\n",
       "      <td>17</td>\n",
       "      <td>0.532100</td>\n",
       "      <td>0.523048</td>\n",
       "    </tr>\n",
       "    <tr>\n",
       "      <td>18</td>\n",
       "      <td>0.518300</td>\n",
       "      <td>0.516264</td>\n",
       "    </tr>\n",
       "    <tr>\n",
       "      <td>19</td>\n",
       "      <td>0.513200</td>\n",
       "      <td>0.511450</td>\n",
       "    </tr>\n",
       "    <tr>\n",
       "      <td>20</td>\n",
       "      <td>0.507400</td>\n",
       "      <td>0.505520</td>\n",
       "    </tr>\n",
       "    <tr>\n",
       "      <td>21</td>\n",
       "      <td>0.502500</td>\n",
       "      <td>0.500626</td>\n",
       "    </tr>\n",
       "    <tr>\n",
       "      <td>22</td>\n",
       "      <td>0.498400</td>\n",
       "      <td>0.496975</td>\n",
       "    </tr>\n",
       "    <tr>\n",
       "      <td>23</td>\n",
       "      <td>0.497800</td>\n",
       "      <td>0.494469</td>\n",
       "    </tr>\n",
       "    <tr>\n",
       "      <td>24</td>\n",
       "      <td>0.489400</td>\n",
       "      <td>0.492651</td>\n",
       "    </tr>\n",
       "    <tr>\n",
       "      <td>25</td>\n",
       "      <td>0.494600</td>\n",
       "      <td>0.491559</td>\n",
       "    </tr>\n",
       "    <tr>\n",
       "      <td>26</td>\n",
       "      <td>0.485800</td>\n",
       "      <td>0.491500</td>\n",
       "    </tr>\n",
       "    <tr>\n",
       "      <td>27</td>\n",
       "      <td>0.484500</td>\n",
       "      <td>0.491277</td>\n",
       "    </tr>\n",
       "  </tbody>\n",
       "</table><p>"
      ],
      "text/plain": [
       "<IPython.core.display.HTML object>"
      ]
     },
     "metadata": {},
     "output_type": "display_data"
    },
    {
     "name": "stderr",
     "output_type": "stream",
     "text": [
      "[I 2025-08-22 08:20:03,453] Trial 26 finished with value: 0.4912770688533783 and parameters: {'learning_rate': 0.0001869249738107361, 'weight_decay': 0.059760763227940494, 'warmup_ratio': 0.04606620346311894, 'lr_scheduler_type': 'cosine', 'per_device_train_batch_size': 96, 'per_device_eval_batch_size': 32, 'num_train_epochs': 27, 'd_model': 256, 'num_attention_heads': 8, 'num_hidden_layers': 2, 'ffn_dim': 128, 'dropout': 0.2774114755291166, 'head_dropout': 0.0406579817457119, 'patch_length': 7}. Best is trial 13 with value: 0.4165944457054138.\n"
     ]
    },
    {
     "name": "stdout",
     "output_type": "stream",
     "text": [
      "--- Optuna Trial: Creating model with context=28, horizon=7 ---\n"
     ]
    },
    {
     "data": {
      "text/html": [
       "\n",
       "    <div>\n",
       "      \n",
       "      <progress value='3888' max='32076' style='width:300px; height:20px; vertical-align: middle;'></progress>\n",
       "      [ 3888/32076 03:32 < 25:40, 18.30 it/s, Epoch 4/33]\n",
       "    </div>\n",
       "    <table border=\"1\" class=\"dataframe\">\n",
       "  <thead>\n",
       " <tr style=\"text-align: left;\">\n",
       "      <th>Epoch</th>\n",
       "      <th>Training Loss</th>\n",
       "      <th>Validation Loss</th>\n",
       "    </tr>\n",
       "  </thead>\n",
       "  <tbody>\n",
       "    <tr>\n",
       "      <td>1</td>\n",
       "      <td>0.814100</td>\n",
       "      <td>0.674277</td>\n",
       "    </tr>\n",
       "    <tr>\n",
       "      <td>2</td>\n",
       "      <td>0.661100</td>\n",
       "      <td>0.661028</td>\n",
       "    </tr>\n",
       "    <tr>\n",
       "      <td>3</td>\n",
       "      <td>0.660700</td>\n",
       "      <td>0.649148</td>\n",
       "    </tr>\n",
       "    <tr>\n",
       "      <td>4</td>\n",
       "      <td>0.647400</td>\n",
       "      <td>0.646006</td>\n",
       "    </tr>\n",
       "  </tbody>\n",
       "</table><p>"
      ],
      "text/plain": [
       "<IPython.core.display.HTML object>"
      ]
     },
     "metadata": {},
     "output_type": "display_data"
    },
    {
     "name": "stderr",
     "output_type": "stream",
     "text": [
      "[I 2025-08-22 08:23:36,927] Trial 27 pruned. \n"
     ]
    },
    {
     "name": "stdout",
     "output_type": "stream",
     "text": [
      "--- Optuna Trial: Creating model with context=28, horizon=7 ---\n"
     ]
    },
    {
     "data": {
      "text/html": [
       "\n",
       "    <div>\n",
       "      \n",
       "      <progress value='6804' max='35964' style='width:300px; height:20px; vertical-align: middle;'></progress>\n",
       "      [ 6804/35964 05:36 < 24:02, 20.22 it/s, Epoch 7/37]\n",
       "    </div>\n",
       "    <table border=\"1\" class=\"dataframe\">\n",
       "  <thead>\n",
       " <tr style=\"text-align: left;\">\n",
       "      <th>Epoch</th>\n",
       "      <th>Training Loss</th>\n",
       "      <th>Validation Loss</th>\n",
       "    </tr>\n",
       "  </thead>\n",
       "  <tbody>\n",
       "    <tr>\n",
       "      <td>1</td>\n",
       "      <td>0.814400</td>\n",
       "      <td>0.679086</td>\n",
       "    </tr>\n",
       "    <tr>\n",
       "      <td>2</td>\n",
       "      <td>0.660300</td>\n",
       "      <td>0.651571</td>\n",
       "    </tr>\n",
       "    <tr>\n",
       "      <td>3</td>\n",
       "      <td>0.653600</td>\n",
       "      <td>0.639320</td>\n",
       "    </tr>\n",
       "    <tr>\n",
       "      <td>4</td>\n",
       "      <td>0.637200</td>\n",
       "      <td>0.634629</td>\n",
       "    </tr>\n",
       "    <tr>\n",
       "      <td>5</td>\n",
       "      <td>0.637500</td>\n",
       "      <td>0.623367</td>\n",
       "    </tr>\n",
       "    <tr>\n",
       "      <td>6</td>\n",
       "      <td>0.627100</td>\n",
       "      <td>0.619032</td>\n",
       "    </tr>\n",
       "    <tr>\n",
       "      <td>7</td>\n",
       "      <td>0.617500</td>\n",
       "      <td>0.613741</td>\n",
       "    </tr>\n",
       "  </tbody>\n",
       "</table><p>"
      ],
      "text/plain": [
       "<IPython.core.display.HTML object>"
      ]
     },
     "metadata": {},
     "output_type": "display_data"
    },
    {
     "name": "stderr",
     "output_type": "stream",
     "text": [
      "[I 2025-08-22 08:29:14,350] Trial 28 pruned. \n"
     ]
    },
    {
     "name": "stdout",
     "output_type": "stream",
     "text": [
      "--- Optuna Trial: Creating model with context=28, horizon=7 ---\n"
     ]
    },
    {
     "data": {
      "text/html": [
       "\n",
       "    <div>\n",
       "      \n",
       "      <progress value='3888' max='13608' style='width:300px; height:20px; vertical-align: middle;'></progress>\n",
       "      [ 3888/13608 03:06 < 07:46, 20.85 it/s, Epoch 4/14]\n",
       "    </div>\n",
       "    <table border=\"1\" class=\"dataframe\">\n",
       "  <thead>\n",
       " <tr style=\"text-align: left;\">\n",
       "      <th>Epoch</th>\n",
       "      <th>Training Loss</th>\n",
       "      <th>Validation Loss</th>\n",
       "    </tr>\n",
       "  </thead>\n",
       "  <tbody>\n",
       "    <tr>\n",
       "      <td>1</td>\n",
       "      <td>0.878900</td>\n",
       "      <td>0.678473</td>\n",
       "    </tr>\n",
       "    <tr>\n",
       "      <td>2</td>\n",
       "      <td>0.666500</td>\n",
       "      <td>0.663906</td>\n",
       "    </tr>\n",
       "    <tr>\n",
       "      <td>3</td>\n",
       "      <td>0.664800</td>\n",
       "      <td>0.653196</td>\n",
       "    </tr>\n",
       "    <tr>\n",
       "      <td>4</td>\n",
       "      <td>0.651500</td>\n",
       "      <td>0.649212</td>\n",
       "    </tr>\n",
       "  </tbody>\n",
       "</table><p>"
      ],
      "text/plain": [
       "<IPython.core.display.HTML object>"
      ]
     },
     "metadata": {},
     "output_type": "display_data"
    },
    {
     "name": "stderr",
     "output_type": "stream",
     "text": [
      "[I 2025-08-22 08:32:21,596] Trial 29 pruned. \n"
     ]
    },
    {
     "name": "stdout",
     "output_type": "stream",
     "text": [
      "BEST: BestRun(run_id='13', objective=0.4165944457054138, hyperparameters={'learning_rate': 0.00023695284163224964, 'weight_decay': 0.02514135162873802, 'warmup_ratio': 0.05613506650397164, 'lr_scheduler_type': 'polynomial', 'per_device_train_batch_size': 96, 'per_device_eval_batch_size': 32, 'num_train_epochs': 38, 'd_model': 256, 'num_attention_heads': 8, 'num_hidden_layers': 3, 'ffn_dim': 128, 'dropout': 0.26321548724481086, 'head_dropout': 0.001565806978548051, 'patch_length': 1}, run_summary=None)\n",
      "BEST params: {'learning_rate': 0.00023695284163224964, 'weight_decay': 0.02514135162873802, 'warmup_ratio': 0.05613506650397164, 'lr_scheduler_type': 'polynomial', 'per_device_train_batch_size': 96, 'per_device_eval_batch_size': 32, 'num_train_epochs': 38, 'd_model': 256, 'num_attention_heads': 8, 'num_hidden_layers': 3, 'ffn_dim': 128, 'dropout': 0.26321548724481086, 'head_dropout': 0.001565806978548051, 'patch_length': 1}\n"
     ]
    }
   ],
   "source": [
    "import optuna\n",
    "from transformers import Trainer, TrainingArguments, EarlyStoppingCallback\n",
    "from transformers.models.patchtst import PatchTSTConfig, PatchTSTForPrediction\n",
    "import os, optuna\n",
    "\n",
    "STUDY_NAME = \"patchtst_sales_forecast\"  # 원하는 이름 (기존과 동일해야 이어짐)\n",
    "STORAGE = f\"sqlite:///{os.path.abspath('./patchtst_sales_forecast/optuna.sqlite3')}\"\n",
    "\n",
    "# ---- 1) trial=None 안전한 helper ----\n",
    "def s_cat(trial, name, choices, default):\n",
    "    return trial.suggest_categorical(name, choices) if trial else default\n",
    "\n",
    "def s_int(trial, name, low, high, default):\n",
    "    return trial.suggest_int(name, low, high) if trial else default\n",
    "\n",
    "def s_float(trial, name, low, high, default, log=False):\n",
    "    return trial.suggest_float(name, low, high, log=log) if trial else default\n",
    "\n",
    "\n",
    "# --- 1) 모델 생성 함수: trial로부터 아키텍처/하이퍼파라미터를 받아서 모델 구성 ---\n",
    "def model_init(trial):\n",
    "    # [디버깅] 이 함수가 호출될 때마다 실제 사용되는 값을 출력합니다.\n",
    "    print(f\"--- Optuna Trial: Creating model with context={context_length}, horizon={forecast_horizon} ---\")\n",
    "    # ⬇︎ 아키텍처 탐색 공간 (필요한 것만 남기고/늘려도 됨)\n",
    "    d_model  = s_cat(trial, \"d_model\", [64, 128, 256], 128)\n",
    "    # d_model로 나누어떨어지는 head만 허용\n",
    "    heads_cand = [h for h in [4, 8, 16] if d_model % h == 0]\n",
    "    num_heads = s_cat(trial, \"num_attention_heads\", heads_cand, heads_cand[0])\n",
    "    num_layers = s_int(trial, \"num_hidden_layers\", 2, 4, 3)\n",
    "    ffn_dim   = s_cat(trial, \"ffn_dim\", [128, 256, 512], 256)\n",
    "    dropout   = s_float(trial, \"dropout\", 0.0, 0.3, 0.2)\n",
    "    head_do   = s_float(trial, \"head_dropout\", 0.0, 0.3, 0.2)\n",
    "    patch_choices = [1, 7]\n",
    "    patch_len = s_cat(trial, \"patch_length\", patch_choices, 7)\n",
    "    patch_str = patch_len  # stride=length 고정\n",
    "\n",
    "    cfg = PatchTSTConfig(\n",
    "        # --- 고정 (네 파이프라인) ---\n",
    "        num_input_channels=4,\n",
    "        context_length=context_length,\n",
    "        prediction_length=forecast_horizon,\n",
    "        num_time_varying_known_reals=3,\n",
    "        num_static_categorical_features=1,\n",
    "        cardinality=[num_entities],\n",
    "        embedding_dimension=[32],\n",
    "        scaling=\"std\",\n",
    "        loss=\"mse\",\n",
    "        # --- 탐색 대상 ---\n",
    "        d_model=d_model,\n",
    "        num_attention_heads=num_heads,\n",
    "        num_hidden_layers=num_layers,\n",
    "        ffn_dim=ffn_dim,\n",
    "        dropout=dropout,\n",
    "        head_dropout=head_do,\n",
    "        patch_length=patch_len,\n",
    "        patch_stride=patch_str,\n",
    "    )\n",
    "    import math\n",
    "    def _eff(L,p,s): return p * math.ceil(L / s)\n",
    "    def assert_no_padding(cfg):\n",
    "        ec = _eff(cfg.context_length, cfg.patch_length, cfg.patch_stride)\n",
    "        ep = _eff(cfg.prediction_length, cfg.patch_length, cfg.patch_stride)\n",
    "        if (ec, ep) != (cfg.context_length, cfg.prediction_length):\n",
    "            raise ValueError(f\"padding: ctx {cfg.context_length}->{ec}, pred {cfg.prediction_length}->{ep} \"\n",
    "                            f\"(p={cfg.patch_length}, s={cfg.patch_stride})\")\n",
    "    # model_init 내부에서 cfg 만든 직후 호출\n",
    "    assert_no_padding(cfg)\n",
    "\n",
    "    base = PatchTSTForPrediction(cfg)\n",
    "    # sales 채널만 loss/예측하도록 만든 래퍼\n",
    "    return PatchTSTSalesOnly(base, target_ch=0)\n",
    "\n",
    "# --- 2) 학습 세팅 쪽 탐색 공간 (TrainingArguments) ---\n",
    "def hp_space(trial):\n",
    "    return {\n",
    "        \"learning_rate\": trial.suggest_float(\"learning_rate\", 1e-5, 5e-4, log=True),\n",
    "        \"weight_decay\":  trial.suggest_float(\"weight_decay\", 0.0, 0.1),\n",
    "        \"warmup_ratio\":  trial.suggest_float(\"warmup_ratio\", 0.0, 0.2),\n",
    "        \"lr_scheduler_type\": trial.suggest_categorical(\n",
    "            \"lr_scheduler_type\", [\"linear\", \"cosine\", \"cosine_with_restarts\", \"polynomial\"]\n",
    "        ),\n",
    "        # 필요시 배치/에폭도 탐색\n",
    "        \"per_device_train_batch_size\": trial.suggest_categorical(\"per_device_train_batch_size\", [32, 64, 96]),\n",
    "        \"per_device_eval_batch_size\":  trial.suggest_categorical(\"per_device_eval_batch_size\",  [32, 64, 96]),\n",
    "        \"num_train_epochs\": trial.suggest_int(\"num_train_epochs\", 10, 40),\n",
    "    }\n",
    "\n",
    "# --- 3) 목표 메트릭 (작을수록 좋게) ---\n",
    "def compute_objective(metrics):\n",
    "    # eval_loss만 최소화\n",
    "    return metrics[\"eval_loss\"]\n",
    "\n",
    "# --- 4) HPO용 트레이너: model이 아니라 model_init를 넘겨야 함! ---\n",
    "trainer_hpo = Trainer(\n",
    "    model_init=model_init,\n",
    "    args=training_args,                # 네 기존 args (eval_strategy=\"epoch\" 등 포함)\n",
    "    train_dataset=train_dataset,\n",
    "    eval_dataset=valid_dataset,\n",
    "    callbacks=[EarlyStoppingCallback(early_stopping_patience=2, early_stopping_threshold=0.0)],\n",
    ")\n",
    "\n",
    "# --- 5) 탐색 실행 ---\n",
    "best_run = trainer_hpo.hyperparameter_search(\n",
    "    direction=\"minimize\",\n",
    "    backend=\"optuna\",\n",
    "    n_trials=30,                # 리소스에 맞게 늘리기/줄이기\n",
    "    hp_space=hp_space,\n",
    "    study_name=STUDY_NAME,\n",
    "    storage=STORAGE,\n",
    "    load_if_exists=True,\n",
    "    compute_objective=compute_objective,\n",
    ")\n",
    "print(\"BEST:\", best_run)\n",
    "print(\"BEST params:\", best_run.hyperparameters)\n"
   ]
  },
  {
   "cell_type": "markdown",
   "id": "aab8fbd6",
   "metadata": {},
   "source": [
    "### 최종 train"
   ]
  },
  {
   "cell_type": "code",
   "execution_count": 9,
   "id": "33dd4540",
   "metadata": {},
   "outputs": [
    {
     "name": "stderr",
     "output_type": "stream",
     "text": [
      "/workspace/myenv/lib/python3.11/site-packages/transformers/training_args.py:2083: FutureWarning: `--push_to_hub_token` is deprecated and will be removed in version 5 of 🤗 Transformers. Use `--hub_token` instead.\n",
      "  warnings.warn(\n"
     ]
    },
    {
     "data": {
      "text/html": [
       "\n",
       "    <div>\n",
       "      \n",
       "      <progress value='36936' max='36936' style='width:300px; height:20px; vertical-align: middle;'></progress>\n",
       "      [36936/36936 32:50, Epoch 38/38]\n",
       "    </div>\n",
       "    <table border=\"1\" class=\"dataframe\">\n",
       "  <thead>\n",
       " <tr style=\"text-align: left;\">\n",
       "      <th>Epoch</th>\n",
       "      <th>Training Loss</th>\n",
       "      <th>Validation Loss</th>\n",
       "    </tr>\n",
       "  </thead>\n",
       "  <tbody>\n",
       "    <tr>\n",
       "      <td>1</td>\n",
       "      <td>0.792600</td>\n",
       "      <td>0.706969</td>\n",
       "    </tr>\n",
       "    <tr>\n",
       "      <td>2</td>\n",
       "      <td>0.693600</td>\n",
       "      <td>0.690428</td>\n",
       "    </tr>\n",
       "    <tr>\n",
       "      <td>3</td>\n",
       "      <td>0.679300</td>\n",
       "      <td>0.677782</td>\n",
       "    </tr>\n",
       "    <tr>\n",
       "      <td>4</td>\n",
       "      <td>0.647400</td>\n",
       "      <td>0.635964</td>\n",
       "    </tr>\n",
       "    <tr>\n",
       "      <td>5</td>\n",
       "      <td>0.639000</td>\n",
       "      <td>0.633105</td>\n",
       "    </tr>\n",
       "    <tr>\n",
       "      <td>6</td>\n",
       "      <td>0.625400</td>\n",
       "      <td>0.622331</td>\n",
       "    </tr>\n",
       "    <tr>\n",
       "      <td>7</td>\n",
       "      <td>0.613600</td>\n",
       "      <td>0.607284</td>\n",
       "    </tr>\n",
       "    <tr>\n",
       "      <td>8</td>\n",
       "      <td>0.612000</td>\n",
       "      <td>0.607183</td>\n",
       "    </tr>\n",
       "    <tr>\n",
       "      <td>9</td>\n",
       "      <td>0.606200</td>\n",
       "      <td>0.599517</td>\n",
       "    </tr>\n",
       "    <tr>\n",
       "      <td>10</td>\n",
       "      <td>0.583600</td>\n",
       "      <td>0.586377</td>\n",
       "    </tr>\n",
       "    <tr>\n",
       "      <td>11</td>\n",
       "      <td>0.583500</td>\n",
       "      <td>0.578180</td>\n",
       "    </tr>\n",
       "    <tr>\n",
       "      <td>12</td>\n",
       "      <td>0.580900</td>\n",
       "      <td>0.575502</td>\n",
       "    </tr>\n",
       "    <tr>\n",
       "      <td>13</td>\n",
       "      <td>0.574300</td>\n",
       "      <td>0.567369</td>\n",
       "    </tr>\n",
       "    <tr>\n",
       "      <td>14</td>\n",
       "      <td>0.566300</td>\n",
       "      <td>0.556026</td>\n",
       "    </tr>\n",
       "    <tr>\n",
       "      <td>15</td>\n",
       "      <td>0.562400</td>\n",
       "      <td>0.552159</td>\n",
       "    </tr>\n",
       "    <tr>\n",
       "      <td>16</td>\n",
       "      <td>0.548100</td>\n",
       "      <td>0.543181</td>\n",
       "    </tr>\n",
       "    <tr>\n",
       "      <td>17</td>\n",
       "      <td>0.547300</td>\n",
       "      <td>0.539130</td>\n",
       "    </tr>\n",
       "    <tr>\n",
       "      <td>18</td>\n",
       "      <td>0.533200</td>\n",
       "      <td>0.537857</td>\n",
       "    </tr>\n",
       "    <tr>\n",
       "      <td>19</td>\n",
       "      <td>0.526300</td>\n",
       "      <td>0.524661</td>\n",
       "    </tr>\n",
       "    <tr>\n",
       "      <td>20</td>\n",
       "      <td>0.519400</td>\n",
       "      <td>0.516651</td>\n",
       "    </tr>\n",
       "    <tr>\n",
       "      <td>21</td>\n",
       "      <td>0.511800</td>\n",
       "      <td>0.509599</td>\n",
       "    </tr>\n",
       "    <tr>\n",
       "      <td>22</td>\n",
       "      <td>0.507700</td>\n",
       "      <td>0.501891</td>\n",
       "    </tr>\n",
       "    <tr>\n",
       "      <td>23</td>\n",
       "      <td>0.504200</td>\n",
       "      <td>0.496861</td>\n",
       "    </tr>\n",
       "    <tr>\n",
       "      <td>24</td>\n",
       "      <td>0.492500</td>\n",
       "      <td>0.487427</td>\n",
       "    </tr>\n",
       "    <tr>\n",
       "      <td>25</td>\n",
       "      <td>0.490800</td>\n",
       "      <td>0.481256</td>\n",
       "    </tr>\n",
       "    <tr>\n",
       "      <td>26</td>\n",
       "      <td>0.477400</td>\n",
       "      <td>0.474226</td>\n",
       "    </tr>\n",
       "    <tr>\n",
       "      <td>27</td>\n",
       "      <td>0.468100</td>\n",
       "      <td>0.467813</td>\n",
       "    </tr>\n",
       "    <tr>\n",
       "      <td>28</td>\n",
       "      <td>0.468600</td>\n",
       "      <td>0.459745</td>\n",
       "    </tr>\n",
       "    <tr>\n",
       "      <td>29</td>\n",
       "      <td>0.455400</td>\n",
       "      <td>0.453555</td>\n",
       "    </tr>\n",
       "    <tr>\n",
       "      <td>30</td>\n",
       "      <td>0.454800</td>\n",
       "      <td>0.446779</td>\n",
       "    </tr>\n",
       "    <tr>\n",
       "      <td>31</td>\n",
       "      <td>0.445800</td>\n",
       "      <td>0.441314</td>\n",
       "    </tr>\n",
       "    <tr>\n",
       "      <td>32</td>\n",
       "      <td>0.441800</td>\n",
       "      <td>0.435861</td>\n",
       "    </tr>\n",
       "    <tr>\n",
       "      <td>33</td>\n",
       "      <td>0.434800</td>\n",
       "      <td>0.431536</td>\n",
       "    </tr>\n",
       "    <tr>\n",
       "      <td>34</td>\n",
       "      <td>0.425000</td>\n",
       "      <td>0.426773</td>\n",
       "    </tr>\n",
       "    <tr>\n",
       "      <td>35</td>\n",
       "      <td>0.426000</td>\n",
       "      <td>0.423158</td>\n",
       "    </tr>\n",
       "    <tr>\n",
       "      <td>36</td>\n",
       "      <td>0.411300</td>\n",
       "      <td>0.420449</td>\n",
       "    </tr>\n",
       "    <tr>\n",
       "      <td>37</td>\n",
       "      <td>0.413600</td>\n",
       "      <td>0.418660</td>\n",
       "    </tr>\n",
       "    <tr>\n",
       "      <td>38</td>\n",
       "      <td>0.412000</td>\n",
       "      <td>0.416594</td>\n",
       "    </tr>\n",
       "  </tbody>\n",
       "</table><p>"
      ],
      "text/plain": [
       "<IPython.core.display.HTML object>"
      ]
     },
     "metadata": {},
     "output_type": "display_data"
    },
    {
     "name": "stdout",
     "output_type": "stream",
     "text": [
      "saved to: ./patchtst_sales_forecast_best/base\n"
     ]
    }
   ],
   "source": [
    "best = best_run.hyperparameters\n",
    "\n",
    "# TrainingArguments 반영\n",
    "\n",
    "args_dict = training_args.to_dict()\n",
    "for k, v in best.items():\n",
    "    if k in args_dict:\n",
    "        args_dict[k] = v\n",
    "best_args = TrainingArguments(**args_dict)\n",
    "\n",
    "def model_init_best():\n",
    "    # best 값으로 동일하게 구성\n",
    "    trial_like = None\n",
    "    # 그냥 model_init(None) 쓰면 기본값이 들어가므로,\n",
    "    # 아래처럼 직접 config를 만드는 게 안전. (간단히는 best를 model_init에서 읽도록 바꿔도 OK)\n",
    "    patch_length = best[\"patch_length\"]\n",
    "    cfg_best = PatchTSTConfig(\n",
    "        num_input_channels=4,\n",
    "        context_length=context_length,\n",
    "        prediction_length=forecast_horizon,\n",
    "        num_time_varying_known_reals=3,\n",
    "        num_static_categorical_features=1,\n",
    "        cardinality=[num_entities],\n",
    "        embedding_dimension=[32],\n",
    "        d_model=best[\"d_model\"],\n",
    "        num_attention_heads=best[\"num_attention_heads\"],\n",
    "        num_hidden_layers=best[\"num_hidden_layers\"],\n",
    "        ffn_dim=best[\"ffn_dim\"],\n",
    "        dropout=best[\"dropout\"],\n",
    "        head_dropout=best[\"head_dropout\"],\n",
    "        patch_length=patch_length,\n",
    "        patch_stride=patch_length,\n",
    "        scaling=\"std\",\n",
    "        loss=\"mse\",\n",
    "    )\n",
    "\n",
    "    # 안전가드\n",
    "    import math\n",
    "    def _eff(L,p,s): return p * math.ceil(L/s)\n",
    "    assert _eff(cfg_best.context_length, cfg_best.patch_length, cfg_best.patch_stride) == cfg_best.context_length\n",
    "    assert _eff(cfg_best.prediction_length, cfg_best.patch_length, cfg_best.patch_stride) == cfg_best.prediction_length\n",
    "\n",
    "    base = PatchTSTForPrediction(cfg_best)\n",
    "    return PatchTSTSalesOnly(base, target_ch=0)\n",
    "\n",
    "final_trainer = Trainer(\n",
    "    model_init=model_init_best,\n",
    "    args=best_args,\n",
    "    train_dataset=train_dataset,\n",
    "    eval_dataset=valid_dataset,\n",
    ")\n",
    "final_trainer.train()\n",
    "\n",
    "# 훈련 직후\n",
    "SAVE_DIR = \"./patchtst_sales_forecast_best/base\"   # 새 폴더\n",
    "final_trainer.model.base.save_pretrained(SAVE_DIR) # ★ config.json까지 생성됨\n",
    "print(\"saved to:\", SAVE_DIR)"
   ]
  },
  {
   "cell_type": "code",
   "execution_count": 10,
   "id": "366ba0ae",
   "metadata": {},
   "outputs": [
    {
     "data": {
      "text/plain": [
       "dict_items([('learning_rate', 0.00023695284163224964), ('weight_decay', 0.02514135162873802), ('warmup_ratio', 0.05613506650397164), ('lr_scheduler_type', 'polynomial'), ('per_device_train_batch_size', 96), ('per_device_eval_batch_size', 32), ('num_train_epochs', 38), ('d_model', 256), ('num_attention_heads', 8), ('num_hidden_layers', 3), ('ffn_dim', 128), ('dropout', 0.26321548724481086), ('head_dropout', 0.001565806978548051), ('patch_length', 1)])"
      ]
     },
     "execution_count": 10,
     "metadata": {},
     "output_type": "execute_result"
    }
   ],
   "source": [
    "best.items()"
   ]
  },
  {
   "cell_type": "markdown",
   "id": "984f7cf7",
   "metadata": {},
   "source": [
    "## Predict"
   ]
  },
  {
   "cell_type": "code",
   "execution_count": null,
   "id": "19be72dd",
   "metadata": {},
   "outputs": [],
   "source": [
    "import numpy as np\n",
    "import torch\n",
    "\n",
    "def _to_numpy(x):\n",
    "    return x.detach().cpu().numpy() if isinstance(x, torch.Tensor) else x\n",
    "\n",
    "def _pick_pred_array(preds, horizon=forecast_horizon, target_ch=0):\n",
    "    \"\"\"\n",
    "    pred_output.predictions가 tuple/list/dict/object ndarray인 다양한 경우를 모두 커버해서\n",
    "    (N, horizon) 형태의 sales 채널만 꺼내 반환.\n",
    "    \"\"\"\n",
    "    # dict-like\n",
    "    if isinstance(preds, dict):\n",
    "        for k in [\"predictions\", \"logits\", \"prediction_outputs\", \"y_hat\", \"forecast\"]:\n",
    "            if k in preds:\n",
    "                arr = _to_numpy(preds[k])\n",
    "                if isinstance(arr, np.ndarray):\n",
    "                    return arr\n",
    "\n",
    "    # tuple/list\n",
    "    if isinstance(preds, (list, tuple)):\n",
    "        for x in preds:\n",
    "            arr = _to_numpy(x)\n",
    "            if isinstance(arr, np.ndarray) and arr.ndim >= 2:\n",
    "                return arr\n",
    "\n",
    "    # numpy object 배열 (ragged)\n",
    "    if isinstance(preds, np.ndarray) and preds.dtype == object:\n",
    "        for x in preds.tolist():\n",
    "            arr = _to_numpy(x)\n",
    "            if isinstance(arr, np.ndarray) and arr.ndim >= 2:\n",
    "                return arr\n",
    "\n",
    "    # 이미 ndarray인 경우\n",
    "    if isinstance(preds, np.ndarray):\n",
    "        return preds\n",
    "\n",
    "    # 마지막 수단\n",
    "    arr = np.asarray(preds, dtype=object)\n",
    "    raise ValueError(f\"예측 배열을 추출하지 못함: type={type(preds)}, dtype={getattr(arr,'dtype',None)}\")\n",
    "\n",
    "'''\n",
    "🏷️ 매출 예측이라면?\n",
    "소수점 0.5 기준 반올림 (np.rint) 이 가장 많이 씁니다.\n",
    "다만 0.07, 0.08 같은 작은 값들이 실제로는 “0건 매출”인 경우가 많기 때문에, \n",
    "임계값(threshold) 규칙을 추가하면 더 좋아요.\n",
    "'''\n",
    "\n",
    "def round_with_threshold(x, threshold=0.3):\n",
    "    if x < threshold:\n",
    "        return 0\n",
    "    return int(np.rint(x))\n",
    "\n",
    "#df_result[\"y_pred_int\"] = df_result[\"y_pred\"].apply(round_with_threshold)"
   ]
  },
  {
   "cell_type": "code",
   "execution_count": 12,
   "id": "edb4fad6",
   "metadata": {},
   "outputs": [
    {
     "name": "stdout",
     "output_type": "stream",
     "text": [
      "Loading configuration from: ./patchtst_sales_forecast_best/base\n",
      "Loading model with specified configuration...\n",
      "✅ 모델 로드 완료: ./patchtst_sales_forecast_best/base\n",
      "model expects context_length=28, prediction_length=7, num_input_channels=4\n"
     ]
    }
   ],
   "source": [
    "import pandas as pd\n",
    "import numpy as np\n",
    "import torch\n",
    "from transformers import Trainer, AutoConfig\n",
    "from transformers.models.patchtst.modeling_patchtst import PatchTSTForPrediction\n",
    "\n",
    "\n",
    "# 1. 학습 시 TrainingArguments의 output_dir에 저장된 'best' 모델 경로를 지정합니다.\n",
    "#    보통 output_dir 내부에 'checkpoint-...' 형태의 폴더로 저장됩니다.\n",
    "MODEL_PATH = \"./patchtst_sales_forecast_best/base\"\n",
    "\n",
    "# 2. 저장된 경로에서 config.json을 명시적으로 먼저 불러옵니다.\n",
    "print(f\"Loading configuration from: {MODEL_PATH}\")\n",
    "config = AutoConfig.from_pretrained(MODEL_PATH)\n",
    "\n",
    "# 3. 위에서 불러온 config 객체를 사용하여 모델을 생성합니다.\n",
    "# 이렇게 하면 context_length 등이 올바르게 설정됩니다.\n",
    "print(\"Loading model with specified configuration...\")\n",
    "model = PatchTSTForPrediction.from_pretrained(MODEL_PATH, config=config)\n",
    "\n",
    "# 3. 예측 전용 Trainer를 생성합니다.\n",
    "trainer = Trainer(model=model)\n",
    "\n",
    "print(f\"✅ 모델 로드 완료: {MODEL_PATH}\")\n",
    "\n",
    "# 2) 모델이 기대하는 길이 읽기\n",
    "CTX = getattr(model.config, \"context_length\", None) or getattr(model.config, \"sequence_length\", None)\n",
    "H   = getattr(model.config, \"prediction_length\", None)\n",
    "print(f\"model expects context_length={CTX}, prediction_length={H}, num_input_channels={model.config.num_input_channels}\")"
   ]
  },
  {
   "cell_type": "code",
   "execution_count": null,
   "id": "32fcd954",
   "metadata": {},
   "outputs": [
    {
     "name": "stderr",
     "output_type": "stream",
     "text": [
      "/tmp/ipykernel_7215/4208757380.py:22: FutureWarning: The behavior of 'isin' with dtype=datetime64[ns] and castable values (e.g. strings) is deprecated. In a future version, these will not be considered matching by isin. Explicitly cast to the appropriate dtype before calling isin instead.\n",
      "  test_df[\"is_holiday\"] = test_df[\"date\"].isin(kr_holidays).astype(int)\n"
     ]
    },
    {
     "name": "stdout",
     "output_type": "stream",
     "text": [
      "TEST_06.csv테스트 데이터 전처리 완료\n"
     ]
    },
    {
     "name": "stdout",
     "output_type": "stream",
     "text": [
      "테스트 데이터셋 길이: 193\n"
     ]
    },
    {
     "data": {
      "text/html": [],
      "text/plain": [
       "<IPython.core.display.HTML object>"
      ]
     },
     "metadata": {},
     "output_type": "display_data"
    },
    {
     "name": "stdout",
     "output_type": "stream",
     "text": [
      "TEST_05.csv테스트 데이터 전처리 완료\n"
     ]
    },
    {
     "name": "stderr",
     "output_type": "stream",
     "text": [
      "/tmp/ipykernel_7215/4208757380.py:22: FutureWarning: The behavior of 'isin' with dtype=datetime64[ns] and castable values (e.g. strings) is deprecated. In a future version, these will not be considered matching by isin. Explicitly cast to the appropriate dtype before calling isin instead.\n",
      "  test_df[\"is_holiday\"] = test_df[\"date\"].isin(kr_holidays).astype(int)\n"
     ]
    },
    {
     "name": "stdout",
     "output_type": "stream",
     "text": [
      "테스트 데이터셋 길이: 193\n"
     ]
    },
    {
     "data": {
      "text/html": [],
      "text/plain": [
       "<IPython.core.display.HTML object>"
      ]
     },
     "metadata": {},
     "output_type": "display_data"
    },
    {
     "name": "stdout",
     "output_type": "stream",
     "text": [
      "TEST_04.csv테스트 데이터 전처리 완료\n"
     ]
    },
    {
     "name": "stderr",
     "output_type": "stream",
     "text": [
      "/tmp/ipykernel_7215/4208757380.py:22: FutureWarning: The behavior of 'isin' with dtype=datetime64[ns] and castable values (e.g. strings) is deprecated. In a future version, these will not be considered matching by isin. Explicitly cast to the appropriate dtype before calling isin instead.\n",
      "  test_df[\"is_holiday\"] = test_df[\"date\"].isin(kr_holidays).astype(int)\n"
     ]
    },
    {
     "name": "stdout",
     "output_type": "stream",
     "text": [
      "테스트 데이터셋 길이: 193\n"
     ]
    },
    {
     "data": {
      "text/html": [],
      "text/plain": [
       "<IPython.core.display.HTML object>"
      ]
     },
     "metadata": {},
     "output_type": "display_data"
    },
    {
     "name": "stdout",
     "output_type": "stream",
     "text": [
      "TEST_09.csv테스트 데이터 전처리 완료\n"
     ]
    },
    {
     "name": "stderr",
     "output_type": "stream",
     "text": [
      "/tmp/ipykernel_7215/4208757380.py:22: FutureWarning: The behavior of 'isin' with dtype=datetime64[ns] and castable values (e.g. strings) is deprecated. In a future version, these will not be considered matching by isin. Explicitly cast to the appropriate dtype before calling isin instead.\n",
      "  test_df[\"is_holiday\"] = test_df[\"date\"].isin(kr_holidays).astype(int)\n"
     ]
    },
    {
     "name": "stdout",
     "output_type": "stream",
     "text": [
      "테스트 데이터셋 길이: 193\n"
     ]
    },
    {
     "data": {
      "text/html": [],
      "text/plain": [
       "<IPython.core.display.HTML object>"
      ]
     },
     "metadata": {},
     "output_type": "display_data"
    },
    {
     "name": "stdout",
     "output_type": "stream",
     "text": [
      "TEST_08.csv테스트 데이터 전처리 완료\n"
     ]
    },
    {
     "name": "stderr",
     "output_type": "stream",
     "text": [
      "/tmp/ipykernel_7215/4208757380.py:22: FutureWarning: The behavior of 'isin' with dtype=datetime64[ns] and castable values (e.g. strings) is deprecated. In a future version, these will not be considered matching by isin. Explicitly cast to the appropriate dtype before calling isin instead.\n",
      "  test_df[\"is_holiday\"] = test_df[\"date\"].isin(kr_holidays).astype(int)\n"
     ]
    },
    {
     "name": "stdout",
     "output_type": "stream",
     "text": [
      "테스트 데이터셋 길이: 193\n"
     ]
    },
    {
     "data": {
      "text/html": [],
      "text/plain": [
       "<IPython.core.display.HTML object>"
      ]
     },
     "metadata": {},
     "output_type": "display_data"
    },
    {
     "name": "stdout",
     "output_type": "stream",
     "text": [
      "TEST_07.csv테스트 데이터 전처리 완료\n"
     ]
    },
    {
     "name": "stderr",
     "output_type": "stream",
     "text": [
      "/tmp/ipykernel_7215/4208757380.py:22: FutureWarning: The behavior of 'isin' with dtype=datetime64[ns] and castable values (e.g. strings) is deprecated. In a future version, these will not be considered matching by isin. Explicitly cast to the appropriate dtype before calling isin instead.\n",
      "  test_df[\"is_holiday\"] = test_df[\"date\"].isin(kr_holidays).astype(int)\n"
     ]
    },
    {
     "name": "stdout",
     "output_type": "stream",
     "text": [
      "테스트 데이터셋 길이: 193\n"
     ]
    },
    {
     "data": {
      "text/html": [],
      "text/plain": [
       "<IPython.core.display.HTML object>"
      ]
     },
     "metadata": {},
     "output_type": "display_data"
    },
    {
     "name": "stdout",
     "output_type": "stream",
     "text": [
      "TEST_02.csv테스트 데이터 전처리 완료\n"
     ]
    },
    {
     "name": "stderr",
     "output_type": "stream",
     "text": [
      "/tmp/ipykernel_7215/4208757380.py:22: FutureWarning: The behavior of 'isin' with dtype=datetime64[ns] and castable values (e.g. strings) is deprecated. In a future version, these will not be considered matching by isin. Explicitly cast to the appropriate dtype before calling isin instead.\n",
      "  test_df[\"is_holiday\"] = test_df[\"date\"].isin(kr_holidays).astype(int)\n"
     ]
    },
    {
     "name": "stdout",
     "output_type": "stream",
     "text": [
      "테스트 데이터셋 길이: 193\n"
     ]
    },
    {
     "data": {
      "text/html": [],
      "text/plain": [
       "<IPython.core.display.HTML object>"
      ]
     },
     "metadata": {},
     "output_type": "display_data"
    },
    {
     "name": "stdout",
     "output_type": "stream",
     "text": [
      "TEST_03.csv테스트 데이터 전처리 완료\n"
     ]
    },
    {
     "name": "stderr",
     "output_type": "stream",
     "text": [
      "/tmp/ipykernel_7215/4208757380.py:22: FutureWarning: The behavior of 'isin' with dtype=datetime64[ns] and castable values (e.g. strings) is deprecated. In a future version, these will not be considered matching by isin. Explicitly cast to the appropriate dtype before calling isin instead.\n",
      "  test_df[\"is_holiday\"] = test_df[\"date\"].isin(kr_holidays).astype(int)\n"
     ]
    },
    {
     "name": "stdout",
     "output_type": "stream",
     "text": [
      "테스트 데이터셋 길이: 193\n"
     ]
    },
    {
     "data": {
      "text/html": [],
      "text/plain": [
       "<IPython.core.display.HTML object>"
      ]
     },
     "metadata": {},
     "output_type": "display_data"
    },
    {
     "name": "stdout",
     "output_type": "stream",
     "text": [
      "TEST_01.csv테스트 데이터 전처리 완료\n"
     ]
    },
    {
     "name": "stderr",
     "output_type": "stream",
     "text": [
      "/tmp/ipykernel_7215/4208757380.py:22: FutureWarning: The behavior of 'isin' with dtype=datetime64[ns] and castable values (e.g. strings) is deprecated. In a future version, these will not be considered matching by isin. Explicitly cast to the appropriate dtype before calling isin instead.\n",
      "  test_df[\"is_holiday\"] = test_df[\"date\"].isin(kr_holidays).astype(int)\n"
     ]
    },
    {
     "name": "stdout",
     "output_type": "stream",
     "text": [
      "테스트 데이터셋 길이: 193\n"
     ]
    },
    {
     "data": {
      "text/html": [],
      "text/plain": [
       "<IPython.core.display.HTML object>"
      ]
     },
     "metadata": {},
     "output_type": "display_data"
    },
    {
     "name": "stdout",
     "output_type": "stream",
     "text": [
      "TEST_00.csv테스트 데이터 전처리 완료\n"
     ]
    },
    {
     "name": "stderr",
     "output_type": "stream",
     "text": [
      "/tmp/ipykernel_7215/4208757380.py:22: FutureWarning: The behavior of 'isin' with dtype=datetime64[ns] and castable values (e.g. strings) is deprecated. In a future version, these will not be considered matching by isin. Explicitly cast to the appropriate dtype before calling isin instead.\n",
      "  test_df[\"is_holiday\"] = test_df[\"date\"].isin(kr_holidays).astype(int)\n"
     ]
    },
    {
     "name": "stdout",
     "output_type": "stream",
     "text": [
      "테스트 데이터셋 길이: 193\n"
     ]
    },
    {
     "data": {
      "text/html": [],
      "text/plain": [
       "<IPython.core.display.HTML object>"
      ]
     },
     "metadata": {},
     "output_type": "display_data"
    },
    {
     "name": "stdout",
     "output_type": "stream",
     "text": [
      "예측 테이블 shape: (70, 193)\n",
      "store_menu  느티나무 셀프BBQ_1인 수저세트  느티나무 셀프BBQ_BBQ55(단체)  느티나무 셀프BBQ_대여료 30,000원  \\\n",
      "영업일자                                                                           \n",
      "TEST_00+1일            1.723788              0.234112                1.796696   \n",
      "TEST_00+2일            1.250817             12.516625                0.828242   \n",
      "TEST_00+3일            1.545145              5.365510                1.399596   \n",
      "TEST_00+4일            1.616241              4.484167                1.634028   \n",
      "TEST_00+5일            2.740002             36.775391                1.350462   \n",
      "TEST_00+6일            4.593117             17.783175                5.138574   \n",
      "TEST_00+7일            6.441693              0.000000                7.540094   \n",
      "\n",
      "store_menu  느티나무 셀프BBQ_대여료 60,000원  느티나무 셀프BBQ_대여료 90,000원  \\\n",
      "영업일자                                                         \n",
      "TEST_00+1일                2.869678                0.587767   \n",
      "TEST_00+2일                0.902708                0.178363   \n",
      "TEST_00+3일                0.855590                0.575883   \n",
      "TEST_00+4일                1.670088                1.164926   \n",
      "TEST_00+5일                3.037027                1.599706   \n",
      "TEST_00+6일                3.881619                1.553293   \n",
      "TEST_00+7일                6.463255                1.690040   \n",
      "\n",
      "store_menu  느티나무 셀프BBQ_본삼겹 (단품,실내)  느티나무 셀프BBQ_스프라이트 (단체)  느티나무 셀프BBQ_신라면  \\\n",
      "영업일자                                                                        \n",
      "TEST_00+1일                0.249309               0.417860        0.342825   \n",
      "TEST_00+2일                0.077668               6.049958        0.201400   \n",
      "TEST_00+3일                0.310942               5.351043        0.263870   \n",
      "TEST_00+4일                0.644325               6.481127        0.430497   \n",
      "TEST_00+5일                1.179317              19.643066        0.710786   \n",
      "TEST_00+6일                0.968828               5.335065        0.905637   \n",
      "TEST_00+7일                1.324154               0.272888        0.674627   \n",
      "\n",
      "store_menu  느티나무 셀프BBQ_쌈야채세트  느티나무 셀프BBQ_쌈장  ...  화담숲주막_스프라이트  화담숲주막_참살이 막걸리  \\\n",
      "영업일자                                         ...                               \n",
      "TEST_00+1일          0.519026        0.00000  ...     2.779047      31.196463   \n",
      "TEST_00+2일          0.000000        0.00000  ...     0.787044       0.556766   \n",
      "TEST_00+3일          0.000000        0.16029  ...     0.760831       3.018050   \n",
      "TEST_00+4일          0.220687        0.00000  ...     0.855211       4.231429   \n",
      "TEST_00+5일          0.587676        0.00000  ...     1.286552       4.584308   \n",
      "TEST_00+6일          0.730554        0.00000  ...     1.497436       8.018342   \n",
      "TEST_00+7일          1.416705        0.00000  ...     2.878874      29.387360   \n",
      "\n",
      "store_menu  화담숲주막_찹쌀식혜  화담숲주막_콜라  화담숲주막_해물파전  화담숲카페_메밀미숫가루  화담숲카페_아메리카노 HOT  \\\n",
      "영업일자                                                                          \n",
      "TEST_00+1일    9.296873  4.836957   39.503952     33.092213        12.587651   \n",
      "TEST_00+2일    0.787238  0.357850    0.853615      2.384371         0.746876   \n",
      "TEST_00+3일    0.518210  0.216252    7.745813      2.786292         4.096531   \n",
      "TEST_00+4일    2.843694  0.806683   10.511581      4.098844         5.096188   \n",
      "TEST_00+5일    3.779064  1.208322   11.816221      4.356723         4.690380   \n",
      "TEST_00+6일    3.171213  1.143825   12.840509      5.719222         4.160612   \n",
      "TEST_00+7일   10.505043  5.358883   45.565887     29.049509        11.778195   \n",
      "\n",
      "store_menu  화담숲카페_아메리카노 ICE  화담숲카페_카페라떼 ICE  화담숲카페_현미뻥스크림  \n",
      "영업일자                                                       \n",
      "TEST_00+1일        17.096409        3.551065     17.710012  \n",
      "TEST_00+2일         4.378879        1.710677      1.596210  \n",
      "TEST_00+3일         5.523314        1.853555      1.659985  \n",
      "TEST_00+4일         6.356532        2.050776      4.548093  \n",
      "TEST_00+5일         6.857763        2.636883      5.721575  \n",
      "TEST_00+6일         5.116962        1.958418      5.581764  \n",
      "TEST_00+7일        28.185160        7.001910     19.435457  \n",
      "\n",
      "[7 rows x 193 columns]\n"
     ]
    }
   ],
   "source": [
    "import os\n",
    "\n",
    "path = \"./dataset/test\"\n",
    "files = os.listdir(path)\n",
    "rows = []\n",
    "\n",
    "for file in files:\n",
    "\n",
    "    test_df = pd.read_csv(os.path.join(path, file))\n",
    "    test_df.columns = [\"date\", \"store_menu\", \"sales\"]\n",
    "    test_df[\"date\"] = pd.to_datetime(test_df[\"date\"])\n",
    "\n",
    "    test_df.loc[test_df['sales'] < 0, 'sales'] = 0\n",
    "    test_df[\"sales\"] = test_df[\"sales\"].astype(float)\n",
    "    test_df[\"sales_log\"] = np.log1p(test_df[\"sales\"])     # target은 이제 sales_log\n",
    "\n",
    "    # 기존 인코더 사용 (encoder는 train 단계에서 fit된 걸 그대로 써야 consistency 보장)\n",
    "    test_df[\"store_menu_id\"] = encoder.transform(test_df[\"store_menu\"])\n",
    "\n",
    "    # 동일한 feature 생성\n",
    "    kr_holidays = holidays.KR(years=test_df['date'].dt.year.unique())\n",
    "    test_df[\"is_holiday\"] = test_df[\"date\"].isin(kr_holidays).astype(int)\n",
    "    test_df[\"is_weekend\"] = test_df[\"date\"].dt.day_of_week.isin([5, 6]).astype(int)\n",
    "    test_df[\"is_ski_season\"] = test_df[\"date\"].dt.month.isin([12, 1, 2]).astype(int)\n",
    "\n",
    "    print(f\"{file}테스트 데이터 전처리 완료\")\n",
    "\n",
    "    # ==============================================\n",
    "    # 2. ForecastDFDataset 변환\n",
    "    # ==============================================\n",
    "    test_dataset = ForecastDFDataset(\n",
    "        test_df,\n",
    "        id_columns=[\"store_menu_id\"],\n",
    "        timestamp_column=\"date\",\n",
    "        target_columns=[\"sales_log\"],\n",
    "        control_columns=[\"is_holiday\", \"is_weekend\", \"is_ski_season\"],\n",
    "        context_length=context_length,\n",
    "        prediction_length=forecast_horizon,\n",
    "    )\n",
    "\n",
    "    print(\"테스트 데이터셋 길이:\", len(test_dataset))\n",
    "\n",
    "    # ==============================================\n",
    "    # 3. 예측 실행 (견고 추출 버전)\n",
    "    # ==============================================\n",
    "    pred_output = trainer.predict(test_dataset)\n",
    "    preds_raw = pred_output.predictions  # 컨테이너일 수 있음\n",
    "\n",
    "\n",
    "    arr = _pick_pred_array(preds_raw, horizon=forecast_horizon, target_ch=0)\n",
    "\n",
    "    # ---- (N, 7)로 정규화 ----\n",
    "    if arr.ndim == 3:\n",
    "        # 흔한 케이스 1: (N, horizon, C)\n",
    "        if arr.shape[-2] == forecast_horizon:\n",
    "            arr = arr[..., 0]                 # sales 채널만\n",
    "        # 흔한 케이스 2: (N, C, horizon)\n",
    "        elif arr.shape[-1] == forecast_horizon:\n",
    "            arr = arr[:, 0, :]                # sales 채널만\n",
    "        # 백업: 두 번째 축이 horizon이면 3번째 축을 잘라본다\n",
    "        elif arr.shape[1] == forecast_horizon:\n",
    "            arr = arr[:, :, 0]\n",
    "        else:\n",
    "            raise ValueError(f\"예상 밖 3D shape: {arr.shape}\")\n",
    "    elif arr.ndim == 2:\n",
    "        # (horizon, N) 이면 전치\n",
    "        if arr.shape[0] == forecast_horizon and arr.shape[1] != forecast_horizon:\n",
    "            arr = arr.T\n",
    "\n",
    "    # 이제 (N, 7)이어야 정상\n",
    "    assert arr.ndim == 2 and arr.shape[1] == forecast_horizon, f\"정규화 실패: {arr.shape}\"\n",
    "\n",
    "    # 로그 역변환 + 음수 방지\n",
    "    y_pred_log = arr\n",
    "    y_pred_sales = np.expm1(y_pred_log)\n",
    "    y_pred_sales = np.clip(y_pred_sales, 0, None)\n",
    "\n",
    "    # 7일 미래 날짜\n",
    "    last_date = test_df[\"date\"].max()\n",
    "    future_dates = pd.date_range(start=last_date + pd.Timedelta(days=1),\n",
    "                                periods=forecast_horizon)\n",
    "\n",
    "    # 매장명 순서 고정 (id 정렬)\n",
    "    keys_df = (\n",
    "        test_df.sort_values([\"store_menu_id\", \"date\"])\n",
    "            .drop_duplicates(\"store_menu_id\")[[\"store_menu_id\", \"store_menu\"]]\n",
    "    )\n",
    "    store_names = keys_df[\"store_menu\"].to_numpy()\n",
    "\n",
    "    # N 검증\n",
    "    assert y_pred_sales.shape[0] == len(store_names), (\n",
    "        f\"N 불일치: preds={y_pred_sales.shape[0]} vs stores={len(store_names)}\"\n",
    "    )\n",
    "\n",
    "    # 매장×7일 테이블\n",
    "    file_name = file.split(\".c\")[0]\n",
    "    for store_name, pred_row in zip(store_names, y_pred_sales):   # pred_row: (7,)\n",
    "        for day_num, (d, yhat) in enumerate(zip(future_dates, pred_row), start=1):\n",
    "            date_str = f\"{file_name}+{day_num}일\"\n",
    "            rows.append({\"date\": date_str, \"store_menu\": store_name, \"y_pred\": float(yhat)})\n",
    "\n",
    "df_result = pd.DataFrame(rows).pivot(index=\"date\", columns=\"store_menu\", values=\"y_pred\")\n",
    "#df_result[\"y_pred_int\"] = df_result[\"y_pred\"].apply(round_with_threshold)  # 결과 정수화를 원할 경우 사용\n",
    "df_result.index.name = \"영업일자\"\n",
    "df_result.to_csv(\"test_predictions.csv\", index=True, encoding=\"utf-8-sig\")\n",
    "\n",
    "print(\"예측 테이블 shape:\", df_result.shape)  # (7, 매장수)\n",
    "print(df_result.head(7))\n"
   ]
  },
  {
   "cell_type": "markdown",
   "id": "a364389c",
   "metadata": {},
   "source": []
  },
  {
   "cell_type": "code",
   "execution_count": null,
   "id": "426add21",
   "metadata": {},
   "outputs": [],
   "source": []
  },
  {
   "cell_type": "code",
   "execution_count": null,
   "id": "d5e5fe0a",
   "metadata": {},
   "outputs": [],
   "source": []
  },
  {
   "cell_type": "code",
   "execution_count": null,
   "id": "98fce606",
   "metadata": {},
   "outputs": [],
   "source": []
  },
  {
   "cell_type": "code",
   "execution_count": null,
   "id": "f0b6f6ea",
   "metadata": {},
   "outputs": [],
   "source": []
  },
  {
   "cell_type": "code",
   "execution_count": null,
   "id": "9a8e8dc9",
   "metadata": {},
   "outputs": [],
   "source": []
  }
 ],
 "metadata": {
  "kernelspec": {
   "display_name": "myenv (3.11.11)",
   "language": "python",
   "name": "python3"
  },
  "language_info": {
   "codemirror_mode": {
    "name": "ipython",
    "version": 3
   },
   "file_extension": ".py",
   "mimetype": "text/x-python",
   "name": "python",
   "nbconvert_exporter": "python",
   "pygments_lexer": "ipython3",
   "version": "3.11.11"
  }
 },
 "nbformat": 4,
 "nbformat_minor": 5
}
