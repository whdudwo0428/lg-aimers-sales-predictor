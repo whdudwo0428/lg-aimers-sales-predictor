{
 "cells": [
  {
   "cell_type": "code",
   "execution_count": 1,
   "id": "e17aee53",
   "metadata": {},
   "outputs": [],
   "source": [
    "#!pip install gluonts==0.14.4\n",
    "#!pip install 'gluonts[torch]'\n",
    "#!pip install --upgrade gluonts\n",
    "#!pip install --upgrade transformers"
   ]
  },
  {
   "cell_type": "code",
   "execution_count": 21,
   "id": "79387a7b",
   "metadata": {},
   "outputs": [
    {
     "name": "stdout",
     "output_type": "stream",
     "text": [
      "cuda\n"
     ]
    }
   ],
   "source": [
    "import pandas as pd\n",
    "import numpy as np\n",
    "import torch\n",
    "from sklearn.preprocessing import LabelEncoder\n",
    "import holidays\n",
    "from transformers import PatchTSTConfig, PatchTSTForPrediction, TrainingArguments, Trainer\n",
    "\n",
    "# 💡 라이브러리 변경: tsfm_public의 도구들을 가져옵니다.\n",
    "from tsfm_public.toolkit.time_series_preprocessor import TimeSeriesPreprocessor\n",
    "from tsfm_public.toolkit.dataset import ForecastDFDataset\n",
    "\n",
    "DEVICE = \"cuda\" if torch.cuda.is_available() else \"cpu\"\n",
    "print(DEVICE)"
   ]
  },
  {
   "cell_type": "code",
   "execution_count": 22,
   "id": "f2a178ae",
   "metadata": {},
   "outputs": [],
   "source": [
    "import torch\n",
    "import torch.nn.functional as F\n",
    "from transformers.models.patchtst.modeling_patchtst import PatchTSTForPrediction\n",
    "\n",
    "TARGET_CH = 0  # sales_log 채널 인덱스(보통 0)\n",
    "\n",
    "class PatchTSTSalesOnly(torch.nn.Module):\n",
    "    def __init__(self, base: PatchTSTForPrediction, target_ch: int = TARGET_CH):\n",
    "        super().__init__()\n",
    "        self.base = base\n",
    "        self.target_ch = target_ch\n",
    "        self.config = base.config  # HF가 참조\n",
    "\n",
    "    # ★ Trainer가 state_dict 저장할 때 base만 저장되도록\n",
    "    def state_dict(self, *args, **kwargs):\n",
    "        return self.base.state_dict(*args, **kwargs)\n",
    "\n",
    "    # ★ 로드 시에도 base로 로드되도록\n",
    "    def load_state_dict(self, state_dict, strict=True):\n",
    "        return self.base.load_state_dict(state_dict, strict)\n",
    "\n",
    "    # ★ 명시적으로 HuggingFace 형식으로 저장하고 싶을 때\n",
    "    def save_pretrained(self, save_directory):\n",
    "        self.base.save_pretrained(save_directory)\n",
    "\n",
    "    @staticmethod\n",
    "    def _extract_preds_from_output(out, pred_len: int, num_in_ch: int):\n",
    "        # dict-like\n",
    "        if hasattr(out, \"keys\"):\n",
    "            for k in [\"logits\", \"predictions\", \"prediction_outputs\", \"y_hat\", \"yhat\", \"forecast\"]:\n",
    "                v = out.get(k, None)\n",
    "                if isinstance(v, torch.Tensor):\n",
    "                    return v\n",
    "        # attribute\n",
    "        for k in [\"logits\", \"predictions\", \"prediction_outputs\", \"y_hat\", \"yhat\", \"forecast\"]:\n",
    "            v = getattr(out, k, None)\n",
    "            if isinstance(v, torch.Tensor):\n",
    "                return v\n",
    "        # tuple/list\n",
    "        if isinstance(out, (tuple, list)):\n",
    "            cand = [t for t in out if isinstance(t, torch.Tensor)]\n",
    "            for t in cand:\n",
    "                if t.ndim == 3 and t.shape[-2] == pred_len and (t.shape[-1] in (1, num_in_ch)):\n",
    "                    return t\n",
    "            for t in cand:\n",
    "                if t.ndim == 2 and t.shape[-1] == pred_len:\n",
    "                    return t\n",
    "            if cand:\n",
    "                return max(cand, key=lambda x: x.numel())\n",
    "        # fallback to tuple conversion\n",
    "        try:\n",
    "            tup = out.to_tuple()\n",
    "            for t in tup:\n",
    "                if isinstance(t, torch.Tensor) and t.ndim >= 2:\n",
    "                    return t\n",
    "        except Exception:\n",
    "            pass\n",
    "        raise AttributeError(\"예측 텐서를 출력에서 찾지 못했습니다.\")\n",
    "\n",
    "    def forward(self, past_values, past_observed_mask=None, future_values=None, **kwargs):\n",
    "        # 내부 기본 loss는 피하고 예측만 얻기 위해 future_values=None으로 호출\n",
    "        base_out = self.base(\n",
    "            past_values=past_values,\n",
    "            past_observed_mask=past_observed_mask,\n",
    "            future_values=None,\n",
    "            **kwargs\n",
    "        )\n",
    "\n",
    "        # 예측 텐서 추출\n",
    "        preds_all = self._extract_preds_from_output(\n",
    "            base_out,\n",
    "            pred_len=self.config.prediction_length,\n",
    "            num_in_ch=self.config.num_input_channels,\n",
    "        )  # (B, pred_len, C) or (B, pred_len)\n",
    "\n",
    "        # 타깃 채널만 선택\n",
    "        if preds_all.ndim == 3:\n",
    "            preds_target = preds_all[..., self.target_ch]  # (B, pred_len)\n",
    "        else:\n",
    "            preds_target = preds_all  # 이미 (B, pred_len)\n",
    "\n",
    "        # 라벨도 타깃 채널만으로 맞춰서 손실 계산\n",
    "        loss = None\n",
    "        if future_values is not None:\n",
    "            fv = future_values\n",
    "            if fv.ndim == 3 and fv.shape[-1] == self.config.num_input_channels:\n",
    "                target = fv[..., self.target_ch].float()      # (B, pred_len)\n",
    "            elif fv.ndim == 3 and fv.shape[-1] == 1:\n",
    "                target = fv.squeeze(-1).float()               # (B, pred_len)\n",
    "            elif fv.ndim == 2:\n",
    "                target = fv.float()\n",
    "            else:\n",
    "                raise RuntimeError(f\"future_values shape 예상 밖: {fv.shape}\")\n",
    "            loss = F.mse_loss(preds_target.float(), target)\n",
    "\n",
    "        # HF Trainer가 인식하는 dict 반환 (loss/logits 필수)\n",
    "        ret = {\n",
    "            \"logits\": preds_target,           # predict/eval에서 사용\n",
    "            \"predictions\": preds_target,      # predict() 시 편의\n",
    "        }\n",
    "        if loss is not None:\n",
    "            ret[\"loss\"] = loss\n",
    "        # 필요하면 loc/scale도 패스스루\n",
    "        for k in [\"loc\", \"scale\"]:\n",
    "            v = getattr(base_out, k, None) if not isinstance(base_out, dict) else base_out.get(k, None)\n",
    "            if isinstance(v, torch.Tensor):\n",
    "                ret[k] = v\n",
    "        return ret\n"
   ]
  },
  {
   "cell_type": "markdown",
   "id": "a37fdbd2",
   "metadata": {},
   "source": [
    "## 학습 데이터 준비"
   ]
  },
  {
   "cell_type": "code",
   "execution_count": 23,
   "id": "6f7f2ea5",
   "metadata": {},
   "outputs": [
    {
     "name": "stdout",
     "output_type": "stream",
     "text": [
      "출시일에만 있는 메뉴: set()\n",
      "판매 데이터에만 있는 메뉴: {'라그로타_카스', '느티나무 셀프BBQ_잔디그늘집 대여료 (6인석)', '담하_콜라', '연회장_Cass Beer', '느티나무 셀프BBQ_잔디그늘집 의자 추가', '느티나무 셀프BBQ_1인 수저세트', '카페테리아_아메리카노(ICE)', '연회장_Convention Hall', '느티나무 셀프BBQ_일회용 종이컵', '연회장_Grand Ballroom', '포레스트릿_복숭아 아이스티', '화담숲카페_아메리카노 HOT', '담하_제로콜라', '화담숲주막_참살이 막걸리', '미라시아_브런치(대인) 주중', '느티나무 셀프BBQ_잔디그늘집 대여료 (12인석)', '느티나무 셀프BBQ_친환경 접시 23cm', '느티나무 셀프BBQ_일회용 소주컵', '미라시아_공깃밥', '미라시아_오븐구이 윙과 킬바사소세지', '연회장_로제 치즈떡볶이', '카페테리아_카페라떼(ICE)', '미라시아_BBQ Platter', '포레스트릿_치즈 핫도그', '화담숲카페_현미뻥스크림', '포레스트릿_스프라이트', '카페테리아_짜장밥', '라그로타_Gls.미션 서드', '라그로타_아메리카노', '라그로타_스프라이트', '카페테리아_아메리카노(HOT)', '미라시아_브런치 2인 패키지 ', '미라시아_(화덕) 불고기 페퍼로니 반반피자', '느티나무 셀프BBQ_신라면', '카페테리아_약 고추장 돌솥비빔밥', '라그로타_빵 추가 (1인)', '담하_스프라이트', '화담숲카페_메밀미숫가루', '연회장_모둠 돈육구이(3인)', '담하_처음처럼', '느티나무 셀프BBQ_대여료 30,000원', '미라시아_(단체)브런치주중 36,000', '화담숲주막_단호박 식혜 ', '포레스트릿_아메리카노(HOT)', '카페테리아_복숭아 아이스티', '미라시아_BBQ 고기추가', '담하_담하 한우 불고기', '연회장_Conference M9', '라그로타_Open Food', '연회장_골뱅이무침', '담하_카스', '카페테리아_샷 추가', '느티나무 셀프BBQ_BBQ55(단체)', '카페테리아_짬뽕', '연회장_Conference L1', '화담숲카페_카페라떼 ICE', '느티나무 셀프BBQ_참이슬 (단체)', '포레스트릿_아메리카노(ICE)', '담하_한우 우거지 국밥', '화담숲주막_병천순대', '라그로타_G-Charge(3)', '연회장_Regular Coffee', '담하_(단체) 황태해장국 3/27까지', '미라시아_얼그레이 하이볼', '미라시아_브런치 4인 패키지 ', '느티나무 셀프BBQ_카스 병(단체)', '카페테리아_구슬아이스크림', '담하_갑오징어 비빔밥', '담하_은이버섯 갈비탕', '카페테리아_새우 볶음밥', '카페테리아_돼지고기 김치찌개', '화담숲주막_콜라', '포레스트릿_카페라떼(HOT)', '연회장_Conference M8', '담하_들깨 양지탕', '라그로타_Gls.Sileni', '미라시아_애플망고 에이드', '담하_생목살 김치찌개', '담하_공깃밥', '연회장_Cookie Platter', '담하_메밀면 사리', '연회장_Conference L3', '연회장_Conference M1', '연회장_야채추가', '포레스트릿_페스츄리 소시지', '미라시아_미라시아 브런치 (패키지)', '담하_(단체) 공깃밥', '카페테리아_오픈푸드', '포레스트릿_생수', '라그로타_하이네켄(생)', '카페테리아_짬뽕밥', '느티나무 셀프BBQ_대여료 90,000원', '카페테리아_공깃밥(추가)', '담하_(단체) 한우 우거지 국밥', '담하_한우 떡갈비 정식', '미라시아_레인보우칵테일(알코올)', '담하_황태해장국', '미라시아_브런치(어린이)', '느티나무 셀프BBQ_스프라이트 (단체)', '미라시아_브런치(대인) 주말', '카페테리아_수제 등심 돈까스', '연회장_돈목살 김치찌개 (밥포함)', '카페테리아_어린이 돈까스', '담하_한우 차돌박이 된장찌개', '느티나무 셀프BBQ_대여료 60,000원', '화담숲주막_해물파전', '연회장_주먹밥 (2ea)', '담하_느린마을 막걸리', '카페테리아_치즈돈까스', '포레스트릿_카페라떼(ICE)', '포레스트릿_떡볶이', '화담숲주막_스프라이트', '카페테리아_한상 삼겹구이 정식(2인) 소요시간 약 15~20분', '포레스트릿_코카콜라', '느티나무 셀프BBQ_본삼겹 (단품,실내)', '연회장_Conference L2', '미라시아_글라스와인 (레드)', '담하_룸 이용료', '화담숲주막_느린마을 막걸리', '담하_테라', '라그로타_자몽리치에이드', '연회장_매콤 무뼈닭발&계란찜', '느티나무 셀프BBQ_친환경 접시 14cm', '라그로타_미션 서드 카베르네 쉬라', '느티나무 셀프BBQ_쌈야채세트', '카페테리아_짜장면', '라그로타_제로콜라', '연회장_OPUS 2', '화담숲카페_아메리카노 ICE', '포레스트릿_꼬치어묵', '느티나무 셀프BBQ_콜라 (단체)', '라그로타_해산물 토마토 스파게티', '카페테리아_새우튀김 우동', '라그로타_콜라', '담하_라면사리', '담하_참이슬', '화담숲주막_찹쌀식혜', '라그로타_해산물 토마토 리조또', '담하_한우 미역국 정식', '담하_(후식) 된장찌개', '카페테리아_카페라떼(HOT)'}\n"
     ]
    }
   ],
   "source": [
    "# open_date.csv의 메뉴 이름 집합\n",
    "launch_menu_names = set(pd.read_csv('./EDA/open_date.csv')['메뉴'].dropna())\n",
    "\n",
    "# train.csv의 메뉴 이름 집합\n",
    "sales_menu_names = set(pd.read_csv(\"./dataset/train/train.csv\")['영업장명_메뉴명'].dropna())\n",
    "\n",
    "# 출시일에만 있고 판매 데이터에는 없는 메뉴 (문제가 될 가능성은 적음)\n",
    "print(\"출시일에만 있는 메뉴:\", launch_menu_names - sales_menu_names)\n",
    "\n",
    "# 판매 데이터에는 있는데 출시일 정보가 없는 메뉴 (이 부분을 확인해야 함)\n",
    "print(\"판매 데이터에만 있는 메뉴:\", sales_menu_names - launch_menu_names)"
   ]
  },
  {
   "cell_type": "code",
   "execution_count": 24,
   "id": "a1b84831",
   "metadata": {},
   "outputs": [
    {
     "name": "stdout",
     "output_type": "stream",
     "text": [
      "데이터 전처리 완료. DataFrame 샘플:\n"
     ]
    },
    {
     "name": "stderr",
     "output_type": "stream",
     "text": [
      "/tmp/ipykernel_1423/1688156681.py:29: FutureWarning: DataFrameGroupBy.apply operated on the grouping columns. This behavior is deprecated, and in a future version of pandas the grouping columns will be excluded from the operation. Either pass `include_groups=False` to exclude the groupings or explicitly select the grouping columns after groupby to silence this warning.\n",
      "  df = df.groupby('store_menu').apply(mask_prelaunch_sales).reset_index(drop=True)\n",
      "/tmp/ipykernel_1423/1688156681.py:40: FutureWarning: The behavior of 'isin' with dtype=datetime64[ns] and castable values (e.g. strings) is deprecated. In a future version, these will not be considered matching by isin. Explicitly cast to the appropriate dtype before calling isin instead.\n",
      "  df[\"is_holiday\"] = df[\"date\"].isin(kr_holidays).astype(int)\n"
     ]
    }
   ],
   "source": [
    "'''\n",
    "라그로타_까르보나라, 담하 꼬막 비빔밥은 판매수량이 0이어도 판매하지 않는 기간까지 학습하기 위해 시작 시점 수정함\n",
    "'''\n",
    "# ==============================================\n",
    "# 1. 데이터 로드 및 전처리 (사용자 코드 유지)\n",
    "# ==============================================\n",
    "\n",
    "# 1. 신메뉴 출시일 데이터 준비\n",
    "menu_launch_df = pd.read_csv('./EDA/open_date.csv')\n",
    "menu_launch_df['출시'] = pd.to_datetime(menu_launch_df['출시'], errors='coerce')\n",
    "launch_dates = menu_launch_df.set_index('메뉴')['출시'].dropna().to_dict()\n",
    "\n",
    "def mask_prelaunch_sales(group):\n",
    "    menu_name = group.name\n",
    "    launch_date = launch_dates.get(menu_name)\n",
    "    \n",
    "    if launch_date:\n",
    "        group.loc[group['date'] < launch_date, 'sales'] = np.nan\n",
    "    return group\n",
    "\n",
    "\n",
    "df = pd.read_csv(\"./dataset/train/train.csv\")\n",
    "df.columns = [\"date\", \"store_menu\", \"sales\"]\n",
    "df[\"date\"] = pd.to_datetime(df[\"date\"])\n",
    "\n",
    "df.loc[df['sales'] < 0, 'sales'] = 0\n",
    "df[\"sales\"] = df[\"sales\"].astype(float)\n",
    "# 메뉴별로 그룹화하여 함수 적용 후 인덱스 초기화\n",
    "df = df.groupby('store_menu').apply(mask_prelaunch_sales).reset_index(drop=True)\n",
    "df[\"sales_log\"] = np.log1p(df[\"sales\"])     # target은 이제 sales_log\n",
    "\n",
    "# entity embedding용 ID 인코딩\n",
    "# LabelEncoder 객체를 저장해두면 나중에 원래 이름으로 복원할 때 유용합니다.\n",
    "encoder = LabelEncoder()\n",
    "df[\"store_menu_id\"] = encoder.fit_transform(df[\"store_menu\"])\n",
    "num_entities = df[\"store_menu_id\"].nunique() # 고유 ID 개수 저장\n",
    "\n",
    "# feature 추가\n",
    "kr_holidays = holidays.KR(years=df['date'].dt.year.unique())\n",
    "df[\"is_holiday\"] = df[\"date\"].isin(kr_holidays).astype(int)\n",
    "df[\"is_weekend\"] = df[\"date\"].dt.day_of_week.isin([5, 6]).astype(int)\n",
    "df[\"is_ski_season\"] = df[\"date\"].dt.month.isin([12, 1, 2]).astype(int)\n",
    "\n",
    "print(\"데이터 전처리 완료. DataFrame 샘플:\")\n",
    "#print(df.head())"
   ]
  },
  {
   "cell_type": "code",
   "execution_count": 25,
   "id": "1e560120",
   "metadata": {},
   "outputs": [
    {
     "data": {
      "text/plain": [
       "sales\n",
       "False    93386\n",
       "True      9290\n",
       "Name: count, dtype: int64"
      ]
     },
     "execution_count": 25,
     "metadata": {},
     "output_type": "execute_result"
    }
   ],
   "source": [
    "df[\"sales\"].isna().value_counts()"
   ]
  },
  {
   "cell_type": "code",
   "execution_count": 26,
   "id": "38360b36",
   "metadata": {},
   "outputs": [
    {
     "data": {
      "text/html": [
       "<div>\n",
       "<style scoped>\n",
       "    .dataframe tbody tr th:only-of-type {\n",
       "        vertical-align: middle;\n",
       "    }\n",
       "\n",
       "    .dataframe tbody tr th {\n",
       "        vertical-align: top;\n",
       "    }\n",
       "\n",
       "    .dataframe thead th {\n",
       "        text-align: right;\n",
       "    }\n",
       "</style>\n",
       "<table border=\"1\" class=\"dataframe\">\n",
       "  <thead>\n",
       "    <tr style=\"text-align: right;\">\n",
       "      <th></th>\n",
       "      <th>date</th>\n",
       "      <th>store_menu</th>\n",
       "      <th>sales</th>\n",
       "      <th>sales_log</th>\n",
       "      <th>store_menu_id</th>\n",
       "      <th>is_holiday</th>\n",
       "      <th>is_weekend</th>\n",
       "      <th>is_ski_season</th>\n",
       "    </tr>\n",
       "  </thead>\n",
       "  <tbody>\n",
       "    <tr>\n",
       "      <th>4788</th>\n",
       "      <td>2023-01-01</td>\n",
       "      <td>느티나무 셀프BBQ_쌈장</td>\n",
       "      <td>NaN</td>\n",
       "      <td>NaN</td>\n",
       "      <td>9</td>\n",
       "      <td>1</td>\n",
       "      <td>1</td>\n",
       "      <td>1</td>\n",
       "    </tr>\n",
       "    <tr>\n",
       "      <th>4789</th>\n",
       "      <td>2023-01-02</td>\n",
       "      <td>느티나무 셀프BBQ_쌈장</td>\n",
       "      <td>NaN</td>\n",
       "      <td>NaN</td>\n",
       "      <td>9</td>\n",
       "      <td>0</td>\n",
       "      <td>0</td>\n",
       "      <td>1</td>\n",
       "    </tr>\n",
       "    <tr>\n",
       "      <th>4790</th>\n",
       "      <td>2023-01-03</td>\n",
       "      <td>느티나무 셀프BBQ_쌈장</td>\n",
       "      <td>NaN</td>\n",
       "      <td>NaN</td>\n",
       "      <td>9</td>\n",
       "      <td>0</td>\n",
       "      <td>0</td>\n",
       "      <td>1</td>\n",
       "    </tr>\n",
       "    <tr>\n",
       "      <th>4791</th>\n",
       "      <td>2023-01-04</td>\n",
       "      <td>느티나무 셀프BBQ_쌈장</td>\n",
       "      <td>NaN</td>\n",
       "      <td>NaN</td>\n",
       "      <td>9</td>\n",
       "      <td>0</td>\n",
       "      <td>0</td>\n",
       "      <td>1</td>\n",
       "    </tr>\n",
       "    <tr>\n",
       "      <th>4792</th>\n",
       "      <td>2023-01-05</td>\n",
       "      <td>느티나무 셀프BBQ_쌈장</td>\n",
       "      <td>NaN</td>\n",
       "      <td>NaN</td>\n",
       "      <td>9</td>\n",
       "      <td>0</td>\n",
       "      <td>0</td>\n",
       "      <td>1</td>\n",
       "    </tr>\n",
       "    <tr>\n",
       "      <th>...</th>\n",
       "      <td>...</td>\n",
       "      <td>...</td>\n",
       "      <td>...</td>\n",
       "      <td>...</td>\n",
       "      <td>...</td>\n",
       "      <td>...</td>\n",
       "      <td>...</td>\n",
       "      <td>...</td>\n",
       "    </tr>\n",
       "    <tr>\n",
       "      <th>5315</th>\n",
       "      <td>2024-06-11</td>\n",
       "      <td>느티나무 셀프BBQ_쌈장</td>\n",
       "      <td>0.0</td>\n",
       "      <td>0.000000</td>\n",
       "      <td>9</td>\n",
       "      <td>0</td>\n",
       "      <td>0</td>\n",
       "      <td>0</td>\n",
       "    </tr>\n",
       "    <tr>\n",
       "      <th>5316</th>\n",
       "      <td>2024-06-12</td>\n",
       "      <td>느티나무 셀프BBQ_쌈장</td>\n",
       "      <td>0.0</td>\n",
       "      <td>0.000000</td>\n",
       "      <td>9</td>\n",
       "      <td>0</td>\n",
       "      <td>0</td>\n",
       "      <td>0</td>\n",
       "    </tr>\n",
       "    <tr>\n",
       "      <th>5317</th>\n",
       "      <td>2024-06-13</td>\n",
       "      <td>느티나무 셀프BBQ_쌈장</td>\n",
       "      <td>0.0</td>\n",
       "      <td>0.000000</td>\n",
       "      <td>9</td>\n",
       "      <td>0</td>\n",
       "      <td>0</td>\n",
       "      <td>0</td>\n",
       "    </tr>\n",
       "    <tr>\n",
       "      <th>5318</th>\n",
       "      <td>2024-06-14</td>\n",
       "      <td>느티나무 셀프BBQ_쌈장</td>\n",
       "      <td>2.0</td>\n",
       "      <td>1.098612</td>\n",
       "      <td>9</td>\n",
       "      <td>0</td>\n",
       "      <td>0</td>\n",
       "      <td>0</td>\n",
       "    </tr>\n",
       "    <tr>\n",
       "      <th>5319</th>\n",
       "      <td>2024-06-15</td>\n",
       "      <td>느티나무 셀프BBQ_쌈장</td>\n",
       "      <td>2.0</td>\n",
       "      <td>1.098612</td>\n",
       "      <td>9</td>\n",
       "      <td>0</td>\n",
       "      <td>1</td>\n",
       "      <td>0</td>\n",
       "    </tr>\n",
       "  </tbody>\n",
       "</table>\n",
       "<p>532 rows × 8 columns</p>\n",
       "</div>"
      ],
      "text/plain": [
       "           date     store_menu  sales  sales_log  store_menu_id  is_holiday  \\\n",
       "4788 2023-01-01  느티나무 셀프BBQ_쌈장    NaN        NaN              9           1   \n",
       "4789 2023-01-02  느티나무 셀프BBQ_쌈장    NaN        NaN              9           0   \n",
       "4790 2023-01-03  느티나무 셀프BBQ_쌈장    NaN        NaN              9           0   \n",
       "4791 2023-01-04  느티나무 셀프BBQ_쌈장    NaN        NaN              9           0   \n",
       "4792 2023-01-05  느티나무 셀프BBQ_쌈장    NaN        NaN              9           0   \n",
       "...         ...            ...    ...        ...            ...         ...   \n",
       "5315 2024-06-11  느티나무 셀프BBQ_쌈장    0.0   0.000000              9           0   \n",
       "5316 2024-06-12  느티나무 셀프BBQ_쌈장    0.0   0.000000              9           0   \n",
       "5317 2024-06-13  느티나무 셀프BBQ_쌈장    0.0   0.000000              9           0   \n",
       "5318 2024-06-14  느티나무 셀프BBQ_쌈장    2.0   1.098612              9           0   \n",
       "5319 2024-06-15  느티나무 셀프BBQ_쌈장    2.0   1.098612              9           0   \n",
       "\n",
       "      is_weekend  is_ski_season  \n",
       "4788           1              1  \n",
       "4789           0              1  \n",
       "4790           0              1  \n",
       "4791           0              1  \n",
       "4792           0              1  \n",
       "...          ...            ...  \n",
       "5315           0              0  \n",
       "5316           0              0  \n",
       "5317           0              0  \n",
       "5318           0              0  \n",
       "5319           1              0  \n",
       "\n",
       "[532 rows x 8 columns]"
      ]
     },
     "execution_count": 26,
     "metadata": {},
     "output_type": "execute_result"
    }
   ],
   "source": [
    "df.loc[(df[\"store_menu\"] == \"느티나무 셀프BBQ_쌈장\")]"
   ]
  },
  {
   "cell_type": "code",
   "execution_count": 27,
   "id": "aba0ec9f",
   "metadata": {},
   "outputs": [
    {
     "name": "stdout",
     "output_type": "stream",
     "text": [
      "데이터셋 변환 완료 ✅\n",
      "train_dataset 길이: 93219\n",
      "valid_dataset 길이: 193\n"
     ]
    }
   ],
   "source": [
    "# ==============================================\n",
    "# 2. ForecastDFDataset으로 변환\n",
    "# ==============================================\n",
    "forecast_horizon = 7\n",
    "context_length = 28\n",
    "\n",
    "# 학습/검증 데이터 분리\n",
    "split_date = df['date'].max() - pd.Timedelta(days=forecast_horizon * 2)\n",
    "train_data = df[df['date'] < split_date]\n",
    "valid_data = df[df['date'] >= split_date]  # 검증 데이터는 전체 사용\n",
    "\n",
    "# ForecastDFDataset 생성\n",
    "train_dataset = ForecastDFDataset(\n",
    "    train_data,\n",
    "    id_columns=[\"store_menu_id\"],\n",
    "    timestamp_column=\"date\",\n",
    "    target_columns=[\"sales_log\"],\n",
    "    control_columns=[\"is_holiday\", \"is_weekend\", \"is_ski_season\"],\n",
    "    context_length=context_length,\n",
    "    prediction_length=forecast_horizon,\n",
    ")\n",
    "\n",
    "valid_dataset = ForecastDFDataset(\n",
    "    valid_data,\n",
    "    id_columns=[\"store_menu_id\"],\n",
    "    timestamp_column=\"date\",\n",
    "    target_columns=[\"sales_log\"],\n",
    "    control_columns=[\"is_holiday\", \"is_weekend\", \"is_ski_season\"],\n",
    "    context_length=context_length,\n",
    "    prediction_length=forecast_horizon,\n",
    ")\n",
    "\n",
    "print(\"데이터셋 변환 완료 ✅\")\n",
    "print(\"train_dataset 길이:\", len(train_dataset))\n",
    "print(\"valid_dataset 길이:\", len(valid_dataset))"
   ]
  },
  {
   "cell_type": "markdown",
   "id": "49f05579",
   "metadata": {},
   "source": [
    "## 모델 및 학습 설정"
   ]
  },
  {
   "cell_type": "code",
   "execution_count": 28,
   "id": "df7cfdbb",
   "metadata": {},
   "outputs": [],
   "source": [
    "# ==============================================\n",
    "# 3. PatchTST 모델 및 학습 설정 (Hugging Face 코드)\n",
    "# ==============================================\n",
    "config = PatchTSTConfig(\n",
    "    # --- 데이터 관련 설정 ---\n",
    "    num_input_channels=4, # sales + 3 known covariates\n",
    "    context_length=context_length,\n",
    "    prediction_length=forecast_horizon,\n",
    "    # 💡 시간에 따라 변하는 외부 변수의 개수\n",
    "    num_time_varying_known_reals=3, # is_holiday, is_weekend, is_ski_season\n",
    "\n",
    "    # --- Entity Embedding 관련 설정 ---\n",
    "    # 💡 고유 ID를 embedding 하기 위한 설정\n",
    "    num_static_categorical_features=1, # store_menu_id 1개\n",
    "    cardinality=[num_entities],      # store_menu_id의 고유값 개수\n",
    "    embedding_dimension=[32],        # store_menu_id를 32차원으로 임베딩\n",
    "\n",
    "    # --- 모델 구조 설정 ---\n",
    "    patch_length=8,\n",
    "    patch_stride=8,\n",
    "    d_model=128,\n",
    "    num_attention_heads=16,\n",
    "    num_hidden_layers=3,\n",
    "    ffn_dim=256,\n",
    "    dropout=0.2,\n",
    "    head_dropout=0.2,\n",
    "    scaling=\"std\",\n",
    "    loss=\"mse\",\n",
    ")\n",
    "\n",
    "#model = PatchTSTForPrediction(config)\n",
    "# 기존 구성\n",
    "base_model = PatchTSTForPrediction(config)\n",
    "\n",
    "# 래핑\n",
    "model = PatchTSTSalesOnly(base_model, target_ch=0)\n",
    "\n",
    "training_args = TrainingArguments(\n",
    "    output_dir=\"./patchtst_sales_forecast\",\n",
    "    overwrite_output_dir=True,\n",
    "    num_train_epochs=50, # 예시로 에폭 수 줄임\n",
    "    do_eval=True,\n",
    "    eval_strategy=\"epoch\",\n",
    "    per_device_train_batch_size=64,\n",
    "    per_device_eval_batch_size=64,\n",
    "    save_strategy=\"epoch\",\n",
    "    save_total_limit=3,\n",
    "    load_best_model_at_end=True,\n",
    "    metric_for_best_model=\"eval_loss\",\n",
    "    greater_is_better=False,\n",
    "    label_names=[\"future_values\"],\n",
    "    dataloader_pin_memory=True,\n",
    "    use_mps_device=False,\n",
    ")\n",
    "\n",
    "# 그대로 Hugging Face Trainer 사용\n",
    "trainer = Trainer(\n",
    "    model=model,\n",
    "    args=training_args,\n",
    "    train_dataset=train_dataset,\n",
    "    eval_dataset=valid_dataset,\n",
    ")"
   ]
  },
  {
   "cell_type": "markdown",
   "id": "6a716c1b",
   "metadata": {},
   "source": [
    "### Optuna\n",
    "\n",
    "- dashboard 여는 법\n",
    "\n",
    "optuna-dashboard sqlite:///./patchtst_sales_forecast/optuna.sqlite3"
   ]
  },
  {
   "cell_type": "code",
   "execution_count": 29,
   "id": "7c15d427",
   "metadata": {},
   "outputs": [
    {
     "name": "stdout",
     "output_type": "stream",
     "text": [
      "--- Optuna Trial: Creating model with context=28, horizon=7 ---\n"
     ]
    },
    {
     "name": "stderr",
     "output_type": "stream",
     "text": [
      "[I 2025-08-22 17:09:59,448] A new study created in RDB with name: patchtst_sales_forecast\n"
     ]
    },
    {
     "name": "stdout",
     "output_type": "stream",
     "text": [
      "--- Optuna Trial: Creating model with context=28, horizon=7 ---\n"
     ]
    },
    {
     "data": {
      "text/html": [
       "\n",
       "    <div>\n",
       "      \n",
       "      <progress value='7776' max='19440' style='width:300px; height:20px; vertical-align: middle;'></progress>\n",
       "      [ 7776/19440 03:32 < 05:18, 36.56 it/s, Epoch 8/20]\n",
       "    </div>\n",
       "    <table border=\"1\" class=\"dataframe\">\n",
       "  <thead>\n",
       " <tr style=\"text-align: left;\">\n",
       "      <th>Epoch</th>\n",
       "      <th>Training Loss</th>\n",
       "      <th>Validation Loss</th>\n",
       "    </tr>\n",
       "  </thead>\n",
       "  <tbody>\n",
       "    <tr>\n",
       "      <td>1</td>\n",
       "      <td>0.935200</td>\n",
       "      <td>1.587533</td>\n",
       "    </tr>\n",
       "    <tr>\n",
       "      <td>2</td>\n",
       "      <td>0.774200</td>\n",
       "      <td>1.195805</td>\n",
       "    </tr>\n",
       "    <tr>\n",
       "      <td>3</td>\n",
       "      <td>0.701300</td>\n",
       "      <td>1.087310</td>\n",
       "    </tr>\n",
       "    <tr>\n",
       "      <td>4</td>\n",
       "      <td>0.681600</td>\n",
       "      <td>1.165142</td>\n",
       "    </tr>\n",
       "    <tr>\n",
       "      <td>5</td>\n",
       "      <td>0.679300</td>\n",
       "      <td>1.284915</td>\n",
       "    </tr>\n",
       "    <tr>\n",
       "      <td>6</td>\n",
       "      <td>0.665800</td>\n",
       "      <td>1.242582</td>\n",
       "    </tr>\n",
       "    <tr>\n",
       "      <td>7</td>\n",
       "      <td>0.653000</td>\n",
       "      <td>1.304667</td>\n",
       "    </tr>\n",
       "    <tr>\n",
       "      <td>8</td>\n",
       "      <td>0.649500</td>\n",
       "      <td>1.227021</td>\n",
       "    </tr>\n",
       "  </tbody>\n",
       "</table><p>"
      ],
      "text/plain": [
       "<IPython.core.display.HTML object>"
      ]
     },
     "metadata": {},
     "output_type": "display_data"
    },
    {
     "name": "stderr",
     "output_type": "stream",
     "text": [
      "[I 2025-08-22 17:13:34,289] Trial 0 finished with value: 1.227021336555481 and parameters: {'learning_rate': 0.00012709107822997962, 'weight_decay': 0.03290245867121926, 'warmup_ratio': 0.18406779795418968, 'lr_scheduler_type': 'polynomial', 'per_device_train_batch_size': 96, 'per_device_eval_batch_size': 96, 'num_train_epochs': 20, 'd_model': 128, 'num_attention_heads': 16, 'num_hidden_layers': 2, 'ffn_dim': 128, 'dropout': 0.14977880917050926, 'head_dropout': 0.07209927484015781, 'patch_length': 1}. Best is trial 0 with value: 1.227021336555481.\n"
     ]
    },
    {
     "name": "stdout",
     "output_type": "stream",
     "text": [
      "--- Optuna Trial: Creating model with context=28, horizon=7 ---\n"
     ]
    },
    {
     "data": {
      "text/html": [
       "\n",
       "    <div>\n",
       "      \n",
       "      <progress value='20398' max='90334' style='width:300px; height:20px; vertical-align: middle;'></progress>\n",
       "      [20398/90334 10:47 < 36:59, 31.51 it/s, Epoch 7/31]\n",
       "    </div>\n",
       "    <table border=\"1\" class=\"dataframe\">\n",
       "  <thead>\n",
       " <tr style=\"text-align: left;\">\n",
       "      <th>Epoch</th>\n",
       "      <th>Training Loss</th>\n",
       "      <th>Validation Loss</th>\n",
       "    </tr>\n",
       "  </thead>\n",
       "  <tbody>\n",
       "    <tr>\n",
       "      <td>1</td>\n",
       "      <td>0.701500</td>\n",
       "      <td>1.219319</td>\n",
       "    </tr>\n",
       "    <tr>\n",
       "      <td>2</td>\n",
       "      <td>0.696900</td>\n",
       "      <td>0.906952</td>\n",
       "    </tr>\n",
       "    <tr>\n",
       "      <td>3</td>\n",
       "      <td>0.665500</td>\n",
       "      <td>1.111021</td>\n",
       "    </tr>\n",
       "    <tr>\n",
       "      <td>4</td>\n",
       "      <td>0.637700</td>\n",
       "      <td>1.707777</td>\n",
       "    </tr>\n",
       "    <tr>\n",
       "      <td>5</td>\n",
       "      <td>0.643600</td>\n",
       "      <td>1.066003</td>\n",
       "    </tr>\n",
       "    <tr>\n",
       "      <td>6</td>\n",
       "      <td>0.640000</td>\n",
       "      <td>1.808358</td>\n",
       "    </tr>\n",
       "    <tr>\n",
       "      <td>7</td>\n",
       "      <td>0.635900</td>\n",
       "      <td>1.101468</td>\n",
       "    </tr>\n",
       "  </tbody>\n",
       "</table><p>"
      ],
      "text/plain": [
       "<IPython.core.display.HTML object>"
      ]
     },
     "metadata": {},
     "output_type": "display_data"
    },
    {
     "name": "stderr",
     "output_type": "stream",
     "text": [
      "[I 2025-08-22 17:24:23,672] Trial 1 finished with value: 1.1014682054519653 and parameters: {'learning_rate': 0.00016499944116636856, 'weight_decay': 0.09238088214914686, 'warmup_ratio': 0.19715230735305236, 'lr_scheduler_type': 'cosine', 'per_device_train_batch_size': 32, 'per_device_eval_batch_size': 64, 'num_train_epochs': 31, 'd_model': 256, 'num_attention_heads': 4, 'num_hidden_layers': 4, 'ffn_dim': 256, 'dropout': 0.22397541037296992, 'head_dropout': 0.08489723814128135, 'patch_length': 1}. Best is trial 1 with value: 1.1014682054519653.\n"
     ]
    },
    {
     "name": "stdout",
     "output_type": "stream",
     "text": [
      "--- Optuna Trial: Creating model with context=28, horizon=7 ---\n"
     ]
    },
    {
     "data": {
      "text/html": [
       "\n",
       "    <div>\n",
       "      \n",
       "      <progress value='8748' max='23328' style='width:300px; height:20px; vertical-align: middle;'></progress>\n",
       "      [ 8748/23328 03:58 < 06:38, 36.63 it/s, Epoch 9/24]\n",
       "    </div>\n",
       "    <table border=\"1\" class=\"dataframe\">\n",
       "  <thead>\n",
       " <tr style=\"text-align: left;\">\n",
       "      <th>Epoch</th>\n",
       "      <th>Training Loss</th>\n",
       "      <th>Validation Loss</th>\n",
       "    </tr>\n",
       "  </thead>\n",
       "  <tbody>\n",
       "    <tr>\n",
       "      <td>1</td>\n",
       "      <td>0.962800</td>\n",
       "      <td>1.258954</td>\n",
       "    </tr>\n",
       "    <tr>\n",
       "      <td>2</td>\n",
       "      <td>0.710200</td>\n",
       "      <td>1.190087</td>\n",
       "    </tr>\n",
       "    <tr>\n",
       "      <td>3</td>\n",
       "      <td>0.668300</td>\n",
       "      <td>1.175785</td>\n",
       "    </tr>\n",
       "    <tr>\n",
       "      <td>4</td>\n",
       "      <td>0.653100</td>\n",
       "      <td>1.063693</td>\n",
       "    </tr>\n",
       "    <tr>\n",
       "      <td>5</td>\n",
       "      <td>0.653500</td>\n",
       "      <td>1.087141</td>\n",
       "    </tr>\n",
       "    <tr>\n",
       "      <td>6</td>\n",
       "      <td>0.645800</td>\n",
       "      <td>1.124934</td>\n",
       "    </tr>\n",
       "    <tr>\n",
       "      <td>7</td>\n",
       "      <td>0.638100</td>\n",
       "      <td>1.442902</td>\n",
       "    </tr>\n",
       "    <tr>\n",
       "      <td>8</td>\n",
       "      <td>0.639600</td>\n",
       "      <td>1.161604</td>\n",
       "    </tr>\n",
       "    <tr>\n",
       "      <td>9</td>\n",
       "      <td>0.638600</td>\n",
       "      <td>1.182492</td>\n",
       "    </tr>\n",
       "  </tbody>\n",
       "</table><p>"
      ],
      "text/plain": [
       "<IPython.core.display.HTML object>"
      ]
     },
     "metadata": {},
     "output_type": "display_data"
    },
    {
     "name": "stderr",
     "output_type": "stream",
     "text": [
      "[I 2025-08-22 17:28:24,458] Trial 2 finished with value: 1.182491660118103 and parameters: {'learning_rate': 1.872688504080544e-05, 'weight_decay': 0.005971507562252199, 'warmup_ratio': 0.12964050412857686, 'lr_scheduler_type': 'polynomial', 'per_device_train_batch_size': 96, 'per_device_eval_batch_size': 96, 'num_train_epochs': 24, 'd_model': 256, 'num_attention_heads': 8, 'num_hidden_layers': 2, 'ffn_dim': 256, 'dropout': 0.23899594540063843, 'head_dropout': 0.09888554113424285, 'patch_length': 7}. Best is trial 1 with value: 1.1014682054519653.\n"
     ]
    },
    {
     "name": "stdout",
     "output_type": "stream",
     "text": [
      "--- Optuna Trial: Creating model with context=28, horizon=7 ---\n"
     ]
    },
    {
     "data": {
      "text/html": [
       "\n",
       "    <div>\n",
       "      \n",
       "      <progress value='7776' max='35964' style='width:300px; height:20px; vertical-align: middle;'></progress>\n",
       "      [ 7776/35964 04:43 < 17:08, 27.41 it/s, Epoch 8/37]\n",
       "    </div>\n",
       "    <table border=\"1\" class=\"dataframe\">\n",
       "  <thead>\n",
       " <tr style=\"text-align: left;\">\n",
       "      <th>Epoch</th>\n",
       "      <th>Training Loss</th>\n",
       "      <th>Validation Loss</th>\n",
       "    </tr>\n",
       "  </thead>\n",
       "  <tbody>\n",
       "    <tr>\n",
       "      <td>1</td>\n",
       "      <td>0.840200</td>\n",
       "      <td>1.082226</td>\n",
       "    </tr>\n",
       "    <tr>\n",
       "      <td>2</td>\n",
       "      <td>0.694800</td>\n",
       "      <td>1.189941</td>\n",
       "    </tr>\n",
       "    <tr>\n",
       "      <td>3</td>\n",
       "      <td>0.681600</td>\n",
       "      <td>1.060009</td>\n",
       "    </tr>\n",
       "    <tr>\n",
       "      <td>4</td>\n",
       "      <td>0.659500</td>\n",
       "      <td>1.086851</td>\n",
       "    </tr>\n",
       "    <tr>\n",
       "      <td>5</td>\n",
       "      <td>0.653700</td>\n",
       "      <td>1.278556</td>\n",
       "    </tr>\n",
       "    <tr>\n",
       "      <td>6</td>\n",
       "      <td>0.643800</td>\n",
       "      <td>1.247757</td>\n",
       "    </tr>\n",
       "    <tr>\n",
       "      <td>7</td>\n",
       "      <td>0.635800</td>\n",
       "      <td>1.374636</td>\n",
       "    </tr>\n",
       "    <tr>\n",
       "      <td>8</td>\n",
       "      <td>0.634000</td>\n",
       "      <td>1.189118</td>\n",
       "    </tr>\n",
       "  </tbody>\n",
       "</table><p>"
      ],
      "text/plain": [
       "<IPython.core.display.HTML object>"
      ]
     },
     "metadata": {},
     "output_type": "display_data"
    },
    {
     "name": "stderr",
     "output_type": "stream",
     "text": [
      "[I 2025-08-22 17:33:10,580] Trial 3 finished with value: 1.1891175508499146 and parameters: {'learning_rate': 0.00034463809698852564, 'weight_decay': 0.029103340479192143, 'warmup_ratio': 0.18215559411144244, 'lr_scheduler_type': 'cosine_with_restarts', 'per_device_train_batch_size': 96, 'per_device_eval_batch_size': 32, 'num_train_epochs': 37, 'd_model': 256, 'num_attention_heads': 16, 'num_hidden_layers': 3, 'ffn_dim': 128, 'dropout': 0.09550009020274917, 'head_dropout': 0.09982912391447583, 'patch_length': 1}. Best is trial 1 with value: 1.1014682054519653.\n"
     ]
    },
    {
     "name": "stdout",
     "output_type": "stream",
     "text": [
      "--- Optuna Trial: Creating model with context=28, horizon=7 ---\n"
     ]
    },
    {
     "data": {
      "text/html": [
       "\n",
       "    <div>\n",
       "      \n",
       "      <progress value='34968' max='55366' style='width:300px; height:20px; vertical-align: middle;'></progress>\n",
       "      [34968/55366 11:23 < 06:38, 51.16 it/s, Epoch 12/19]\n",
       "    </div>\n",
       "    <table border=\"1\" class=\"dataframe\">\n",
       "  <thead>\n",
       " <tr style=\"text-align: left;\">\n",
       "      <th>Epoch</th>\n",
       "      <th>Training Loss</th>\n",
       "      <th>Validation Loss</th>\n",
       "    </tr>\n",
       "  </thead>\n",
       "  <tbody>\n",
       "    <tr>\n",
       "      <td>1</td>\n",
       "      <td>0.672800</td>\n",
       "      <td>1.164620</td>\n",
       "    </tr>\n",
       "    <tr>\n",
       "      <td>2</td>\n",
       "      <td>0.680300</td>\n",
       "      <td>1.035242</td>\n",
       "    </tr>\n",
       "    <tr>\n",
       "      <td>3</td>\n",
       "      <td>0.658000</td>\n",
       "      <td>1.102792</td>\n",
       "    </tr>\n",
       "    <tr>\n",
       "      <td>4</td>\n",
       "      <td>0.638200</td>\n",
       "      <td>1.111830</td>\n",
       "    </tr>\n",
       "    <tr>\n",
       "      <td>5</td>\n",
       "      <td>0.644200</td>\n",
       "      <td>1.188923</td>\n",
       "    </tr>\n",
       "    <tr>\n",
       "      <td>6</td>\n",
       "      <td>0.638200</td>\n",
       "      <td>1.126541</td>\n",
       "    </tr>\n",
       "    <tr>\n",
       "      <td>7</td>\n",
       "      <td>0.639500</td>\n",
       "      <td>0.974214</td>\n",
       "    </tr>\n",
       "    <tr>\n",
       "      <td>8</td>\n",
       "      <td>0.617300</td>\n",
       "      <td>1.220682</td>\n",
       "    </tr>\n",
       "    <tr>\n",
       "      <td>9</td>\n",
       "      <td>0.639200</td>\n",
       "      <td>1.052173</td>\n",
       "    </tr>\n",
       "    <tr>\n",
       "      <td>10</td>\n",
       "      <td>0.633700</td>\n",
       "      <td>1.240886</td>\n",
       "    </tr>\n",
       "    <tr>\n",
       "      <td>11</td>\n",
       "      <td>0.626800</td>\n",
       "      <td>1.034497</td>\n",
       "    </tr>\n",
       "    <tr>\n",
       "      <td>12</td>\n",
       "      <td>0.621400</td>\n",
       "      <td>1.478683</td>\n",
       "    </tr>\n",
       "  </tbody>\n",
       "</table><p>"
      ],
      "text/plain": [
       "<IPython.core.display.HTML object>"
      ]
     },
     "metadata": {},
     "output_type": "display_data"
    },
    {
     "name": "stderr",
     "output_type": "stream",
     "text": [
      "[I 2025-08-22 17:44:36,792] Trial 4 finished with value: 1.4786828756332397 and parameters: {'learning_rate': 0.00018779889572966655, 'weight_decay': 0.0397086042537549, 'warmup_ratio': 0.10801050244166738, 'lr_scheduler_type': 'linear', 'per_device_train_batch_size': 32, 'per_device_eval_batch_size': 64, 'num_train_epochs': 19, 'd_model': 128, 'num_attention_heads': 4, 'num_hidden_layers': 2, 'ffn_dim': 128, 'dropout': 0.23678338952943176, 'head_dropout': 0.0849962551232328, 'patch_length': 7}. Best is trial 1 with value: 1.1014682054519653.\n"
     ]
    },
    {
     "name": "stdout",
     "output_type": "stream",
     "text": [
      "--- Optuna Trial: Creating model with context=28, horizon=7 ---\n"
     ]
    },
    {
     "data": {
      "text/html": [
       "\n",
       "    <div>\n",
       "      \n",
       "      <progress value='972' max='17496' style='width:300px; height:20px; vertical-align: middle;'></progress>\n",
       "      [  972/17496 00:26 < 07:27, 36.90 it/s, Epoch 1/18]\n",
       "    </div>\n",
       "    <table border=\"1\" class=\"dataframe\">\n",
       "  <thead>\n",
       " <tr style=\"text-align: left;\">\n",
       "      <th>Epoch</th>\n",
       "      <th>Training Loss</th>\n",
       "      <th>Validation Loss</th>\n",
       "    </tr>\n",
       "  </thead>\n",
       "  <tbody>\n",
       "    <tr>\n",
       "      <td>1</td>\n",
       "      <td>0.928700</td>\n",
       "      <td>1.334648</td>\n",
       "    </tr>\n",
       "  </tbody>\n",
       "</table><p>"
      ],
      "text/plain": [
       "<IPython.core.display.HTML object>"
      ]
     },
     "metadata": {},
     "output_type": "display_data"
    },
    {
     "name": "stderr",
     "output_type": "stream",
     "text": [
      "[I 2025-08-22 17:45:04,239] Trial 5 pruned. \n"
     ]
    },
    {
     "name": "stdout",
     "output_type": "stream",
     "text": [
      "--- Optuna Trial: Creating model with context=28, horizon=7 ---\n"
     ]
    },
    {
     "data": {
      "text/html": [
       "\n",
       "    <div>\n",
       "      \n",
       "      <progress value='2914' max='52452' style='width:300px; height:20px; vertical-align: middle;'></progress>\n",
       "      [ 2914/52452 01:30 < 25:39, 32.18 it/s, Epoch 1/18]\n",
       "    </div>\n",
       "    <table border=\"1\" class=\"dataframe\">\n",
       "  <thead>\n",
       " <tr style=\"text-align: left;\">\n",
       "      <th>Epoch</th>\n",
       "      <th>Training Loss</th>\n",
       "      <th>Validation Loss</th>\n",
       "    </tr>\n",
       "  </thead>\n",
       "  <tbody>\n",
       "    <tr>\n",
       "      <td>1</td>\n",
       "      <td>0.726900</td>\n",
       "      <td>1.278043</td>\n",
       "    </tr>\n",
       "  </tbody>\n",
       "</table><p>"
      ],
      "text/plain": [
       "<IPython.core.display.HTML object>"
      ]
     },
     "metadata": {},
     "output_type": "display_data"
    },
    {
     "name": "stderr",
     "output_type": "stream",
     "text": [
      "[I 2025-08-22 17:46:35,839] Trial 6 pruned. \n"
     ]
    },
    {
     "name": "stdout",
     "output_type": "stream",
     "text": [
      "--- Optuna Trial: Creating model with context=28, horizon=7 ---\n"
     ]
    },
    {
     "data": {
      "text/html": [
       "\n",
       "    <div>\n",
       "      \n",
       "      <progress value='5828' max='87420' style='width:300px; height:20px; vertical-align: middle;'></progress>\n",
       "      [ 5828/87420 03:12 < 44:55, 30.27 it/s, Epoch 2/30]\n",
       "    </div>\n",
       "    <table border=\"1\" class=\"dataframe\">\n",
       "  <thead>\n",
       " <tr style=\"text-align: left;\">\n",
       "      <th>Epoch</th>\n",
       "      <th>Training Loss</th>\n",
       "      <th>Validation Loss</th>\n",
       "    </tr>\n",
       "  </thead>\n",
       "  <tbody>\n",
       "    <tr>\n",
       "      <td>1</td>\n",
       "      <td>0.711100</td>\n",
       "      <td>1.146306</td>\n",
       "    </tr>\n",
       "    <tr>\n",
       "      <td>2</td>\n",
       "      <td>0.704100</td>\n",
       "      <td>1.113571</td>\n",
       "    </tr>\n",
       "  </tbody>\n",
       "</table><p>"
      ],
      "text/plain": [
       "<IPython.core.display.HTML object>"
      ]
     },
     "metadata": {},
     "output_type": "display_data"
    },
    {
     "name": "stderr",
     "output_type": "stream",
     "text": [
      "[I 2025-08-22 17:49:49,471] Trial 7 pruned. \n"
     ]
    },
    {
     "name": "stdout",
     "output_type": "stream",
     "text": [
      "--- Optuna Trial: Creating model with context=28, horizon=7 ---\n"
     ]
    },
    {
     "data": {
      "text/html": [
       "\n",
       "    <div>\n",
       "      \n",
       "      <progress value='2914' max='107818' style='width:300px; height:20px; vertical-align: middle;'></progress>\n",
       "      [  2914/107818 01:02 < 37:40, 46.40 it/s, Epoch 1/37]\n",
       "    </div>\n",
       "    <table border=\"1\" class=\"dataframe\">\n",
       "  <thead>\n",
       " <tr style=\"text-align: left;\">\n",
       "      <th>Epoch</th>\n",
       "      <th>Training Loss</th>\n",
       "      <th>Validation Loss</th>\n",
       "    </tr>\n",
       "  </thead>\n",
       "  <tbody>\n",
       "    <tr>\n",
       "      <td>1</td>\n",
       "      <td>0.931900</td>\n",
       "      <td>1.464660</td>\n",
       "    </tr>\n",
       "  </tbody>\n",
       "</table><p>"
      ],
      "text/plain": [
       "<IPython.core.display.HTML object>"
      ]
     },
     "metadata": {},
     "output_type": "display_data"
    },
    {
     "name": "stderr",
     "output_type": "stream",
     "text": [
      "[I 2025-08-22 17:50:53,764] Trial 8 pruned. \n"
     ]
    },
    {
     "name": "stdout",
     "output_type": "stream",
     "text": [
      "--- Optuna Trial: Creating model with context=28, horizon=7 ---\n"
     ]
    },
    {
     "data": {
      "text/html": [
       "\n",
       "    <div>\n",
       "      \n",
       "      <progress value='2914' max='104904' style='width:300px; height:20px; vertical-align: middle;'></progress>\n",
       "      [  2914/104904 01:44 < 1:01:09, 27.79 it/s, Epoch 1/36]\n",
       "    </div>\n",
       "    <table border=\"1\" class=\"dataframe\">\n",
       "  <thead>\n",
       " <tr style=\"text-align: left;\">\n",
       "      <th>Epoch</th>\n",
       "      <th>Training Loss</th>\n",
       "      <th>Validation Loss</th>\n",
       "    </tr>\n",
       "  </thead>\n",
       "  <tbody>\n",
       "    <tr>\n",
       "      <td>1</td>\n",
       "      <td>0.759000</td>\n",
       "      <td>1.205255</td>\n",
       "    </tr>\n",
       "  </tbody>\n",
       "</table><p>"
      ],
      "text/plain": [
       "<IPython.core.display.HTML object>"
      ]
     },
     "metadata": {},
     "output_type": "display_data"
    },
    {
     "name": "stderr",
     "output_type": "stream",
     "text": [
      "[I 2025-08-22 17:52:39,911] Trial 9 pruned. \n"
     ]
    },
    {
     "name": "stdout",
     "output_type": "stream",
     "text": [
      "--- Optuna Trial: Creating model with context=28, horizon=7 ---\n"
     ]
    },
    {
     "data": {
      "text/html": [
       "\n",
       "    <div>\n",
       "      \n",
       "      <progress value='5828' max='16027' style='width:300px; height:20px; vertical-align: middle;'></progress>\n",
       "      [ 5828/16027 03:13 < 05:38, 30.14 it/s, Epoch 4/11]\n",
       "    </div>\n",
       "    <table border=\"1\" class=\"dataframe\">\n",
       "  <thead>\n",
       " <tr style=\"text-align: left;\">\n",
       "      <th>Epoch</th>\n",
       "      <th>Training Loss</th>\n",
       "      <th>Validation Loss</th>\n",
       "    </tr>\n",
       "  </thead>\n",
       "  <tbody>\n",
       "    <tr>\n",
       "      <td>1</td>\n",
       "      <td>0.737600</td>\n",
       "      <td>1.137911</td>\n",
       "    </tr>\n",
       "    <tr>\n",
       "      <td>2</td>\n",
       "      <td>0.692000</td>\n",
       "      <td>1.100709</td>\n",
       "    </tr>\n",
       "    <tr>\n",
       "      <td>3</td>\n",
       "      <td>0.658500</td>\n",
       "      <td>1.113294</td>\n",
       "    </tr>\n",
       "    <tr>\n",
       "      <td>4</td>\n",
       "      <td>0.661100</td>\n",
       "      <td>1.324392</td>\n",
       "    </tr>\n",
       "  </tbody>\n",
       "</table><p>"
      ],
      "text/plain": [
       "<IPython.core.display.HTML object>"
      ]
     },
     "metadata": {},
     "output_type": "display_data"
    },
    {
     "name": "stderr",
     "output_type": "stream",
     "text": [
      "[I 2025-08-22 17:55:54,490] Trial 10 pruned. \n"
     ]
    },
    {
     "name": "stdout",
     "output_type": "stream",
     "text": [
      "--- Optuna Trial: Creating model with context=28, horizon=7 ---\n"
     ]
    },
    {
     "data": {
      "text/html": [
       "\n",
       "    <div>\n",
       "      \n",
       "      <progress value='5828' max='40796' style='width:300px; height:20px; vertical-align: middle;'></progress>\n",
       "      [ 5828/40796 03:09 < 18:58, 30.71 it/s, Epoch 4/28]\n",
       "    </div>\n",
       "    <table border=\"1\" class=\"dataframe\">\n",
       "  <thead>\n",
       " <tr style=\"text-align: left;\">\n",
       "      <th>Epoch</th>\n",
       "      <th>Training Loss</th>\n",
       "      <th>Validation Loss</th>\n",
       "    </tr>\n",
       "  </thead>\n",
       "  <tbody>\n",
       "    <tr>\n",
       "      <td>1</td>\n",
       "      <td>0.764800</td>\n",
       "      <td>1.160854</td>\n",
       "    </tr>\n",
       "    <tr>\n",
       "      <td>2</td>\n",
       "      <td>0.666000</td>\n",
       "      <td>1.062451</td>\n",
       "    </tr>\n",
       "    <tr>\n",
       "      <td>3</td>\n",
       "      <td>0.642200</td>\n",
       "      <td>1.030982</td>\n",
       "    </tr>\n",
       "    <tr>\n",
       "      <td>4</td>\n",
       "      <td>0.645400</td>\n",
       "      <td>1.057767</td>\n",
       "    </tr>\n",
       "  </tbody>\n",
       "</table><p>"
      ],
      "text/plain": [
       "<IPython.core.display.HTML object>"
      ]
     },
     "metadata": {},
     "output_type": "display_data"
    },
    {
     "name": "stderr",
     "output_type": "stream",
     "text": [
      "[I 2025-08-22 17:59:05,438] Trial 11 pruned. \n"
     ]
    },
    {
     "name": "stdout",
     "output_type": "stream",
     "text": [
      "--- Optuna Trial: Creating model with context=28, horizon=7 ---\n"
     ]
    },
    {
     "data": {
      "text/html": [
       "\n",
       "    <div>\n",
       "      \n",
       "      <progress value='5832' max='24300' style='width:300px; height:20px; vertical-align: middle;'></progress>\n",
       "      [ 5832/24300 03:26 < 10:53, 28.27 it/s, Epoch 6/25]\n",
       "    </div>\n",
       "    <table border=\"1\" class=\"dataframe\">\n",
       "  <thead>\n",
       " <tr style=\"text-align: left;\">\n",
       "      <th>Epoch</th>\n",
       "      <th>Training Loss</th>\n",
       "      <th>Validation Loss</th>\n",
       "    </tr>\n",
       "  </thead>\n",
       "  <tbody>\n",
       "    <tr>\n",
       "      <td>1</td>\n",
       "      <td>0.837200</td>\n",
       "      <td>1.079213</td>\n",
       "    </tr>\n",
       "    <tr>\n",
       "      <td>2</td>\n",
       "      <td>0.698600</td>\n",
       "      <td>1.394733</td>\n",
       "    </tr>\n",
       "    <tr>\n",
       "      <td>3</td>\n",
       "      <td>0.686900</td>\n",
       "      <td>1.083077</td>\n",
       "    </tr>\n",
       "    <tr>\n",
       "      <td>4</td>\n",
       "      <td>0.664400</td>\n",
       "      <td>1.481622</td>\n",
       "    </tr>\n",
       "    <tr>\n",
       "      <td>5</td>\n",
       "      <td>0.657300</td>\n",
       "      <td>1.220212</td>\n",
       "    </tr>\n",
       "    <tr>\n",
       "      <td>6</td>\n",
       "      <td>0.647200</td>\n",
       "      <td>1.234548</td>\n",
       "    </tr>\n",
       "  </tbody>\n",
       "</table><p>"
      ],
      "text/plain": [
       "<IPython.core.display.HTML object>"
      ]
     },
     "metadata": {},
     "output_type": "display_data"
    },
    {
     "name": "stderr",
     "output_type": "stream",
     "text": [
      "[I 2025-08-22 18:02:34,267] Trial 12 finished with value: 1.2345480918884277 and parameters: {'learning_rate': 0.00023686979778104938, 'weight_decay': 0.05142572271447601, 'warmup_ratio': 0.19852382620895423, 'lr_scheduler_type': 'polynomial', 'per_device_train_batch_size': 96, 'per_device_eval_batch_size': 96, 'num_train_epochs': 25, 'd_model': 256, 'num_attention_heads': 8, 'num_hidden_layers': 3, 'ffn_dim': 256, 'dropout': 0.24013555930369668, 'head_dropout': 0.2780135612393698, 'patch_length': 1}. Best is trial 1 with value: 1.1014682054519653.\n"
     ]
    },
    {
     "name": "stdout",
     "output_type": "stream",
     "text": [
      "--- Optuna Trial: Creating model with context=28, horizon=7 ---\n"
     ]
    },
    {
     "data": {
      "text/html": [
       "\n",
       "    <div>\n",
       "      \n",
       "      <progress value='972' max='30132' style='width:300px; height:20px; vertical-align: middle;'></progress>\n",
       "      [  972/30132 00:40 < 20:07, 24.16 it/s, Epoch 1/31]\n",
       "    </div>\n",
       "    <table border=\"1\" class=\"dataframe\">\n",
       "  <thead>\n",
       " <tr style=\"text-align: left;\">\n",
       "      <th>Epoch</th>\n",
       "      <th>Training Loss</th>\n",
       "      <th>Validation Loss</th>\n",
       "    </tr>\n",
       "  </thead>\n",
       "  <tbody>\n",
       "    <tr>\n",
       "      <td>1</td>\n",
       "      <td>0.956000</td>\n",
       "      <td>1.192273</td>\n",
       "    </tr>\n",
       "  </tbody>\n",
       "</table><p>"
      ],
      "text/plain": [
       "<IPython.core.display.HTML object>"
      ]
     },
     "metadata": {},
     "output_type": "display_data"
    },
    {
     "name": "stderr",
     "output_type": "stream",
     "text": [
      "[I 2025-08-22 18:03:15,572] Trial 13 pruned. \n"
     ]
    },
    {
     "name": "stdout",
     "output_type": "stream",
     "text": [
      "--- Optuna Trial: Creating model with context=28, horizon=7 ---\n"
     ]
    },
    {
     "data": {
      "text/html": [
       "\n",
       "    <div>\n",
       "      \n",
       "      <progress value='5828' max='34968' style='width:300px; height:20px; vertical-align: middle;'></progress>\n",
       "      [ 5828/34968 03:09 < 15:46, 30.78 it/s, Epoch 4/24]\n",
       "    </div>\n",
       "    <table border=\"1\" class=\"dataframe\">\n",
       "  <thead>\n",
       " <tr style=\"text-align: left;\">\n",
       "      <th>Epoch</th>\n",
       "      <th>Training Loss</th>\n",
       "      <th>Validation Loss</th>\n",
       "    </tr>\n",
       "  </thead>\n",
       "  <tbody>\n",
       "    <tr>\n",
       "      <td>1</td>\n",
       "      <td>0.742100</td>\n",
       "      <td>1.174780</td>\n",
       "    </tr>\n",
       "    <tr>\n",
       "      <td>2</td>\n",
       "      <td>0.664900</td>\n",
       "      <td>1.078938</td>\n",
       "    </tr>\n",
       "    <tr>\n",
       "      <td>3</td>\n",
       "      <td>0.642500</td>\n",
       "      <td>1.013847</td>\n",
       "    </tr>\n",
       "    <tr>\n",
       "      <td>4</td>\n",
       "      <td>0.648100</td>\n",
       "      <td>1.043404</td>\n",
       "    </tr>\n",
       "  </tbody>\n",
       "</table><p>"
      ],
      "text/plain": [
       "<IPython.core.display.HTML object>"
      ]
     },
     "metadata": {},
     "output_type": "display_data"
    },
    {
     "name": "stderr",
     "output_type": "stream",
     "text": [
      "[I 2025-08-22 18:06:26,019] Trial 14 pruned. \n"
     ]
    },
    {
     "name": "stdout",
     "output_type": "stream",
     "text": [
      "--- Optuna Trial: Creating model with context=28, horizon=7 ---\n"
     ]
    },
    {
     "data": {
      "text/html": [
       "\n",
       "    <div>\n",
       "      \n",
       "      <progress value='5828' max='96162' style='width:300px; height:20px; vertical-align: middle;'></progress>\n",
       "      [ 5828/96162 02:02 < 31:31, 47.75 it/s, Epoch 2/33]\n",
       "    </div>\n",
       "    <table border=\"1\" class=\"dataframe\">\n",
       "  <thead>\n",
       " <tr style=\"text-align: left;\">\n",
       "      <th>Epoch</th>\n",
       "      <th>Training Loss</th>\n",
       "      <th>Validation Loss</th>\n",
       "    </tr>\n",
       "  </thead>\n",
       "  <tbody>\n",
       "    <tr>\n",
       "      <td>1</td>\n",
       "      <td>0.743700</td>\n",
       "      <td>1.131346</td>\n",
       "    </tr>\n",
       "    <tr>\n",
       "      <td>2</td>\n",
       "      <td>0.703900</td>\n",
       "      <td>1.004561</td>\n",
       "    </tr>\n",
       "  </tbody>\n",
       "</table><p>"
      ],
      "text/plain": [
       "<IPython.core.display.HTML object>"
      ]
     },
     "metadata": {},
     "output_type": "display_data"
    },
    {
     "name": "stderr",
     "output_type": "stream",
     "text": [
      "[I 2025-08-22 18:08:29,644] Trial 15 pruned. \n"
     ]
    },
    {
     "name": "stdout",
     "output_type": "stream",
     "text": [
      "--- Optuna Trial: Creating model with context=28, horizon=7 ---\n"
     ]
    },
    {
     "data": {
      "text/html": [
       "\n",
       "    <div>\n",
       "      \n",
       "      <progress value='972' max='38880' style='width:300px; height:20px; vertical-align: middle;'></progress>\n",
       "      [  972/38880 00:41 < 27:20, 23.11 it/s, Epoch 1/40]\n",
       "    </div>\n",
       "    <table border=\"1\" class=\"dataframe\">\n",
       "  <thead>\n",
       " <tr style=\"text-align: left;\">\n",
       "      <th>Epoch</th>\n",
       "      <th>Training Loss</th>\n",
       "      <th>Validation Loss</th>\n",
       "    </tr>\n",
       "  </thead>\n",
       "  <tbody>\n",
       "    <tr>\n",
       "      <td>1</td>\n",
       "      <td>0.993500</td>\n",
       "      <td>1.173522</td>\n",
       "    </tr>\n",
       "  </tbody>\n",
       "</table><p>"
      ],
      "text/plain": [
       "<IPython.core.display.HTML object>"
      ]
     },
     "metadata": {},
     "output_type": "display_data"
    },
    {
     "name": "stderr",
     "output_type": "stream",
     "text": [
      "[I 2025-08-22 18:09:12,830] Trial 16 pruned. \n"
     ]
    },
    {
     "name": "stdout",
     "output_type": "stream",
     "text": [
      "--- Optuna Trial: Creating model with context=28, horizon=7 ---\n"
     ]
    },
    {
     "data": {
      "text/html": [
       "\n",
       "    <div>\n",
       "      \n",
       "      <progress value='972' max='22356' style='width:300px; height:20px; vertical-align: middle;'></progress>\n",
       "      [  972/22356 00:33 < 12:24, 28.72 it/s, Epoch 1/23]\n",
       "    </div>\n",
       "    <table border=\"1\" class=\"dataframe\">\n",
       "  <thead>\n",
       " <tr style=\"text-align: left;\">\n",
       "      <th>Epoch</th>\n",
       "      <th>Training Loss</th>\n",
       "      <th>Validation Loss</th>\n",
       "    </tr>\n",
       "  </thead>\n",
       "  <tbody>\n",
       "    <tr>\n",
       "      <td>1</td>\n",
       "      <td>0.942800</td>\n",
       "      <td>1.490332</td>\n",
       "    </tr>\n",
       "  </tbody>\n",
       "</table><p>"
      ],
      "text/plain": [
       "<IPython.core.display.HTML object>"
      ]
     },
     "metadata": {},
     "output_type": "display_data"
    },
    {
     "name": "stderr",
     "output_type": "stream",
     "text": [
      "[I 2025-08-22 18:09:47,844] Trial 17 pruned. \n"
     ]
    },
    {
     "name": "stdout",
     "output_type": "stream",
     "text": [
      "--- Optuna Trial: Creating model with context=28, horizon=7 ---\n"
     ]
    },
    {
     "data": {
      "text/html": [
       "\n",
       "    <div>\n",
       "      \n",
       "      <progress value='5828' max='37882' style='width:300px; height:20px; vertical-align: middle;'></progress>\n",
       "      [ 5828/37882 02:08 < 11:48, 45.22 it/s, Epoch 2/13]\n",
       "    </div>\n",
       "    <table border=\"1\" class=\"dataframe\">\n",
       "  <thead>\n",
       " <tr style=\"text-align: left;\">\n",
       "      <th>Epoch</th>\n",
       "      <th>Training Loss</th>\n",
       "      <th>Validation Loss</th>\n",
       "    </tr>\n",
       "  </thead>\n",
       "  <tbody>\n",
       "    <tr>\n",
       "      <td>1</td>\n",
       "      <td>0.697100</td>\n",
       "      <td>1.107743</td>\n",
       "    </tr>\n",
       "    <tr>\n",
       "      <td>2</td>\n",
       "      <td>0.689900</td>\n",
       "      <td>1.024920</td>\n",
       "    </tr>\n",
       "  </tbody>\n",
       "</table><p>"
      ],
      "text/plain": [
       "<IPython.core.display.HTML object>"
      ]
     },
     "metadata": {},
     "output_type": "display_data"
    },
    {
     "name": "stderr",
     "output_type": "stream",
     "text": [
      "[I 2025-08-22 18:11:57,953] Trial 18 pruned. \n"
     ]
    },
    {
     "name": "stdout",
     "output_type": "stream",
     "text": [
      "--- Optuna Trial: Creating model with context=28, horizon=7 ---\n"
     ]
    },
    {
     "data": {
      "text/html": [
       "\n",
       "    <div>\n",
       "      \n",
       "      <progress value='2914' max='39339' style='width:300px; height:20px; vertical-align: middle;'></progress>\n",
       "      [ 2914/39339 01:44 < 21:52, 27.75 it/s, Epoch 2/27]\n",
       "    </div>\n",
       "    <table border=\"1\" class=\"dataframe\">\n",
       "  <thead>\n",
       " <tr style=\"text-align: left;\">\n",
       "      <th>Epoch</th>\n",
       "      <th>Training Loss</th>\n",
       "      <th>Validation Loss</th>\n",
       "    </tr>\n",
       "  </thead>\n",
       "  <tbody>\n",
       "    <tr>\n",
       "      <td>1</td>\n",
       "      <td>0.864800</td>\n",
       "      <td>1.311762</td>\n",
       "    </tr>\n",
       "    <tr>\n",
       "      <td>2</td>\n",
       "      <td>0.677000</td>\n",
       "      <td>1.223928</td>\n",
       "    </tr>\n",
       "  </tbody>\n",
       "</table><p>"
      ],
      "text/plain": [
       "<IPython.core.display.HTML object>"
      ]
     },
     "metadata": {},
     "output_type": "display_data"
    },
    {
     "name": "stderr",
     "output_type": "stream",
     "text": [
      "[I 2025-08-22 18:13:43,947] Trial 19 pruned. \n"
     ]
    },
    {
     "name": "stdout",
     "output_type": "stream",
     "text": [
      "--- Optuna Trial: Creating model with context=28, horizon=7 ---\n"
     ]
    },
    {
     "data": {
      "text/html": [
       "\n",
       "    <div>\n",
       "      \n",
       "      <progress value='5828' max='43710' style='width:300px; height:20px; vertical-align: middle;'></progress>\n",
       "      [ 5828/43710 02:29 < 16:14, 38.88 it/s, Epoch 2/15]\n",
       "    </div>\n",
       "    <table border=\"1\" class=\"dataframe\">\n",
       "  <thead>\n",
       " <tr style=\"text-align: left;\">\n",
       "      <th>Epoch</th>\n",
       "      <th>Training Loss</th>\n",
       "      <th>Validation Loss</th>\n",
       "    </tr>\n",
       "  </thead>\n",
       "  <tbody>\n",
       "    <tr>\n",
       "      <td>1</td>\n",
       "      <td>0.670800</td>\n",
       "      <td>1.172251</td>\n",
       "    </tr>\n",
       "    <tr>\n",
       "      <td>2</td>\n",
       "      <td>0.671200</td>\n",
       "      <td>1.061431</td>\n",
       "    </tr>\n",
       "  </tbody>\n",
       "</table><p>"
      ],
      "text/plain": [
       "<IPython.core.display.HTML object>"
      ]
     },
     "metadata": {},
     "output_type": "display_data"
    },
    {
     "name": "stderr",
     "output_type": "stream",
     "text": [
      "[I 2025-08-22 18:16:14,928] Trial 20 pruned. \n"
     ]
    },
    {
     "name": "stdout",
     "output_type": "stream",
     "text": [
      "--- Optuna Trial: Creating model with context=28, horizon=7 ---\n"
     ]
    },
    {
     "data": {
      "text/html": [
       "\n",
       "    <div>\n",
       "      \n",
       "      <progress value='7776' max='33048' style='width:300px; height:20px; vertical-align: middle;'></progress>\n",
       "      [ 7776/33048 04:46 < 15:31, 27.12 it/s, Epoch 8/34]\n",
       "    </div>\n",
       "    <table border=\"1\" class=\"dataframe\">\n",
       "  <thead>\n",
       " <tr style=\"text-align: left;\">\n",
       "      <th>Epoch</th>\n",
       "      <th>Training Loss</th>\n",
       "      <th>Validation Loss</th>\n",
       "    </tr>\n",
       "  </thead>\n",
       "  <tbody>\n",
       "    <tr>\n",
       "      <td>1</td>\n",
       "      <td>0.834400</td>\n",
       "      <td>1.063940</td>\n",
       "    </tr>\n",
       "    <tr>\n",
       "      <td>2</td>\n",
       "      <td>0.693700</td>\n",
       "      <td>1.133738</td>\n",
       "    </tr>\n",
       "    <tr>\n",
       "      <td>3</td>\n",
       "      <td>0.679800</td>\n",
       "      <td>1.011466</td>\n",
       "    </tr>\n",
       "    <tr>\n",
       "      <td>4</td>\n",
       "      <td>0.658800</td>\n",
       "      <td>1.172420</td>\n",
       "    </tr>\n",
       "    <tr>\n",
       "      <td>5</td>\n",
       "      <td>0.653500</td>\n",
       "      <td>1.409312</td>\n",
       "    </tr>\n",
       "    <tr>\n",
       "      <td>6</td>\n",
       "      <td>0.645500</td>\n",
       "      <td>1.347596</td>\n",
       "    </tr>\n",
       "    <tr>\n",
       "      <td>7</td>\n",
       "      <td>0.632800</td>\n",
       "      <td>1.319782</td>\n",
       "    </tr>\n",
       "    <tr>\n",
       "      <td>8</td>\n",
       "      <td>0.629900</td>\n",
       "      <td>1.094084</td>\n",
       "    </tr>\n",
       "  </tbody>\n",
       "</table><p>"
      ],
      "text/plain": [
       "<IPython.core.display.HTML object>"
      ]
     },
     "metadata": {},
     "output_type": "display_data"
    },
    {
     "name": "stderr",
     "output_type": "stream",
     "text": [
      "[I 2025-08-22 18:21:03,925] Trial 21 finished with value: 1.09408438205719 and parameters: {'learning_rate': 0.0003277169362102715, 'weight_decay': 0.011022762603789524, 'warmup_ratio': 0.1719593466410112, 'lr_scheduler_type': 'cosine_with_restarts', 'per_device_train_batch_size': 96, 'per_device_eval_batch_size': 32, 'num_train_epochs': 34, 'd_model': 256, 'num_attention_heads': 16, 'num_hidden_layers': 3, 'ffn_dim': 128, 'dropout': 0.08461635044171148, 'head_dropout': 0.06631692751260877, 'patch_length': 1}. Best is trial 21 with value: 1.09408438205719.\n"
     ]
    },
    {
     "name": "stdout",
     "output_type": "stream",
     "text": [
      "--- Optuna Trial: Creating model with context=28, horizon=7 ---\n"
     ]
    },
    {
     "data": {
      "text/html": [
       "\n",
       "    <div>\n",
       "      \n",
       "      <progress value='972' max='32076' style='width:300px; height:20px; vertical-align: middle;'></progress>\n",
       "      [  972/32076 00:27 < 14:29, 35.79 it/s, Epoch 1/33]\n",
       "    </div>\n",
       "    <table border=\"1\" class=\"dataframe\">\n",
       "  <thead>\n",
       " <tr style=\"text-align: left;\">\n",
       "      <th>Epoch</th>\n",
       "      <th>Training Loss</th>\n",
       "      <th>Validation Loss</th>\n",
       "    </tr>\n",
       "  </thead>\n",
       "  <tbody>\n",
       "    <tr>\n",
       "      <td>1</td>\n",
       "      <td>0.870700</td>\n",
       "      <td>1.140704</td>\n",
       "    </tr>\n",
       "  </tbody>\n",
       "</table><p>"
      ],
      "text/plain": [
       "<IPython.core.display.HTML object>"
      ]
     },
     "metadata": {},
     "output_type": "display_data"
    },
    {
     "name": "stderr",
     "output_type": "stream",
     "text": [
      "[I 2025-08-22 18:21:31,981] Trial 22 pruned. \n"
     ]
    },
    {
     "name": "stdout",
     "output_type": "stream",
     "text": [
      "--- Optuna Trial: Creating model with context=28, horizon=7 ---\n"
     ]
    },
    {
     "data": {
      "text/html": [
       "\n",
       "    <div>\n",
       "      \n",
       "      <progress value='972' max='32076' style='width:300px; height:20px; vertical-align: middle;'></progress>\n",
       "      [  972/32076 00:35 < 18:47, 27.59 it/s, Epoch 1/33]\n",
       "    </div>\n",
       "    <table border=\"1\" class=\"dataframe\">\n",
       "  <thead>\n",
       " <tr style=\"text-align: left;\">\n",
       "      <th>Epoch</th>\n",
       "      <th>Training Loss</th>\n",
       "      <th>Validation Loss</th>\n",
       "    </tr>\n",
       "  </thead>\n",
       "  <tbody>\n",
       "    <tr>\n",
       "      <td>1</td>\n",
       "      <td>0.809800</td>\n",
       "      <td>1.090591</td>\n",
       "    </tr>\n",
       "  </tbody>\n",
       "</table><p>"
      ],
      "text/plain": [
       "<IPython.core.display.HTML object>"
      ]
     },
     "metadata": {},
     "output_type": "display_data"
    },
    {
     "name": "stderr",
     "output_type": "stream",
     "text": [
      "[I 2025-08-22 18:22:08,281] Trial 23 pruned. \n"
     ]
    },
    {
     "name": "stdout",
     "output_type": "stream",
     "text": [
      "--- Optuna Trial: Creating model with context=28, horizon=7 ---\n"
     ]
    },
    {
     "data": {
      "text/html": [
       "\n",
       "    <div>\n",
       "      \n",
       "      <progress value='5832' max='27216' style='width:300px; height:20px; vertical-align: middle;'></progress>\n",
       "      [ 5832/27216 04:16 < 15:40, 22.73 it/s, Epoch 6/28]\n",
       "    </div>\n",
       "    <table border=\"1\" class=\"dataframe\">\n",
       "  <thead>\n",
       " <tr style=\"text-align: left;\">\n",
       "      <th>Epoch</th>\n",
       "      <th>Training Loss</th>\n",
       "      <th>Validation Loss</th>\n",
       "    </tr>\n",
       "  </thead>\n",
       "  <tbody>\n",
       "    <tr>\n",
       "      <td>1</td>\n",
       "      <td>0.813300</td>\n",
       "      <td>1.020486</td>\n",
       "    </tr>\n",
       "    <tr>\n",
       "      <td>2</td>\n",
       "      <td>0.695600</td>\n",
       "      <td>1.220243</td>\n",
       "    </tr>\n",
       "    <tr>\n",
       "      <td>3</td>\n",
       "      <td>0.680600</td>\n",
       "      <td>1.079418</td>\n",
       "    </tr>\n",
       "    <tr>\n",
       "      <td>4</td>\n",
       "      <td>0.654000</td>\n",
       "      <td>1.198555</td>\n",
       "    </tr>\n",
       "    <tr>\n",
       "      <td>5</td>\n",
       "      <td>0.644900</td>\n",
       "      <td>1.367116</td>\n",
       "    </tr>\n",
       "    <tr>\n",
       "      <td>6</td>\n",
       "      <td>0.627900</td>\n",
       "      <td>1.081259</td>\n",
       "    </tr>\n",
       "  </tbody>\n",
       "</table><p>"
      ],
      "text/plain": [
       "<IPython.core.display.HTML object>"
      ]
     },
     "metadata": {},
     "output_type": "display_data"
    },
    {
     "name": "stderr",
     "output_type": "stream",
     "text": [
      "[I 2025-08-22 18:26:28,176] Trial 24 finished with value: 1.0812594890594482 and parameters: {'learning_rate': 0.0001743167733364276, 'weight_decay': 0.006655822249807455, 'warmup_ratio': 0.12261840452568608, 'lr_scheduler_type': 'cosine_with_restarts', 'per_device_train_batch_size': 96, 'per_device_eval_batch_size': 96, 'num_train_epochs': 28, 'd_model': 256, 'num_attention_heads': 16, 'num_hidden_layers': 4, 'ffn_dim': 256, 'dropout': 0.01889400675796235, 'head_dropout': 0.042165261034964874, 'patch_length': 1}. Best is trial 24 with value: 1.0812594890594482.\n"
     ]
    },
    {
     "name": "stdout",
     "output_type": "stream",
     "text": [
      "--- Optuna Trial: Creating model with context=28, horizon=7 ---\n"
     ]
    },
    {
     "data": {
      "text/html": [
       "\n",
       "    <div>\n",
       "      \n",
       "      <progress value='972' max='28188' style='width:300px; height:20px; vertical-align: middle;'></progress>\n",
       "      [  972/28188 00:40 < 19:05, 23.76 it/s, Epoch 1/29]\n",
       "    </div>\n",
       "    <table border=\"1\" class=\"dataframe\">\n",
       "  <thead>\n",
       " <tr style=\"text-align: left;\">\n",
       "      <th>Epoch</th>\n",
       "      <th>Training Loss</th>\n",
       "      <th>Validation Loss</th>\n",
       "    </tr>\n",
       "  </thead>\n",
       "  <tbody>\n",
       "    <tr>\n",
       "      <td>1</td>\n",
       "      <td>0.857000</td>\n",
       "      <td>1.345961</td>\n",
       "    </tr>\n",
       "  </tbody>\n",
       "</table><p>"
      ],
      "text/plain": [
       "<IPython.core.display.HTML object>"
      ]
     },
     "metadata": {},
     "output_type": "display_data"
    },
    {
     "name": "stderr",
     "output_type": "stream",
     "text": [
      "[I 2025-08-22 18:27:10,474] Trial 25 pruned. \n"
     ]
    },
    {
     "name": "stdout",
     "output_type": "stream",
     "text": [
      "--- Optuna Trial: Creating model with context=28, horizon=7 ---\n"
     ]
    },
    {
     "data": {
      "text/html": [
       "\n",
       "    <div>\n",
       "      \n",
       "      <progress value='20412' max='34020' style='width:300px; height:20px; vertical-align: middle;'></progress>\n",
       "      [20412/34020 14:47 < 09:51, 23.00 it/s, Epoch 21/35]\n",
       "    </div>\n",
       "    <table border=\"1\" class=\"dataframe\">\n",
       "  <thead>\n",
       " <tr style=\"text-align: left;\">\n",
       "      <th>Epoch</th>\n",
       "      <th>Training Loss</th>\n",
       "      <th>Validation Loss</th>\n",
       "    </tr>\n",
       "  </thead>\n",
       "  <tbody>\n",
       "    <tr>\n",
       "      <td>1</td>\n",
       "      <td>0.797800</td>\n",
       "      <td>1.061967</td>\n",
       "    </tr>\n",
       "    <tr>\n",
       "      <td>2</td>\n",
       "      <td>0.696900</td>\n",
       "      <td>1.828882</td>\n",
       "    </tr>\n",
       "    <tr>\n",
       "      <td>3</td>\n",
       "      <td>0.681400</td>\n",
       "      <td>1.072652</td>\n",
       "    </tr>\n",
       "    <tr>\n",
       "      <td>4</td>\n",
       "      <td>0.657900</td>\n",
       "      <td>1.055992</td>\n",
       "    </tr>\n",
       "    <tr>\n",
       "      <td>5</td>\n",
       "      <td>0.653700</td>\n",
       "      <td>1.253974</td>\n",
       "    </tr>\n",
       "    <tr>\n",
       "      <td>6</td>\n",
       "      <td>0.637700</td>\n",
       "      <td>1.182180</td>\n",
       "    </tr>\n",
       "    <tr>\n",
       "      <td>7</td>\n",
       "      <td>0.625600</td>\n",
       "      <td>1.220983</td>\n",
       "    </tr>\n",
       "    <tr>\n",
       "      <td>8</td>\n",
       "      <td>0.619600</td>\n",
       "      <td>1.187051</td>\n",
       "    </tr>\n",
       "    <tr>\n",
       "      <td>9</td>\n",
       "      <td>0.612700</td>\n",
       "      <td>0.998803</td>\n",
       "    </tr>\n",
       "    <tr>\n",
       "      <td>10</td>\n",
       "      <td>0.588900</td>\n",
       "      <td>1.222422</td>\n",
       "    </tr>\n",
       "    <tr>\n",
       "      <td>11</td>\n",
       "      <td>0.585100</td>\n",
       "      <td>0.977946</td>\n",
       "    </tr>\n",
       "    <tr>\n",
       "      <td>12</td>\n",
       "      <td>0.580600</td>\n",
       "      <td>1.778822</td>\n",
       "    </tr>\n",
       "    <tr>\n",
       "      <td>13</td>\n",
       "      <td>0.571100</td>\n",
       "      <td>0.967583</td>\n",
       "    </tr>\n",
       "    <tr>\n",
       "      <td>14</td>\n",
       "      <td>0.561300</td>\n",
       "      <td>1.346143</td>\n",
       "    </tr>\n",
       "    <tr>\n",
       "      <td>15</td>\n",
       "      <td>0.552700</td>\n",
       "      <td>0.998759</td>\n",
       "    </tr>\n",
       "    <tr>\n",
       "      <td>16</td>\n",
       "      <td>0.534900</td>\n",
       "      <td>0.966566</td>\n",
       "    </tr>\n",
       "    <tr>\n",
       "      <td>17</td>\n",
       "      <td>0.528200</td>\n",
       "      <td>1.205588</td>\n",
       "    </tr>\n",
       "    <tr>\n",
       "      <td>18</td>\n",
       "      <td>0.512100</td>\n",
       "      <td>1.069022</td>\n",
       "    </tr>\n",
       "    <tr>\n",
       "      <td>19</td>\n",
       "      <td>0.499900</td>\n",
       "      <td>1.185409</td>\n",
       "    </tr>\n",
       "    <tr>\n",
       "      <td>20</td>\n",
       "      <td>0.489200</td>\n",
       "      <td>1.117334</td>\n",
       "    </tr>\n",
       "    <tr>\n",
       "      <td>21</td>\n",
       "      <td>0.473500</td>\n",
       "      <td>1.452211</td>\n",
       "    </tr>\n",
       "  </tbody>\n",
       "</table><p>"
      ],
      "text/plain": [
       "<IPython.core.display.HTML object>"
      ]
     },
     "metadata": {},
     "output_type": "display_data"
    },
    {
     "name": "stderr",
     "output_type": "stream",
     "text": [
      "[I 2025-08-22 18:42:00,815] Trial 26 finished with value: 1.452210545539856 and parameters: {'learning_rate': 0.00029159687542673526, 'weight_decay': 0.022151043937586583, 'warmup_ratio': 0.11467479119606812, 'lr_scheduler_type': 'cosine_with_restarts', 'per_device_train_batch_size': 96, 'per_device_eval_batch_size': 32, 'num_train_epochs': 35, 'd_model': 256, 'num_attention_heads': 16, 'num_hidden_layers': 4, 'ffn_dim': 256, 'dropout': 0.03335438124988318, 'head_dropout': 0.051442802909000385, 'patch_length': 1}. Best is trial 24 with value: 1.0812594890594482.\n"
     ]
    },
    {
     "name": "stdout",
     "output_type": "stream",
     "text": [
      "--- Optuna Trial: Creating model with context=28, horizon=7 ---\n"
     ]
    },
    {
     "data": {
      "text/html": [
       "\n",
       "    <div>\n",
       "      \n",
       "      <progress value='972' max='38880' style='width:300px; height:20px; vertical-align: middle;'></progress>\n",
       "      [  972/38880 00:40 < 26:17, 24.03 it/s, Epoch 1/40]\n",
       "    </div>\n",
       "    <table border=\"1\" class=\"dataframe\">\n",
       "  <thead>\n",
       " <tr style=\"text-align: left;\">\n",
       "      <th>Epoch</th>\n",
       "      <th>Training Loss</th>\n",
       "      <th>Validation Loss</th>\n",
       "    </tr>\n",
       "  </thead>\n",
       "  <tbody>\n",
       "    <tr>\n",
       "      <td>1</td>\n",
       "      <td>0.890600</td>\n",
       "      <td>1.512403</td>\n",
       "    </tr>\n",
       "  </tbody>\n",
       "</table><p>"
      ],
      "text/plain": [
       "<IPython.core.display.HTML object>"
      ]
     },
     "metadata": {},
     "output_type": "display_data"
    },
    {
     "name": "stderr",
     "output_type": "stream",
     "text": [
      "[I 2025-08-22 18:42:42,256] Trial 27 pruned. \n"
     ]
    },
    {
     "name": "stdout",
     "output_type": "stream",
     "text": [
      "--- Optuna Trial: Creating model with context=28, horizon=7 ---\n"
     ]
    },
    {
     "data": {
      "text/html": [
       "\n",
       "    <div>\n",
       "      \n",
       "      <progress value='2914' max='39339' style='width:300px; height:20px; vertical-align: middle;'></progress>\n",
       "      [ 2914/39339 01:49 < 22:47, 26.65 it/s, Epoch 2/27]\n",
       "    </div>\n",
       "    <table border=\"1\" class=\"dataframe\">\n",
       "  <thead>\n",
       " <tr style=\"text-align: left;\">\n",
       "      <th>Epoch</th>\n",
       "      <th>Training Loss</th>\n",
       "      <th>Validation Loss</th>\n",
       "    </tr>\n",
       "  </thead>\n",
       "  <tbody>\n",
       "    <tr>\n",
       "      <td>1</td>\n",
       "      <td>0.807300</td>\n",
       "      <td>1.234921</td>\n",
       "    </tr>\n",
       "    <tr>\n",
       "      <td>2</td>\n",
       "      <td>0.706700</td>\n",
       "      <td>1.511703</td>\n",
       "    </tr>\n",
       "  </tbody>\n",
       "</table><p>"
      ],
      "text/plain": [
       "<IPython.core.display.HTML object>"
      ]
     },
     "metadata": {},
     "output_type": "display_data"
    },
    {
     "name": "stderr",
     "output_type": "stream",
     "text": [
      "[I 2025-08-22 18:44:32,920] Trial 28 pruned. \n"
     ]
    },
    {
     "name": "stdout",
     "output_type": "stream",
     "text": [
      "--- Optuna Trial: Creating model with context=28, horizon=7 ---\n"
     ]
    },
    {
     "data": {
      "text/html": [
       "\n",
       "    <div>\n",
       "      \n",
       "      <progress value='5828' max='61194' style='width:300px; height:20px; vertical-align: middle;'></progress>\n",
       "      [ 5828/61194 02:28 < 23:28, 39.30 it/s, Epoch 2/21]\n",
       "    </div>\n",
       "    <table border=\"1\" class=\"dataframe\">\n",
       "  <thead>\n",
       " <tr style=\"text-align: left;\">\n",
       "      <th>Epoch</th>\n",
       "      <th>Training Loss</th>\n",
       "      <th>Validation Loss</th>\n",
       "    </tr>\n",
       "  </thead>\n",
       "  <tbody>\n",
       "    <tr>\n",
       "      <td>1</td>\n",
       "      <td>0.750600</td>\n",
       "      <td>1.102004</td>\n",
       "    </tr>\n",
       "    <tr>\n",
       "      <td>2</td>\n",
       "      <td>0.705800</td>\n",
       "      <td>1.119058</td>\n",
       "    </tr>\n",
       "  </tbody>\n",
       "</table><p>"
      ],
      "text/plain": [
       "<IPython.core.display.HTML object>"
      ]
     },
     "metadata": {},
     "output_type": "display_data"
    },
    {
     "name": "stderr",
     "output_type": "stream",
     "text": [
      "[I 2025-08-22 18:47:02,316] Trial 29 pruned. \n"
     ]
    },
    {
     "name": "stdout",
     "output_type": "stream",
     "text": [
      "BEST: BestRun(run_id='24', objective=1.0812594890594482, hyperparameters={'learning_rate': 0.0001743167733364276, 'weight_decay': 0.006655822249807455, 'warmup_ratio': 0.12261840452568608, 'lr_scheduler_type': 'cosine_with_restarts', 'per_device_train_batch_size': 96, 'per_device_eval_batch_size': 96, 'num_train_epochs': 28, 'd_model': 256, 'num_attention_heads': 16, 'num_hidden_layers': 4, 'ffn_dim': 256, 'dropout': 0.01889400675796235, 'head_dropout': 0.042165261034964874, 'patch_length': 1}, run_summary=None)\n",
      "BEST params: {'learning_rate': 0.0001743167733364276, 'weight_decay': 0.006655822249807455, 'warmup_ratio': 0.12261840452568608, 'lr_scheduler_type': 'cosine_with_restarts', 'per_device_train_batch_size': 96, 'per_device_eval_batch_size': 96, 'num_train_epochs': 28, 'd_model': 256, 'num_attention_heads': 16, 'num_hidden_layers': 4, 'ffn_dim': 256, 'dropout': 0.01889400675796235, 'head_dropout': 0.042165261034964874, 'patch_length': 1}\n"
     ]
    }
   ],
   "source": [
    "import optuna\n",
    "from transformers import Trainer, TrainingArguments, EarlyStoppingCallback\n",
    "from transformers.models.patchtst import PatchTSTConfig, PatchTSTForPrediction\n",
    "import os, optuna\n",
    "\n",
    "STUDY_NAME = \"patchtst_sales_forecast\"  # 원하는 이름 (기존과 동일해야 이어짐)\n",
    "STORAGE = f\"sqlite:///{os.path.abspath('./patchtst_sales_forecast/optuna.sqlite3')}\"\n",
    "\n",
    "# ---- 1) trial=None 안전한 helper ----\n",
    "def s_cat(trial, name, choices, default):\n",
    "    return trial.suggest_categorical(name, choices) if trial else default\n",
    "\n",
    "def s_int(trial, name, low, high, default):\n",
    "    return trial.suggest_int(name, low, high) if trial else default\n",
    "\n",
    "def s_float(trial, name, low, high, default, log=False):\n",
    "    return trial.suggest_float(name, low, high, log=log) if trial else default\n",
    "\n",
    "\n",
    "# --- 1) 모델 생성 함수: trial로부터 아키텍처/하이퍼파라미터를 받아서 모델 구성 ---\n",
    "def model_init(trial):\n",
    "    # [디버깅] 이 함수가 호출될 때마다 실제 사용되는 값을 출력합니다.\n",
    "    print(f\"--- Optuna Trial: Creating model with context={context_length}, horizon={forecast_horizon} ---\")\n",
    "    # ⬇︎ 아키텍처 탐색 공간 (필요한 것만 남기고/늘려도 됨)\n",
    "    d_model  = s_cat(trial, \"d_model\", [64, 128, 256], 128)\n",
    "    # d_model로 나누어떨어지는 head만 허용\n",
    "    heads_cand = [h for h in [4, 8, 16] if d_model % h == 0]\n",
    "    num_heads = s_cat(trial, \"num_attention_heads\", heads_cand, heads_cand[0])\n",
    "    num_layers = s_int(trial, \"num_hidden_layers\", 2, 4, 3)\n",
    "    ffn_dim   = s_cat(trial, \"ffn_dim\", [128, 256, 512], 256)\n",
    "    dropout   = s_float(trial, \"dropout\", 0.0, 0.3, 0.2)\n",
    "    head_do   = s_float(trial, \"head_dropout\", 0.0, 0.3, 0.2)\n",
    "    patch_choices = [1, 7]\n",
    "    patch_len = s_cat(trial, \"patch_length\", patch_choices, 7)\n",
    "    patch_str = patch_len  # stride=length 고정\n",
    "\n",
    "    cfg = PatchTSTConfig(\n",
    "        # --- 고정 (네 파이프라인) ---\n",
    "        num_input_channels=4,\n",
    "        context_length=context_length,\n",
    "        prediction_length=forecast_horizon,\n",
    "        num_time_varying_known_reals=3,\n",
    "        num_static_categorical_features=1,\n",
    "        cardinality=[num_entities],\n",
    "        embedding_dimension=[32],\n",
    "        scaling=\"std\",\n",
    "        loss=\"mse\",\n",
    "        # --- 탐색 대상 ---\n",
    "        d_model=d_model,\n",
    "        num_attention_heads=num_heads,\n",
    "        num_hidden_layers=num_layers,\n",
    "        ffn_dim=ffn_dim,\n",
    "        dropout=dropout,\n",
    "        head_dropout=head_do,\n",
    "        patch_length=patch_len,\n",
    "        patch_stride=patch_str,\n",
    "    )\n",
    "    import math\n",
    "    def _eff(L,p,s): return p * math.ceil(L / s)\n",
    "    def assert_no_padding(cfg):\n",
    "        ec = _eff(cfg.context_length, cfg.patch_length, cfg.patch_stride)\n",
    "        ep = _eff(cfg.prediction_length, cfg.patch_length, cfg.patch_stride)\n",
    "        if (ec, ep) != (cfg.context_length, cfg.prediction_length):\n",
    "            raise ValueError(f\"padding: ctx {cfg.context_length}->{ec}, pred {cfg.prediction_length}->{ep} \"\n",
    "                            f\"(p={cfg.patch_length}, s={cfg.patch_stride})\")\n",
    "    # model_init 내부에서 cfg 만든 직후 호출\n",
    "    assert_no_padding(cfg)\n",
    "\n",
    "    base = PatchTSTForPrediction(cfg)\n",
    "    # sales 채널만 loss/예측하도록 만든 래퍼\n",
    "    return PatchTSTSalesOnly(base, target_ch=0)\n",
    "\n",
    "# --- 2) 학습 세팅 쪽 탐색 공간 (TrainingArguments) ---\n",
    "def hp_space(trial):\n",
    "    return {\n",
    "        \"learning_rate\": trial.suggest_float(\"learning_rate\", 1e-5, 5e-4, log=True),\n",
    "        \"weight_decay\":  trial.suggest_float(\"weight_decay\", 0.0, 0.1),\n",
    "        \"warmup_ratio\":  trial.suggest_float(\"warmup_ratio\", 0.0, 0.2),\n",
    "        \"lr_scheduler_type\": trial.suggest_categorical(\n",
    "            \"lr_scheduler_type\", [\"linear\", \"cosine\", \"cosine_with_restarts\", \"polynomial\"]\n",
    "        ),\n",
    "        # 필요시 배치/에폭도 탐색\n",
    "        \"per_device_train_batch_size\": trial.suggest_categorical(\"per_device_train_batch_size\", [32, 64, 96]),\n",
    "        \"per_device_eval_batch_size\":  trial.suggest_categorical(\"per_device_eval_batch_size\",  [32, 64, 96]),\n",
    "        \"num_train_epochs\": trial.suggest_int(\"num_train_epochs\", 10, 40),\n",
    "    }\n",
    "\n",
    "# --- 3) 목표 메트릭 (작을수록 좋게) ---\n",
    "def compute_objective(metrics):\n",
    "    # eval_loss만 최소화\n",
    "    return metrics[\"eval_loss\"]\n",
    "\n",
    "# --- 4) HPO용 트레이너: model이 아니라 model_init를 넘겨야 함! ---\n",
    "trainer_hpo = Trainer(\n",
    "    model_init=model_init,\n",
    "    args=training_args,                # 네 기존 args (eval_strategy=\"epoch\" 등 포함)\n",
    "    train_dataset=train_dataset,\n",
    "    eval_dataset=valid_dataset,\n",
    "    callbacks=[EarlyStoppingCallback(early_stopping_patience=5, early_stopping_threshold=0.0)],\n",
    ")\n",
    "\n",
    "# --- 5) 탐색 실행 ---\n",
    "best_run = trainer_hpo.hyperparameter_search(\n",
    "    direction=\"minimize\",\n",
    "    backend=\"optuna\",\n",
    "    n_trials=30,                # 리소스에 맞게 늘리기/줄이기\n",
    "    hp_space=hp_space,\n",
    "    study_name=STUDY_NAME,\n",
    "    storage=STORAGE,\n",
    "    load_if_exists=True,\n",
    "    compute_objective=compute_objective,\n",
    ")\n",
    "print(\"BEST:\", best_run)\n",
    "print(\"BEST params:\", best_run.hyperparameters)\n"
   ]
  },
  {
   "cell_type": "markdown",
   "id": "aab8fbd6",
   "metadata": {},
   "source": [
    "### 최종 train"
   ]
  },
  {
   "cell_type": "code",
   "execution_count": 30,
   "id": "33dd4540",
   "metadata": {},
   "outputs": [
    {
     "name": "stderr",
     "output_type": "stream",
     "text": [
      "/workspace/myenv/lib/python3.11/site-packages/transformers/training_args.py:2083: FutureWarning: `--push_to_hub_token` is deprecated and will be removed in version 5 of 🤗 Transformers. Use `--hub_token` instead.\n",
      "  warnings.warn(\n"
     ]
    },
    {
     "data": {
      "text/html": [
       "\n",
       "    <div>\n",
       "      \n",
       "      <progress value='27216' max='27216' style='width:300px; height:20px; vertical-align: middle;'></progress>\n",
       "      [27216/27216 20:01, Epoch 28/28]\n",
       "    </div>\n",
       "    <table border=\"1\" class=\"dataframe\">\n",
       "  <thead>\n",
       " <tr style=\"text-align: left;\">\n",
       "      <th>Epoch</th>\n",
       "      <th>Training Loss</th>\n",
       "      <th>Validation Loss</th>\n",
       "    </tr>\n",
       "  </thead>\n",
       "  <tbody>\n",
       "    <tr>\n",
       "      <td>1</td>\n",
       "      <td>0.813300</td>\n",
       "      <td>1.020486</td>\n",
       "    </tr>\n",
       "    <tr>\n",
       "      <td>2</td>\n",
       "      <td>0.695600</td>\n",
       "      <td>1.220243</td>\n",
       "    </tr>\n",
       "    <tr>\n",
       "      <td>3</td>\n",
       "      <td>0.680600</td>\n",
       "      <td>1.079418</td>\n",
       "    </tr>\n",
       "    <tr>\n",
       "      <td>4</td>\n",
       "      <td>0.654000</td>\n",
       "      <td>1.198555</td>\n",
       "    </tr>\n",
       "    <tr>\n",
       "      <td>5</td>\n",
       "      <td>0.644900</td>\n",
       "      <td>1.367116</td>\n",
       "    </tr>\n",
       "    <tr>\n",
       "      <td>6</td>\n",
       "      <td>0.627900</td>\n",
       "      <td>1.081259</td>\n",
       "    </tr>\n",
       "    <tr>\n",
       "      <td>7</td>\n",
       "      <td>0.615200</td>\n",
       "      <td>1.317790</td>\n",
       "    </tr>\n",
       "    <tr>\n",
       "      <td>8</td>\n",
       "      <td>0.607900</td>\n",
       "      <td>0.971599</td>\n",
       "    </tr>\n",
       "    <tr>\n",
       "      <td>9</td>\n",
       "      <td>0.599600</td>\n",
       "      <td>0.950890</td>\n",
       "    </tr>\n",
       "    <tr>\n",
       "      <td>10</td>\n",
       "      <td>0.577000</td>\n",
       "      <td>1.105128</td>\n",
       "    </tr>\n",
       "    <tr>\n",
       "      <td>11</td>\n",
       "      <td>0.572700</td>\n",
       "      <td>1.052809</td>\n",
       "    </tr>\n",
       "    <tr>\n",
       "      <td>12</td>\n",
       "      <td>0.569400</td>\n",
       "      <td>1.837085</td>\n",
       "    </tr>\n",
       "    <tr>\n",
       "      <td>13</td>\n",
       "      <td>0.556300</td>\n",
       "      <td>1.032923</td>\n",
       "    </tr>\n",
       "    <tr>\n",
       "      <td>14</td>\n",
       "      <td>0.543800</td>\n",
       "      <td>1.526252</td>\n",
       "    </tr>\n",
       "    <tr>\n",
       "      <td>15</td>\n",
       "      <td>0.534700</td>\n",
       "      <td>1.139439</td>\n",
       "    </tr>\n",
       "    <tr>\n",
       "      <td>16</td>\n",
       "      <td>0.516000</td>\n",
       "      <td>1.121541</td>\n",
       "    </tr>\n",
       "    <tr>\n",
       "      <td>17</td>\n",
       "      <td>0.508600</td>\n",
       "      <td>1.078603</td>\n",
       "    </tr>\n",
       "    <tr>\n",
       "      <td>18</td>\n",
       "      <td>0.491800</td>\n",
       "      <td>1.030058</td>\n",
       "    </tr>\n",
       "    <tr>\n",
       "      <td>19</td>\n",
       "      <td>0.479200</td>\n",
       "      <td>1.260200</td>\n",
       "    </tr>\n",
       "    <tr>\n",
       "      <td>20</td>\n",
       "      <td>0.471700</td>\n",
       "      <td>1.320887</td>\n",
       "    </tr>\n",
       "    <tr>\n",
       "      <td>21</td>\n",
       "      <td>0.455500</td>\n",
       "      <td>1.477489</td>\n",
       "    </tr>\n",
       "    <tr>\n",
       "      <td>22</td>\n",
       "      <td>0.446600</td>\n",
       "      <td>1.199091</td>\n",
       "    </tr>\n",
       "    <tr>\n",
       "      <td>23</td>\n",
       "      <td>0.441400</td>\n",
       "      <td>1.050979</td>\n",
       "    </tr>\n",
       "    <tr>\n",
       "      <td>24</td>\n",
       "      <td>0.427400</td>\n",
       "      <td>1.005569</td>\n",
       "    </tr>\n",
       "    <tr>\n",
       "      <td>25</td>\n",
       "      <td>0.428900</td>\n",
       "      <td>1.135935</td>\n",
       "    </tr>\n",
       "    <tr>\n",
       "      <td>26</td>\n",
       "      <td>0.415700</td>\n",
       "      <td>1.005733</td>\n",
       "    </tr>\n",
       "    <tr>\n",
       "      <td>27</td>\n",
       "      <td>0.418200</td>\n",
       "      <td>1.185696</td>\n",
       "    </tr>\n",
       "    <tr>\n",
       "      <td>28</td>\n",
       "      <td>0.415800</td>\n",
       "      <td>1.548250</td>\n",
       "    </tr>\n",
       "  </tbody>\n",
       "</table><p>"
      ],
      "text/plain": [
       "<IPython.core.display.HTML object>"
      ]
     },
     "metadata": {},
     "output_type": "display_data"
    },
    {
     "name": "stdout",
     "output_type": "stream",
     "text": [
      "saved to: ./patchtst_sales_forecast_best/base\n"
     ]
    }
   ],
   "source": [
    "best = best_run.hyperparameters\n",
    "\n",
    "# TrainingArguments 반영\n",
    "\n",
    "args_dict = training_args.to_dict()\n",
    "for k, v in best.items():\n",
    "    if k in args_dict:\n",
    "        args_dict[k] = v\n",
    "best_args = TrainingArguments(**args_dict)\n",
    "\n",
    "def model_init_best():\n",
    "    # best 값으로 동일하게 구성\n",
    "    trial_like = None\n",
    "    # 그냥 model_init(None) 쓰면 기본값이 들어가므로,\n",
    "    # 아래처럼 직접 config를 만드는 게 안전. (간단히는 best를 model_init에서 읽도록 바꿔도 OK)\n",
    "    patch_length = best[\"patch_length\"]\n",
    "    cfg_best = PatchTSTConfig(\n",
    "        num_input_channels=4,\n",
    "        context_length=context_length,\n",
    "        prediction_length=forecast_horizon,\n",
    "        num_time_varying_known_reals=3,\n",
    "        num_static_categorical_features=1,\n",
    "        cardinality=[num_entities],\n",
    "        embedding_dimension=[32],\n",
    "        d_model=best[\"d_model\"],\n",
    "        num_attention_heads=best[\"num_attention_heads\"],\n",
    "        num_hidden_layers=best[\"num_hidden_layers\"],\n",
    "        ffn_dim=best[\"ffn_dim\"],\n",
    "        dropout=best[\"dropout\"],\n",
    "        head_dropout=best[\"head_dropout\"],\n",
    "        patch_length=patch_length,\n",
    "        patch_stride=patch_length,\n",
    "        scaling=\"std\",\n",
    "        loss=\"mse\",\n",
    "    )\n",
    "\n",
    "    # 안전가드\n",
    "    import math\n",
    "    def _eff(L,p,s): return p * math.ceil(L/s)\n",
    "    assert _eff(cfg_best.context_length, cfg_best.patch_length, cfg_best.patch_stride) == cfg_best.context_length\n",
    "    assert _eff(cfg_best.prediction_length, cfg_best.patch_length, cfg_best.patch_stride) == cfg_best.prediction_length\n",
    "\n",
    "    base = PatchTSTForPrediction(cfg_best)\n",
    "    return PatchTSTSalesOnly(base, target_ch=0)\n",
    "\n",
    "final_trainer = Trainer(\n",
    "    model_init=model_init_best,\n",
    "    args=best_args,\n",
    "    train_dataset=train_dataset,\n",
    "    eval_dataset=valid_dataset,\n",
    ")\n",
    "final_trainer.train()\n",
    "\n",
    "# 훈련 직후\n",
    "SAVE_DIR = \"./patchtst_sales_forecast_best/base\"   # 새 폴더\n",
    "final_trainer.model.base.save_pretrained(SAVE_DIR) # ★ config.json까지 생성됨\n",
    "print(\"saved to:\", SAVE_DIR)"
   ]
  },
  {
   "cell_type": "code",
   "execution_count": 31,
   "id": "366ba0ae",
   "metadata": {},
   "outputs": [
    {
     "data": {
      "text/plain": [
       "dict_items([('learning_rate', 0.0001743167733364276), ('weight_decay', 0.006655822249807455), ('warmup_ratio', 0.12261840452568608), ('lr_scheduler_type', 'cosine_with_restarts'), ('per_device_train_batch_size', 96), ('per_device_eval_batch_size', 96), ('num_train_epochs', 28), ('d_model', 256), ('num_attention_heads', 16), ('num_hidden_layers', 4), ('ffn_dim', 256), ('dropout', 0.01889400675796235), ('head_dropout', 0.042165261034964874), ('patch_length', 1)])"
      ]
     },
     "execution_count": 31,
     "metadata": {},
     "output_type": "execute_result"
    }
   ],
   "source": [
    "best.items()"
   ]
  },
  {
   "cell_type": "markdown",
   "id": "984f7cf7",
   "metadata": {},
   "source": [
    "## Predict"
   ]
  },
  {
   "cell_type": "code",
   "execution_count": 32,
   "id": "19be72dd",
   "metadata": {},
   "outputs": [],
   "source": [
    "import numpy as np\n",
    "import torch\n",
    "\n",
    "def _to_numpy(x):\n",
    "    return x.detach().cpu().numpy() if isinstance(x, torch.Tensor) else x\n",
    "\n",
    "def _pick_pred_array(preds, horizon=forecast_horizon, target_ch=0):\n",
    "    \"\"\"\n",
    "    pred_output.predictions가 tuple/list/dict/object ndarray인 다양한 경우를 모두 커버해서\n",
    "    (N, horizon) 형태의 sales 채널만 꺼내 반환.\n",
    "    \"\"\"\n",
    "    # dict-like\n",
    "    if isinstance(preds, dict):\n",
    "        for k in [\"predictions\", \"logits\", \"prediction_outputs\", \"y_hat\", \"forecast\"]:\n",
    "            if k in preds:\n",
    "                arr = _to_numpy(preds[k])\n",
    "                if isinstance(arr, np.ndarray):\n",
    "                    return arr\n",
    "\n",
    "    # tuple/list\n",
    "    if isinstance(preds, (list, tuple)):\n",
    "        for x in preds:\n",
    "            arr = _to_numpy(x)\n",
    "            if isinstance(arr, np.ndarray) and arr.ndim >= 2:\n",
    "                return arr\n",
    "\n",
    "    # numpy object 배열 (ragged)\n",
    "    if isinstance(preds, np.ndarray) and preds.dtype == object:\n",
    "        for x in preds.tolist():\n",
    "            arr = _to_numpy(x)\n",
    "            if isinstance(arr, np.ndarray) and arr.ndim >= 2:\n",
    "                return arr\n",
    "\n",
    "    # 이미 ndarray인 경우\n",
    "    if isinstance(preds, np.ndarray):\n",
    "        return preds\n",
    "\n",
    "    # 마지막 수단\n",
    "    arr = np.asarray(preds, dtype=object)\n",
    "    raise ValueError(f\"예측 배열을 추출하지 못함: type={type(preds)}, dtype={getattr(arr,'dtype',None)}\")\n",
    "\n",
    "'''\n",
    "🏷️ 매출 예측이라면?\n",
    "소수점 0.5 기준 반올림 (np.rint) 이 가장 많이 씁니다.\n",
    "다만 0.07, 0.08 같은 작은 값들이 실제로는 “0건 매출”인 경우가 많기 때문에, \n",
    "임계값(threshold) 규칙을 추가하면 더 좋아요.\n",
    "'''\n",
    "\n",
    "def round_with_threshold(x, threshold=0.3):\n",
    "    if x < threshold:\n",
    "        return 0\n",
    "    return int(np.rint(x))\n",
    "\n",
    "#df_result[\"y_pred_int\"] = df_result[\"y_pred\"].apply(round_with_threshold)"
   ]
  },
  {
   "cell_type": "code",
   "execution_count": 33,
   "id": "edb4fad6",
   "metadata": {},
   "outputs": [
    {
     "name": "stdout",
     "output_type": "stream",
     "text": [
      "Loading configuration from: ./patchtst_sales_forecast_best/base\n",
      "Loading model with specified configuration...\n",
      "✅ 모델 로드 완료: ./patchtst_sales_forecast_best/base\n",
      "model expects context_length=28, prediction_length=7, num_input_channels=4\n"
     ]
    }
   ],
   "source": [
    "import pandas as pd\n",
    "import numpy as np\n",
    "import torch\n",
    "from transformers import Trainer, AutoConfig\n",
    "from transformers.models.patchtst.modeling_patchtst import PatchTSTForPrediction\n",
    "\n",
    "\n",
    "# 1. 학습 시 TrainingArguments의 output_dir에 저장된 'best' 모델 경로를 지정합니다.\n",
    "#    보통 output_dir 내부에 'checkpoint-...' 형태의 폴더로 저장됩니다.\n",
    "MODEL_PATH = \"./patchtst_sales_forecast_best/base\"\n",
    "\n",
    "# 2. 저장된 경로에서 config.json을 명시적으로 먼저 불러옵니다.\n",
    "print(f\"Loading configuration from: {MODEL_PATH}\")\n",
    "config = AutoConfig.from_pretrained(MODEL_PATH)\n",
    "\n",
    "# 3. 위에서 불러온 config 객체를 사용하여 모델을 생성합니다.\n",
    "# 이렇게 하면 context_length 등이 올바르게 설정됩니다.\n",
    "print(\"Loading model with specified configuration...\")\n",
    "model = PatchTSTForPrediction.from_pretrained(MODEL_PATH, config=config)\n",
    "\n",
    "# 3. 예측 전용 Trainer를 생성합니다.\n",
    "trainer = Trainer(model=model)\n",
    "\n",
    "print(f\"✅ 모델 로드 완료: {MODEL_PATH}\")\n",
    "\n",
    "# 2) 모델이 기대하는 길이 읽기\n",
    "CTX = getattr(model.config, \"context_length\", None) or getattr(model.config, \"sequence_length\", None)\n",
    "H   = getattr(model.config, \"prediction_length\", None)\n",
    "print(f\"model expects context_length={CTX}, prediction_length={H}, num_input_channels={model.config.num_input_channels}\")"
   ]
  },
  {
   "cell_type": "code",
   "execution_count": 34,
   "id": "32fcd954",
   "metadata": {},
   "outputs": [
    {
     "name": "stderr",
     "output_type": "stream",
     "text": [
      "/tmp/ipykernel_1423/342606438.py:22: FutureWarning: The behavior of 'isin' with dtype=datetime64[ns] and castable values (e.g. strings) is deprecated. In a future version, these will not be considered matching by isin. Explicitly cast to the appropriate dtype before calling isin instead.\n",
      "  test_df[\"is_holiday\"] = test_df[\"date\"].isin(kr_holidays).astype(int)\n"
     ]
    },
    {
     "name": "stdout",
     "output_type": "stream",
     "text": [
      "TEST_06.csv테스트 데이터 전처리 완료\n"
     ]
    },
    {
     "name": "stdout",
     "output_type": "stream",
     "text": [
      "테스트 데이터셋 길이: 193\n"
     ]
    },
    {
     "data": {
      "text/html": [],
      "text/plain": [
       "<IPython.core.display.HTML object>"
      ]
     },
     "metadata": {},
     "output_type": "display_data"
    },
    {
     "name": "stderr",
     "output_type": "stream",
     "text": [
      "/tmp/ipykernel_1423/342606438.py:22: FutureWarning: The behavior of 'isin' with dtype=datetime64[ns] and castable values (e.g. strings) is deprecated. In a future version, these will not be considered matching by isin. Explicitly cast to the appropriate dtype before calling isin instead.\n",
      "  test_df[\"is_holiday\"] = test_df[\"date\"].isin(kr_holidays).astype(int)\n"
     ]
    },
    {
     "name": "stdout",
     "output_type": "stream",
     "text": [
      "TEST_05.csv테스트 데이터 전처리 완료\n",
      "테스트 데이터셋 길이: 193\n"
     ]
    },
    {
     "data": {
      "text/html": [],
      "text/plain": [
       "<IPython.core.display.HTML object>"
      ]
     },
     "metadata": {},
     "output_type": "display_data"
    },
    {
     "name": "stdout",
     "output_type": "stream",
     "text": [
      "TEST_04.csv테스트 데이터 전처리 완료\n"
     ]
    },
    {
     "name": "stderr",
     "output_type": "stream",
     "text": [
      "/tmp/ipykernel_1423/342606438.py:22: FutureWarning: The behavior of 'isin' with dtype=datetime64[ns] and castable values (e.g. strings) is deprecated. In a future version, these will not be considered matching by isin. Explicitly cast to the appropriate dtype before calling isin instead.\n",
      "  test_df[\"is_holiday\"] = test_df[\"date\"].isin(kr_holidays).astype(int)\n"
     ]
    },
    {
     "name": "stdout",
     "output_type": "stream",
     "text": [
      "테스트 데이터셋 길이: 193\n"
     ]
    },
    {
     "data": {
      "text/html": [],
      "text/plain": [
       "<IPython.core.display.HTML object>"
      ]
     },
     "metadata": {},
     "output_type": "display_data"
    },
    {
     "name": "stdout",
     "output_type": "stream",
     "text": [
      "TEST_09.csv테스트 데이터 전처리 완료\n"
     ]
    },
    {
     "name": "stderr",
     "output_type": "stream",
     "text": [
      "/tmp/ipykernel_1423/342606438.py:22: FutureWarning: The behavior of 'isin' with dtype=datetime64[ns] and castable values (e.g. strings) is deprecated. In a future version, these will not be considered matching by isin. Explicitly cast to the appropriate dtype before calling isin instead.\n",
      "  test_df[\"is_holiday\"] = test_df[\"date\"].isin(kr_holidays).astype(int)\n"
     ]
    },
    {
     "name": "stdout",
     "output_type": "stream",
     "text": [
      "테스트 데이터셋 길이: 193\n"
     ]
    },
    {
     "data": {
      "text/html": [],
      "text/plain": [
       "<IPython.core.display.HTML object>"
      ]
     },
     "metadata": {},
     "output_type": "display_data"
    },
    {
     "name": "stdout",
     "output_type": "stream",
     "text": [
      "TEST_08.csv테스트 데이터 전처리 완료\n"
     ]
    },
    {
     "name": "stderr",
     "output_type": "stream",
     "text": [
      "/tmp/ipykernel_1423/342606438.py:22: FutureWarning: The behavior of 'isin' with dtype=datetime64[ns] and castable values (e.g. strings) is deprecated. In a future version, these will not be considered matching by isin. Explicitly cast to the appropriate dtype before calling isin instead.\n",
      "  test_df[\"is_holiday\"] = test_df[\"date\"].isin(kr_holidays).astype(int)\n"
     ]
    },
    {
     "name": "stdout",
     "output_type": "stream",
     "text": [
      "테스트 데이터셋 길이: 193\n"
     ]
    },
    {
     "data": {
      "text/html": [],
      "text/plain": [
       "<IPython.core.display.HTML object>"
      ]
     },
     "metadata": {},
     "output_type": "display_data"
    },
    {
     "name": "stdout",
     "output_type": "stream",
     "text": [
      "TEST_07.csv테스트 데이터 전처리 완료\n"
     ]
    },
    {
     "name": "stderr",
     "output_type": "stream",
     "text": [
      "/tmp/ipykernel_1423/342606438.py:22: FutureWarning: The behavior of 'isin' with dtype=datetime64[ns] and castable values (e.g. strings) is deprecated. In a future version, these will not be considered matching by isin. Explicitly cast to the appropriate dtype before calling isin instead.\n",
      "  test_df[\"is_holiday\"] = test_df[\"date\"].isin(kr_holidays).astype(int)\n"
     ]
    },
    {
     "name": "stdout",
     "output_type": "stream",
     "text": [
      "테스트 데이터셋 길이: 193\n"
     ]
    },
    {
     "data": {
      "text/html": [],
      "text/plain": [
       "<IPython.core.display.HTML object>"
      ]
     },
     "metadata": {},
     "output_type": "display_data"
    },
    {
     "name": "stderr",
     "output_type": "stream",
     "text": [
      "/tmp/ipykernel_1423/342606438.py:22: FutureWarning: The behavior of 'isin' with dtype=datetime64[ns] and castable values (e.g. strings) is deprecated. In a future version, these will not be considered matching by isin. Explicitly cast to the appropriate dtype before calling isin instead.\n",
      "  test_df[\"is_holiday\"] = test_df[\"date\"].isin(kr_holidays).astype(int)\n"
     ]
    },
    {
     "name": "stdout",
     "output_type": "stream",
     "text": [
      "TEST_02.csv테스트 데이터 전처리 완료\n",
      "테스트 데이터셋 길이: 193\n"
     ]
    },
    {
     "data": {
      "text/html": [],
      "text/plain": [
       "<IPython.core.display.HTML object>"
      ]
     },
     "metadata": {},
     "output_type": "display_data"
    },
    {
     "name": "stdout",
     "output_type": "stream",
     "text": [
      "TEST_03.csv테스트 데이터 전처리 완료\n"
     ]
    },
    {
     "name": "stderr",
     "output_type": "stream",
     "text": [
      "/tmp/ipykernel_1423/342606438.py:22: FutureWarning: The behavior of 'isin' with dtype=datetime64[ns] and castable values (e.g. strings) is deprecated. In a future version, these will not be considered matching by isin. Explicitly cast to the appropriate dtype before calling isin instead.\n",
      "  test_df[\"is_holiday\"] = test_df[\"date\"].isin(kr_holidays).astype(int)\n"
     ]
    },
    {
     "name": "stdout",
     "output_type": "stream",
     "text": [
      "테스트 데이터셋 길이: 193\n"
     ]
    },
    {
     "data": {
      "text/html": [],
      "text/plain": [
       "<IPython.core.display.HTML object>"
      ]
     },
     "metadata": {},
     "output_type": "display_data"
    },
    {
     "name": "stdout",
     "output_type": "stream",
     "text": [
      "TEST_01.csv테스트 데이터 전처리 완료\n"
     ]
    },
    {
     "name": "stderr",
     "output_type": "stream",
     "text": [
      "/tmp/ipykernel_1423/342606438.py:22: FutureWarning: The behavior of 'isin' with dtype=datetime64[ns] and castable values (e.g. strings) is deprecated. In a future version, these will not be considered matching by isin. Explicitly cast to the appropriate dtype before calling isin instead.\n",
      "  test_df[\"is_holiday\"] = test_df[\"date\"].isin(kr_holidays).astype(int)\n"
     ]
    },
    {
     "name": "stdout",
     "output_type": "stream",
     "text": [
      "테스트 데이터셋 길이: 193\n"
     ]
    },
    {
     "data": {
      "text/html": [],
      "text/plain": [
       "<IPython.core.display.HTML object>"
      ]
     },
     "metadata": {},
     "output_type": "display_data"
    },
    {
     "name": "stdout",
     "output_type": "stream",
     "text": [
      "TEST_00.csv테스트 데이터 전처리 완료\n"
     ]
    },
    {
     "name": "stderr",
     "output_type": "stream",
     "text": [
      "/tmp/ipykernel_1423/342606438.py:22: FutureWarning: The behavior of 'isin' with dtype=datetime64[ns] and castable values (e.g. strings) is deprecated. In a future version, these will not be considered matching by isin. Explicitly cast to the appropriate dtype before calling isin instead.\n",
      "  test_df[\"is_holiday\"] = test_df[\"date\"].isin(kr_holidays).astype(int)\n"
     ]
    },
    {
     "name": "stdout",
     "output_type": "stream",
     "text": [
      "테스트 데이터셋 길이: 193\n"
     ]
    },
    {
     "data": {
      "text/html": [],
      "text/plain": [
       "<IPython.core.display.HTML object>"
      ]
     },
     "metadata": {},
     "output_type": "display_data"
    },
    {
     "name": "stdout",
     "output_type": "stream",
     "text": [
      "예측 테이블 shape: (70, 193)\n",
      "store_menu  느티나무 셀프BBQ_1인 수저세트  느티나무 셀프BBQ_BBQ55(단체)  느티나무 셀프BBQ_대여료 30,000원  \\\n",
      "영업일자                                                                           \n",
      "TEST_00+1일            2.774321              0.760848                4.503870   \n",
      "TEST_00+2일            0.216953              2.938143                0.200925   \n",
      "TEST_00+3일            0.826007              4.238670                1.485054   \n",
      "TEST_00+4일            1.230420              9.105827                1.090083   \n",
      "TEST_00+5일            2.294197             19.975037                1.934628   \n",
      "TEST_00+6일            3.186938              5.928671                2.549253   \n",
      "TEST_00+7일            6.484167              0.178956                7.137399   \n",
      "\n",
      "store_menu  느티나무 셀프BBQ_대여료 60,000원  느티나무 셀프BBQ_대여료 90,000원  \\\n",
      "영업일자                                                         \n",
      "TEST_00+1일                2.818028                1.386410   \n",
      "TEST_00+2일                0.380724                0.176561   \n",
      "TEST_00+3일                0.652828                0.226761   \n",
      "TEST_00+4일                0.658001                0.288807   \n",
      "TEST_00+5일                1.143849                0.536228   \n",
      "TEST_00+6일                1.356784                0.848461   \n",
      "TEST_00+7일                4.103843                1.806326   \n",
      "\n",
      "store_menu  느티나무 셀프BBQ_본삼겹 (단품,실내)  느티나무 셀프BBQ_스프라이트 (단체)  느티나무 셀프BBQ_신라면  \\\n",
      "영업일자                                                                        \n",
      "TEST_00+1일                0.380170               1.780005        0.306742   \n",
      "TEST_00+2일                0.251448               4.152911        0.163503   \n",
      "TEST_00+3일                0.376134               4.756118        0.315032   \n",
      "TEST_00+4일                0.524297               6.114083        0.649985   \n",
      "TEST_00+5일                0.841177               8.027780        1.312735   \n",
      "TEST_00+6일                0.896457               4.560178        1.557835   \n",
      "TEST_00+7일                0.805288               0.899753        0.834493   \n",
      "\n",
      "store_menu  느티나무 셀프BBQ_쌈야채세트  느티나무 셀프BBQ_쌈장  ...  화담숲주막_스프라이트  화담숲주막_참살이 막걸리  \\\n",
      "영업일자                                         ...                               \n",
      "TEST_00+1일          0.665138       0.508257  ...     3.070423      21.860853   \n",
      "TEST_00+2일          0.072309       0.251946  ...     0.385675       0.129178   \n",
      "TEST_00+3일          0.293374       0.230966  ...     1.223430       5.203166   \n",
      "TEST_00+4일          0.419641       0.166263  ...     0.742644       3.419988   \n",
      "TEST_00+5일          0.871737       0.234325  ...     1.331212       6.450300   \n",
      "TEST_00+6일          1.656361       0.273598  ...     1.586249       7.440247   \n",
      "TEST_00+7일          2.503089       0.439088  ...     4.571783      19.180347   \n",
      "\n",
      "store_menu  화담숲주막_찹쌀식혜  화담숲주막_콜라  화담숲주막_해물파전  화담숲카페_메밀미숫가루  화담숲카페_아메리카노 HOT  \\\n",
      "영업일자                                                                          \n",
      "TEST_00+1일    9.543915  5.329971   62.018108     25.223036         8.254850   \n",
      "TEST_00+2일    0.224800  0.153286    0.000000      0.332897         0.301886   \n",
      "TEST_00+3일    2.321427  0.852030   15.490594      6.187444         3.534690   \n",
      "TEST_00+4일    2.408887  1.192473    7.970457      5.754415         2.165242   \n",
      "TEST_00+5일    4.452290  2.297464   16.554461     12.159782         3.364162   \n",
      "TEST_00+6일    4.787302  2.470891   17.345665     12.319287         3.035255   \n",
      "TEST_00+7일   12.657116  6.762387   54.612091     35.751503         8.203995   \n",
      "\n",
      "store_menu  화담숲카페_아메리카노 ICE  화담숲카페_카페라떼 ICE  화담숲카페_현미뻥스크림  \n",
      "영업일자                                                       \n",
      "TEST_00+1일        14.821895        4.447064     15.377406  \n",
      "TEST_00+2일         1.979228        1.000038      0.080176  \n",
      "TEST_00+3일         7.107104        2.467021      2.816038  \n",
      "TEST_00+4일         7.304157        2.602122      3.533274  \n",
      "TEST_00+5일        13.430461        3.565477      6.377323  \n",
      "TEST_00+6일        10.820767        3.034191      6.869803  \n",
      "TEST_00+7일        30.962799        7.029117     17.045118  \n",
      "\n",
      "[7 rows x 193 columns]\n"
     ]
    }
   ],
   "source": [
    "import os\n",
    "\n",
    "path = \"./dataset/test\"\n",
    "files = os.listdir(path)\n",
    "rows = []\n",
    "\n",
    "for file in files:\n",
    "\n",
    "    test_df = pd.read_csv(os.path.join(path, file))\n",
    "    test_df.columns = [\"date\", \"store_menu\", \"sales\"]\n",
    "    test_df[\"date\"] = pd.to_datetime(test_df[\"date\"])\n",
    "\n",
    "    test_df.loc[test_df['sales'] < 0, 'sales'] = 0\n",
    "    test_df[\"sales\"] = test_df[\"sales\"].astype(float)\n",
    "    test_df[\"sales_log\"] = np.log1p(test_df[\"sales\"])     # target은 이제 sales_log\n",
    "\n",
    "    # 기존 인코더 사용 (encoder는 train 단계에서 fit된 걸 그대로 써야 consistency 보장)\n",
    "    test_df[\"store_menu_id\"] = encoder.transform(test_df[\"store_menu\"])\n",
    "\n",
    "    # 동일한 feature 생성\n",
    "    kr_holidays = holidays.KR(years=test_df['date'].dt.year.unique())\n",
    "    test_df[\"is_holiday\"] = test_df[\"date\"].isin(kr_holidays).astype(int)\n",
    "    test_df[\"is_weekend\"] = test_df[\"date\"].dt.day_of_week.isin([5, 6]).astype(int)\n",
    "    test_df[\"is_ski_season\"] = test_df[\"date\"].dt.month.isin([12, 1, 2]).astype(int)\n",
    "\n",
    "    print(f\"{file}테스트 데이터 전처리 완료\")\n",
    "\n",
    "    # ==============================================\n",
    "    # 2. ForecastDFDataset 변환\n",
    "    # ==============================================\n",
    "    test_dataset = ForecastDFDataset(\n",
    "        test_df,\n",
    "        id_columns=[\"store_menu_id\"],\n",
    "        timestamp_column=\"date\",\n",
    "        target_columns=[\"sales_log\"],\n",
    "        control_columns=[\"is_holiday\", \"is_weekend\", \"is_ski_season\"],\n",
    "        context_length=context_length,\n",
    "        prediction_length=forecast_horizon,\n",
    "    )\n",
    "\n",
    "    print(\"테스트 데이터셋 길이:\", len(test_dataset))\n",
    "\n",
    "    # ==============================================\n",
    "    # 3. 예측 실행 (견고 추출 버전)\n",
    "    # ==============================================\n",
    "    pred_output = trainer.predict(test_dataset)\n",
    "    preds_raw = pred_output.predictions  # 컨테이너일 수 있음\n",
    "\n",
    "\n",
    "    arr = _pick_pred_array(preds_raw, horizon=forecast_horizon, target_ch=0)\n",
    "\n",
    "    # ---- (N, 7)로 정규화 ----\n",
    "    if arr.ndim == 3:\n",
    "        # 흔한 케이스 1: (N, horizon, C)\n",
    "        if arr.shape[-2] == forecast_horizon:\n",
    "            arr = arr[..., 0]                 # sales 채널만\n",
    "        # 흔한 케이스 2: (N, C, horizon)\n",
    "        elif arr.shape[-1] == forecast_horizon:\n",
    "            arr = arr[:, 0, :]                # sales 채널만\n",
    "        # 백업: 두 번째 축이 horizon이면 3번째 축을 잘라본다\n",
    "        elif arr.shape[1] == forecast_horizon:\n",
    "            arr = arr[:, :, 0]\n",
    "        else:\n",
    "            raise ValueError(f\"예상 밖 3D shape: {arr.shape}\")\n",
    "    elif arr.ndim == 2:\n",
    "        # (horizon, N) 이면 전치\n",
    "        if arr.shape[0] == forecast_horizon and arr.shape[1] != forecast_horizon:\n",
    "            arr = arr.T\n",
    "\n",
    "    # 이제 (N, 7)이어야 정상\n",
    "    assert arr.ndim == 2 and arr.shape[1] == forecast_horizon, f\"정규화 실패: {arr.shape}\"\n",
    "\n",
    "    # 로그 역변환 + 음수 방지\n",
    "    y_pred_log = arr\n",
    "    y_pred_sales = np.expm1(y_pred_log)\n",
    "    y_pred_sales = np.clip(y_pred_sales, 0, None)\n",
    "\n",
    "    # 7일 미래 날짜\n",
    "    last_date = test_df[\"date\"].max()\n",
    "    future_dates = pd.date_range(start=last_date + pd.Timedelta(days=1),\n",
    "                                periods=forecast_horizon)\n",
    "\n",
    "    # 매장명 순서 고정 (id 정렬)\n",
    "    keys_df = (\n",
    "        test_df.sort_values([\"store_menu_id\", \"date\"])\n",
    "            .drop_duplicates(\"store_menu_id\")[[\"store_menu_id\", \"store_menu\"]]\n",
    "    )\n",
    "    store_names = keys_df[\"store_menu\"].to_numpy()\n",
    "\n",
    "    # N 검증\n",
    "    assert y_pred_sales.shape[0] == len(store_names), (\n",
    "        f\"N 불일치: preds={y_pred_sales.shape[0]} vs stores={len(store_names)}\"\n",
    "    )\n",
    "\n",
    "    # 매장×7일 테이블\n",
    "    file_name = file.split(\".c\")[0]\n",
    "    for store_name, pred_row in zip(store_names, y_pred_sales):   # pred_row: (7,)\n",
    "        for day_num, (d, yhat) in enumerate(zip(future_dates, pred_row), start=1):\n",
    "            date_str = f\"{file_name}+{day_num}일\"\n",
    "            rows.append({\"date\": date_str, \"store_menu\": store_name, \"y_pred\": float(yhat)})\n",
    "\n",
    "df_result = pd.DataFrame(rows).pivot(index=\"date\", columns=\"store_menu\", values=\"y_pred\")\n",
    "#df_result[\"y_pred_int\"] = df_result[\"y_pred\"].apply(round_with_threshold)  # 결과 정수화를 원할 경우 사용\n",
    "df_result.index.name = \"영업일자\"\n",
    "df_result.to_csv(\"test_predictions.csv\", index=True, encoding=\"utf-8-sig\")\n",
    "\n",
    "print(\"예측 테이블 shape:\", df_result.shape)  # (7, 매장수)\n",
    "print(df_result.head(7))\n"
   ]
  },
  {
   "cell_type": "markdown",
   "id": "a364389c",
   "metadata": {},
   "source": []
  },
  {
   "cell_type": "code",
   "execution_count": null,
   "id": "426add21",
   "metadata": {},
   "outputs": [],
   "source": []
  },
  {
   "cell_type": "code",
   "execution_count": null,
   "id": "d5e5fe0a",
   "metadata": {},
   "outputs": [],
   "source": []
  },
  {
   "cell_type": "code",
   "execution_count": null,
   "id": "98fce606",
   "metadata": {},
   "outputs": [],
   "source": []
  },
  {
   "cell_type": "code",
   "execution_count": null,
   "id": "f0b6f6ea",
   "metadata": {},
   "outputs": [],
   "source": []
  },
  {
   "cell_type": "code",
   "execution_count": null,
   "id": "9a8e8dc9",
   "metadata": {},
   "outputs": [],
   "source": []
  }
 ],
 "metadata": {
  "kernelspec": {
   "display_name": "myenv (3.11.11)",
   "language": "python",
   "name": "python3"
  },
  "language_info": {
   "codemirror_mode": {
    "name": "ipython",
    "version": 3
   },
   "file_extension": ".py",
   "mimetype": "text/x-python",
   "name": "python",
   "nbconvert_exporter": "python",
   "pygments_lexer": "ipython3",
   "version": "3.11.11"
  }
 },
 "nbformat": 4,
 "nbformat_minor": 5
}
